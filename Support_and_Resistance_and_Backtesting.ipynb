{
  "cells": [
    {
      "cell_type": "code",
      "source": [
        "from google.colab import drive \n",
        "drive.mount('/content/drive')"
      ],
      "metadata": {
        "colab": {
          "base_uri": "https://localhost:8080/"
        },
        "id": "55kFZPgxRzoa",
        "outputId": "7b6bedb6-9c90-41e5-8745-e1cb5455320d"
      },
      "execution_count": 1,
      "outputs": [
        {
          "output_type": "stream",
          "name": "stdout",
          "text": [
            "Drive already mounted at /content/drive; to attempt to forcibly remount, call drive.mount(\"/content/drive\", force_remount=True).\n"
          ]
        }
      ]
    },
    {
      "cell_type": "markdown",
      "metadata": {
        "id": "yI9e59tgRnJ1"
      },
      "source": [
        "# Resistance/Support AND Candles Patterns"
      ]
    },
    {
      "cell_type": "code",
      "execution_count": 7,
      "metadata": {
        "colab": {
          "base_uri": "https://localhost:8080/",
          "height": 237
        },
        "id": "uToOmcKxRnJ5",
        "outputId": "bf7368f8-2da1-4716-86b2-f9fdb5f94dc0"
      },
      "outputs": [
        {
          "output_type": "execute_result",
          "data": {
            "text/plain": [
              "                   Open         High          Low        Close    Adj Close  \\\n",
              "Date                                                                          \n",
              "2022-08-23  2594.000000  2653.199951  2591.350098  2646.800049  2646.800049   \n",
              "2022-08-24  2640.100098  2670.000000  2635.350098  2639.750000  2639.750000   \n",
              "2022-08-25  2648.949951  2662.899902  2622.600098  2632.050049  2632.050049   \n",
              "2022-08-26  2633.000000  2650.000000  2607.000000  2618.000000  2618.000000   \n",
              "2022-08-29  2585.000000  2655.000000  2578.050049  2597.649902  2597.649902   \n",
              "\n",
              "             Volume  \n",
              "Date                 \n",
              "2022-08-23  4466619  \n",
              "2022-08-24  4785579  \n",
              "2022-08-25  3632902  \n",
              "2022-08-26  4957449  \n",
              "2022-08-29  9155684  "
            ],
            "text/html": [
              "\n",
              "  <div id=\"df-35d2f80f-ae3a-4a69-b44d-42ec262a1851\">\n",
              "    <div class=\"colab-df-container\">\n",
              "      <div>\n",
              "<style scoped>\n",
              "    .dataframe tbody tr th:only-of-type {\n",
              "        vertical-align: middle;\n",
              "    }\n",
              "\n",
              "    .dataframe tbody tr th {\n",
              "        vertical-align: top;\n",
              "    }\n",
              "\n",
              "    .dataframe thead th {\n",
              "        text-align: right;\n",
              "    }\n",
              "</style>\n",
              "<table border=\"1\" class=\"dataframe\">\n",
              "  <thead>\n",
              "    <tr style=\"text-align: right;\">\n",
              "      <th></th>\n",
              "      <th>Open</th>\n",
              "      <th>High</th>\n",
              "      <th>Low</th>\n",
              "      <th>Close</th>\n",
              "      <th>Adj Close</th>\n",
              "      <th>Volume</th>\n",
              "    </tr>\n",
              "    <tr>\n",
              "      <th>Date</th>\n",
              "      <th></th>\n",
              "      <th></th>\n",
              "      <th></th>\n",
              "      <th></th>\n",
              "      <th></th>\n",
              "      <th></th>\n",
              "    </tr>\n",
              "  </thead>\n",
              "  <tbody>\n",
              "    <tr>\n",
              "      <th>2022-08-23</th>\n",
              "      <td>2594.000000</td>\n",
              "      <td>2653.199951</td>\n",
              "      <td>2591.350098</td>\n",
              "      <td>2646.800049</td>\n",
              "      <td>2646.800049</td>\n",
              "      <td>4466619</td>\n",
              "    </tr>\n",
              "    <tr>\n",
              "      <th>2022-08-24</th>\n",
              "      <td>2640.100098</td>\n",
              "      <td>2670.000000</td>\n",
              "      <td>2635.350098</td>\n",
              "      <td>2639.750000</td>\n",
              "      <td>2639.750000</td>\n",
              "      <td>4785579</td>\n",
              "    </tr>\n",
              "    <tr>\n",
              "      <th>2022-08-25</th>\n",
              "      <td>2648.949951</td>\n",
              "      <td>2662.899902</td>\n",
              "      <td>2622.600098</td>\n",
              "      <td>2632.050049</td>\n",
              "      <td>2632.050049</td>\n",
              "      <td>3632902</td>\n",
              "    </tr>\n",
              "    <tr>\n",
              "      <th>2022-08-26</th>\n",
              "      <td>2633.000000</td>\n",
              "      <td>2650.000000</td>\n",
              "      <td>2607.000000</td>\n",
              "      <td>2618.000000</td>\n",
              "      <td>2618.000000</td>\n",
              "      <td>4957449</td>\n",
              "    </tr>\n",
              "    <tr>\n",
              "      <th>2022-08-29</th>\n",
              "      <td>2585.000000</td>\n",
              "      <td>2655.000000</td>\n",
              "      <td>2578.050049</td>\n",
              "      <td>2597.649902</td>\n",
              "      <td>2597.649902</td>\n",
              "      <td>9155684</td>\n",
              "    </tr>\n",
              "  </tbody>\n",
              "</table>\n",
              "</div>\n",
              "      <button class=\"colab-df-convert\" onclick=\"convertToInteractive('df-35d2f80f-ae3a-4a69-b44d-42ec262a1851')\"\n",
              "              title=\"Convert this dataframe to an interactive table.\"\n",
              "              style=\"display:none;\">\n",
              "        \n",
              "  <svg xmlns=\"http://www.w3.org/2000/svg\" height=\"24px\"viewBox=\"0 0 24 24\"\n",
              "       width=\"24px\">\n",
              "    <path d=\"M0 0h24v24H0V0z\" fill=\"none\"/>\n",
              "    <path d=\"M18.56 5.44l.94 2.06.94-2.06 2.06-.94-2.06-.94-.94-2.06-.94 2.06-2.06.94zm-11 1L8.5 8.5l.94-2.06 2.06-.94-2.06-.94L8.5 2.5l-.94 2.06-2.06.94zm10 10l.94 2.06.94-2.06 2.06-.94-2.06-.94-.94-2.06-.94 2.06-2.06.94z\"/><path d=\"M17.41 7.96l-1.37-1.37c-.4-.4-.92-.59-1.43-.59-.52 0-1.04.2-1.43.59L10.3 9.45l-7.72 7.72c-.78.78-.78 2.05 0 2.83L4 21.41c.39.39.9.59 1.41.59.51 0 1.02-.2 1.41-.59l7.78-7.78 2.81-2.81c.8-.78.8-2.07 0-2.86zM5.41 20L4 18.59l7.72-7.72 1.47 1.35L5.41 20z\"/>\n",
              "  </svg>\n",
              "      </button>\n",
              "      \n",
              "  <style>\n",
              "    .colab-df-container {\n",
              "      display:flex;\n",
              "      flex-wrap:wrap;\n",
              "      gap: 12px;\n",
              "    }\n",
              "\n",
              "    .colab-df-convert {\n",
              "      background-color: #E8F0FE;\n",
              "      border: none;\n",
              "      border-radius: 50%;\n",
              "      cursor: pointer;\n",
              "      display: none;\n",
              "      fill: #1967D2;\n",
              "      height: 32px;\n",
              "      padding: 0 0 0 0;\n",
              "      width: 32px;\n",
              "    }\n",
              "\n",
              "    .colab-df-convert:hover {\n",
              "      background-color: #E2EBFA;\n",
              "      box-shadow: 0px 1px 2px rgba(60, 64, 67, 0.3), 0px 1px 3px 1px rgba(60, 64, 67, 0.15);\n",
              "      fill: #174EA6;\n",
              "    }\n",
              "\n",
              "    [theme=dark] .colab-df-convert {\n",
              "      background-color: #3B4455;\n",
              "      fill: #D2E3FC;\n",
              "    }\n",
              "\n",
              "    [theme=dark] .colab-df-convert:hover {\n",
              "      background-color: #434B5C;\n",
              "      box-shadow: 0px 1px 3px 1px rgba(0, 0, 0, 0.15);\n",
              "      filter: drop-shadow(0px 1px 2px rgba(0, 0, 0, 0.3));\n",
              "      fill: #FFFFFF;\n",
              "    }\n",
              "  </style>\n",
              "\n",
              "      <script>\n",
              "        const buttonEl =\n",
              "          document.querySelector('#df-35d2f80f-ae3a-4a69-b44d-42ec262a1851 button.colab-df-convert');\n",
              "        buttonEl.style.display =\n",
              "          google.colab.kernel.accessAllowed ? 'block' : 'none';\n",
              "\n",
              "        async function convertToInteractive(key) {\n",
              "          const element = document.querySelector('#df-35d2f80f-ae3a-4a69-b44d-42ec262a1851');\n",
              "          const dataTable =\n",
              "            await google.colab.kernel.invokeFunction('convertToInteractive',\n",
              "                                                     [key], {});\n",
              "          if (!dataTable) return;\n",
              "\n",
              "          const docLinkHtml = 'Like what you see? Visit the ' +\n",
              "            '<a target=\"_blank\" href=https://colab.research.google.com/notebooks/data_table.ipynb>data table notebook</a>'\n",
              "            + ' to learn more about interactive tables.';\n",
              "          element.innerHTML = '';\n",
              "          dataTable['output_type'] = 'display_data';\n",
              "          await google.colab.output.renderOutput(dataTable, element);\n",
              "          const docLink = document.createElement('div');\n",
              "          docLink.innerHTML = docLinkHtml;\n",
              "          element.appendChild(docLink);\n",
              "        }\n",
              "      </script>\n",
              "    </div>\n",
              "  </div>\n",
              "  "
            ]
          },
          "metadata": {},
          "execution_count": 7
        }
      ],
      "source": [
        "import pandas as pd\n",
        "df = pd.read_csv('/content/drive/MyDrive/My Drive/My Drive/StokesData_Hackthon/RELIANCE.csv',parse_dates=['Date'],index_col = 'Date')\n",
        "\n",
        "#Check if NA values are in data\n",
        "df=df[df['Volume']!=0]\n",
        "\n",
        "df.isna().sum()\n",
        "df.tail()"
      ]
    },
    {
      "cell_type": "markdown",
      "metadata": {
        "id": "7bE7cXaoRnJ7"
      },
      "source": [
        "# Support and Resitance FUNCTIONS"
      ]
    },
    {
      "cell_type": "code",
      "execution_count": 8,
      "metadata": {
        "id": "4Mioq6JARnJ8"
      },
      "outputs": [],
      "source": [
        "def support(df1, l, n1, n2): #n1 n2 before and after candle l\n",
        "    for i in range(l-n1+1, l+1):\n",
        "        if(df1.Low[i]>df1.Low[i-1]):\n",
        "            return 0\n",
        "    for i in range(l+1,l+n2+1):\n",
        "        if(df1.Low[i]<df1.Low[i-1]):\n",
        "            return 0\n",
        "    return 1\n",
        "\n",
        "def resistance(df1, l, n1, n2): #n1 n2 before and after candle l\n",
        "    for i in range(l-n1+1, l+1):\n",
        "        if(df1.High[i]<df1.High[i-1]):\n",
        "            return 0\n",
        "    for i in range(l+1,l+n2+1):\n",
        "        if(df1.High[i]>df1.High[i-1]):\n",
        "            return 0\n",
        "    return 1"
      ]
    },
    {
      "cell_type": "code",
      "execution_count": 9,
      "metadata": {
        "id": "liJaIzNcRnJ8"
      },
      "outputs": [],
      "source": [
        "Length = len(df)\n",
        "High = list(df['High'])\n",
        "Low = list(df['Low'])\n",
        "Close = list(df['Close'])\n",
        "Open = list(df['Open'])\n",
        "bodydiff = [0] * Length\n",
        "\n",
        "Highdiff = [0] * Length\n",
        "Lowdiff = [0] * Length\n",
        "ratio1 = [0] * Length\n",
        "ratio2 = [0] * Length\n",
        "\n",
        "def isEngulfing(l):\n",
        "    row=l\n",
        "    bodydiff[row] = abs(Open[row]-Close[row])\n",
        "    if bodydiff[row]<0.000001:\n",
        "        bodydiff[row]=0.000001      \n",
        "\n",
        "    bodydiffmin = 0.002\n",
        "    if (bodydiff[row]>bodydiffmin and bodydiff[row-1]>bodydiffmin and\n",
        "        Open[row-1]<Close[row-1] and\n",
        "        Open[row]>Close[row] and \n",
        "        (Open[row]-Close[row-1])>=-0e-5 and Close[row]<Open[row-1]): #+0e-5 -5e-5\n",
        "        return 1\n",
        "\n",
        "    elif(bodydiff[row]>bodydiffmin and bodydiff[row-1]>bodydiffmin and\n",
        "        Open[row-1]>Close[row-1] and\n",
        "        Open[row]<Close[row] and \n",
        "        (Open[row]-Close[row-1])<=+0e-5 and Close[row]>Open[row-1]):#-0e-5 +5e-5\n",
        "        return 2\n",
        "    else:\n",
        "        return 0\n",
        "       \n",
        "def isStar(l):\n",
        "    bodydiffmin = 0.0020\n",
        "    row=l\n",
        "    Highdiff[row] = High[row]-max(Open[row],Close[row])\n",
        "    Lowdiff[row] = min(Open[row],Close[row])-Low[row]\n",
        "    bodydiff[row] = abs(Open[row]-Close[row])\n",
        "    if bodydiff[row]<0.000001:\n",
        "        bodydiff[row]=0.000001\n",
        "    ratio1[row] = Highdiff[row]/bodydiff[row]\n",
        "    ratio2[row] = Lowdiff[row]/bodydiff[row]\n",
        "\n",
        "    if (ratio1[row]>1 and Lowdiff[row]<0.2*Highdiff[row] and bodydiff[row]>bodydiffmin):# and Open[row]>Close[row]):\n",
        "        return 1\n",
        "    elif (ratio2[row]>1 and Highdiff[row]<0.2*Lowdiff[row] and bodydiff[row]>bodydiffmin):# and Open[row]<Close[row]):\n",
        "        return 2\n",
        "    else:\n",
        "        return 0\n",
        "    \n",
        "def CloseResistance(l,levels,lim):\n",
        "    if len(levels)==0:\n",
        "        return 0\n",
        "    C1 = abs(df.High[l]-min(levels, key=lambda x:abs(x-df.High[l])))<=lim\n",
        "    C2 = abs(max(df.Open[l],df.Close[l])-min(levels, key=lambda x:abs(x-df.High[l])))<=lim\n",
        "    C3 = min(df.Open[l],df.Close[l])<min(levels, key=lambda x:abs(x-df.High[l]))\n",
        "    C4 = df.Low[l]<min(levels, key=lambda x:abs(x-df.High[l]))\n",
        "    if( (C1 or C2) and C3 and C4 ):\n",
        "        return 1\n",
        "    else:\n",
        "        return 0\n",
        "    \n",
        "def CloseSupport(l,levels,lim):\n",
        "    if len(levels)==0:\n",
        "        return 0\n",
        "    C1 = abs(df.Low[l]-min(levels, key=lambda x:abs(x-df.Low[l])))<=lim\n",
        "    C2 = abs(min(df.Open[l],df.Close[l])-min(levels, key=lambda x:abs(x-df.Low[l])))<=lim\n",
        "    C3 = max(df.Open[l],df.Close[l])>min(levels, key=lambda x:abs(x-df.Low[l]))\n",
        "    C4 = df.High[l]>min(levels, key=lambda x:abs(x-df.Low[l]))\n",
        "    if( (C1 or C2) and C3 and C4 ):\n",
        "        return 1\n",
        "    else:\n",
        "        return 0"
      ]
    },
    {
      "cell_type": "code",
      "execution_count": 10,
      "metadata": {
        "id": "kJx953QNRnJ-"
      },
      "outputs": [],
      "source": [
        "n1=2\n",
        "n2=2\n",
        "backCandles=45\n",
        "signal = [0] * Length\n",
        "\n",
        "for row in range(backCandles, len(df)-n2):\n",
        "    ss = []\n",
        "    rr = []\n",
        "    for subrow in range(row-backCandles+n1, row+1):\n",
        "        if support(df, subrow, n1, n2):\n",
        "            ss.append(df.Low[subrow])\n",
        "        if resistance(df, subrow, n1, n2):\n",
        "            rr.append(df.High[subrow])\n",
        "    #!!!! parameters\n",
        "    if ((isEngulfing(row)==1 or isStar(row)==1) and CloseResistance(row, rr, 150e-5) ):#and df.RSI[row]<30\n",
        "        signal[row] = 1\n",
        "    elif((isEngulfing(row)==2 or isStar(row)==2) and CloseSupport(row, ss, 150e-5)):#and df.RSI[row]>70\n",
        "        signal[row] = 2\n",
        "    else:\n",
        "        signal[row] = 0\n",
        "\n"
      ]
    },
    {
      "cell_type": "code",
      "execution_count": 11,
      "metadata": {
        "id": "GXauWog0RnJ-"
      },
      "outputs": [],
      "source": [
        "df['signal']=signal"
      ]
    },
    {
      "cell_type": "code",
      "execution_count": 12,
      "metadata": {
        "colab": {
          "base_uri": "https://localhost:8080/"
        },
        "id": "pAUE0GuHRnJ-",
        "outputId": "a5305733-d23d-4a78-9046-d455bd850830"
      },
      "outputs": [
        {
          "output_type": "execute_result",
          "data": {
            "text/plain": [
              "Open         14\n",
              "High         14\n",
              "Low          14\n",
              "Close        14\n",
              "Adj Close    14\n",
              "Volume       14\n",
              "signal       14\n",
              "dtype: int64"
            ]
          },
          "metadata": {},
          "execution_count": 12
        }
      ],
      "source": [
        "df[df['signal']==1].count()"
      ]
    },
    {
      "cell_type": "code",
      "execution_count": 13,
      "metadata": {
        "id": "qf2ROVW3RnJ_"
      },
      "outputs": [],
      "source": [
        "SLTPRatio = 1.1 #TP/SL Ratio\n",
        "def mytarget(barsupfront, df1):\n",
        "    Length = len(df1)\n",
        "    High = list(df1['High'])\n",
        "    Low = list(df1['Low'])\n",
        "    Close = list(df1['Close'])\n",
        "    Open = list(df1['Open'])\n",
        "    signal = list(df1['signal'])\n",
        "    trendcat = [0] * Length\n",
        "    amount = [0] * Length\n",
        "    \n",
        "    SL=0\n",
        "    TP=0\n",
        "    for line in range(backCandles, Length-barsupfront-n2):\n",
        "\n",
        "        if signal[line]==1:\n",
        "            SL = max(High[line-1:line+1])#!!!!! parameters\n",
        "            TP = Close[line]-SLTPRatio*(SL-Close[line])\n",
        "            for i in range(1,barsupfront+1):\n",
        "                if(Low[line+i]<=TP and High[line+i]>=SL):\n",
        "                    trendcat[line]=3\n",
        "                    break\n",
        "                elif (Low[line+i]<=TP):\n",
        "                    trendcat[line]=1 #win trend 1 in signal 1\n",
        "                    amount[line]=Close[line]-Low[line+i]\n",
        "                    break\n",
        "                elif (High[line+i]>=SL):\n",
        "                    trendcat[line]=2 #loss trend 2 in signal 1\n",
        "                    amount[line]=Close[line]-High[line+i]\n",
        "                    break\n",
        "\n",
        "        if signal[line]==2:\n",
        "            SL = min(Low[line-1:line+1])#!!!!! parameters\n",
        "            TP = Close[line]+SLTPRatio*(Close[line]-SL)\n",
        "    \n",
        "            for i in range(1,barsupfront+1):\n",
        "                if(High[line+i]>=TP and Low[line+i]<=SL):\n",
        "                    trendcat[line]=3\n",
        "                    break\n",
        "                elif (High[line+i]>=TP):\n",
        "                    trendcat[line]=2 #win trend 2 in signal 2\n",
        "                    amount[line]=High[line+i]-Close[line]\n",
        "                    break\n",
        "                elif (Low[line+i]<=SL):\n",
        "                    trendcat[line]=1 #loss trend 1 in signal 2\n",
        "                    amount[line]=Low[line+i]-Close[line]\n",
        "                    break\n",
        "    #return trendcat\n",
        "    return amount\n",
        "\n",
        "df['Trend'] = mytarget(16, df)\n",
        "df['Amount'] = mytarget(16, df)"
      ]
    },
    {
      "cell_type": "code",
      "execution_count": 14,
      "metadata": {
        "colab": {
          "base_uri": "https://localhost:8080/",
          "height": 927
        },
        "id": "WKSx4zNWRnJ_",
        "outputId": "83c06f05-0b01-4026-d25a-d73eddce19c0"
      },
      "outputs": [
        {
          "output_type": "execute_result",
          "data": {
            "text/plain": [
              "                   Open         High          Low        Close    Adj Close  \\\n",
              "Date                                                                          \n",
              "2018-11-13  1063.915161  1092.642822  1060.002197  1089.126221  1075.616089   \n",
              "2018-12-26  1075.604370  1089.671021  1055.643555  1088.036499  1074.540039   \n",
              "2019-02-07  1297.946777  1308.793945  1274.023560  1278.283203  1262.426758   \n",
              "2019-03-05  1211.912231  1228.158325  1207.157349  1226.028442  1210.820068   \n",
              "2019-07-04  1269.367676  1278.877563  1267.980835  1271.943237  1256.165405   \n",
              "2019-07-09  1237.222412  1271.447998  1233.804810  1268.079834  1252.349854   \n",
              "2019-08-08  1097.942627  1147.126343  1085.015137  1141.529419  1133.612427   \n",
              "2019-08-23  1227.365845  1271.943237  1214.983154  1263.869751  1255.104248   \n",
              "2019-09-12  1223.403320  1228.802124  1194.378540  1198.984863  1190.669434   \n",
              "2020-04-24  1337.472046  1480.912476  1334.549805  1403.694336  1393.959106   \n",
              "2020-05-07  1441.337524  1499.436890  1431.431519  1492.799805  1482.446655   \n",
              "2020-05-11  1565.163818  1599.835205  1557.536133  1561.993896  1551.160767   \n",
              "2020-06-12  1500.000000  1593.000000  1497.000000  1588.800049  1577.781128   \n",
              "2020-08-17  2105.000000  2105.000000  2070.100098  2091.350098  2084.644043   \n",
              "2020-11-25  1980.000000  1992.949951  1942.199951  1947.800049  1941.554199   \n",
              "2021-03-01  2110.199951  2112.000000  2062.500000  2101.699951  2094.960693   \n",
              "2021-03-19  1991.000000  2095.850098  1982.800049  2082.000000  2075.323730   \n",
              "2021-03-26  2012.000000  2013.699951  1973.699951  1994.650024  1988.253906   \n",
              "2021-03-31  2018.000000  2049.899902  1999.000000  2003.099976  1996.676758   \n",
              "2021-07-23  2134.449951  2134.449951  2102.050049  2105.699951  2105.699951   \n",
              "2021-08-23  2174.000000  2174.000000  2132.300049  2162.350098  2162.350098   \n",
              "2021-09-06  2413.000000  2480.000000  2412.000000  2425.600098  2425.600098   \n",
              "2021-12-03  2498.399902  2498.500000  2400.000000  2408.250000  2408.250000   \n",
              "2022-04-29  2856.149902  2856.149902  2777.300049  2790.250000  2790.250000   \n",
              "2022-06-03  2744.000000  2817.350098  2742.000000  2779.500000  2779.500000   \n",
              "2022-07-11  2376.500000  2428.800049  2370.000000  2423.899902  2423.899902   \n",
              "2022-07-12  2404.000000  2439.699951  2404.000000  2420.449951  2420.449951   \n",
              "\n",
              "              Volume  signal       Trend      Amount  \n",
              "Date                                                  \n",
              "2018-11-13   6876165       2   51.759277   51.759277  \n",
              "2018-12-26   7278403       2   36.553467   36.553467  \n",
              "2019-02-07   9299549       1   39.030029   39.030029  \n",
              "2019-03-05   7189013       2   35.117188   35.117188  \n",
              "2019-07-04   4315672       1   23.774658   23.774658  \n",
              "2019-07-09   8092747       2  -37.048828  -37.048828  \n",
              "2019-08-08  14398134       2  149.037354  149.037354  \n",
              "2019-08-23   9833599       2  -54.334961  -54.334961  \n",
              "2019-09-12   5482620       1   37.346069   37.346069  \n",
              "2020-04-24  62296159       1  -77.218140  -77.218140  \n",
              "2020-05-07  23087436       2   72.264893   72.264893  \n",
              "2020-05-11  30959745       1  110.750244  110.750244  \n",
              "2020-06-12  17790311       2  200.000000  200.000000  \n",
              "2020-08-17  14296834       2   42.949951   42.949951  \n",
              "2020-11-25  15062376       1  -66.449951  -66.449951  \n",
              "2021-03-01   8159670       2  118.199951  118.199951  \n",
              "2021-03-19  19284892       2 -108.300049 -108.300049  \n",
              "2021-03-26   9313160       2   54.249878   54.249878  \n",
              "2021-03-31   7499740       1  102.849976  102.849976  \n",
              "2021-07-23   4585938       1   34.599854   34.599854  \n",
              "2021-08-23   4547802       2   57.649902   57.649902  \n",
              "2021-09-06  15525644       1  -71.399902  -71.399902  \n",
              "2021-12-03   8871172       1  161.149902  161.149902  \n",
              "2022-04-29   8406156       1  113.949951  113.949951  \n",
              "2022-06-03  11048210       1   63.199951   63.199951  \n",
              "2022-07-11   6390604       2  118.600098  118.600098  \n",
              "2022-07-12   4974502       1   47.449951   47.449951  "
            ],
            "text/html": [
              "\n",
              "  <div id=\"df-9177ec1b-0397-4ff9-b5c1-1581156969eb\">\n",
              "    <div class=\"colab-df-container\">\n",
              "      <div>\n",
              "<style scoped>\n",
              "    .dataframe tbody tr th:only-of-type {\n",
              "        vertical-align: middle;\n",
              "    }\n",
              "\n",
              "    .dataframe tbody tr th {\n",
              "        vertical-align: top;\n",
              "    }\n",
              "\n",
              "    .dataframe thead th {\n",
              "        text-align: right;\n",
              "    }\n",
              "</style>\n",
              "<table border=\"1\" class=\"dataframe\">\n",
              "  <thead>\n",
              "    <tr style=\"text-align: right;\">\n",
              "      <th></th>\n",
              "      <th>Open</th>\n",
              "      <th>High</th>\n",
              "      <th>Low</th>\n",
              "      <th>Close</th>\n",
              "      <th>Adj Close</th>\n",
              "      <th>Volume</th>\n",
              "      <th>signal</th>\n",
              "      <th>Trend</th>\n",
              "      <th>Amount</th>\n",
              "    </tr>\n",
              "    <tr>\n",
              "      <th>Date</th>\n",
              "      <th></th>\n",
              "      <th></th>\n",
              "      <th></th>\n",
              "      <th></th>\n",
              "      <th></th>\n",
              "      <th></th>\n",
              "      <th></th>\n",
              "      <th></th>\n",
              "      <th></th>\n",
              "    </tr>\n",
              "  </thead>\n",
              "  <tbody>\n",
              "    <tr>\n",
              "      <th>2018-11-13</th>\n",
              "      <td>1063.915161</td>\n",
              "      <td>1092.642822</td>\n",
              "      <td>1060.002197</td>\n",
              "      <td>1089.126221</td>\n",
              "      <td>1075.616089</td>\n",
              "      <td>6876165</td>\n",
              "      <td>2</td>\n",
              "      <td>51.759277</td>\n",
              "      <td>51.759277</td>\n",
              "    </tr>\n",
              "    <tr>\n",
              "      <th>2018-12-26</th>\n",
              "      <td>1075.604370</td>\n",
              "      <td>1089.671021</td>\n",
              "      <td>1055.643555</td>\n",
              "      <td>1088.036499</td>\n",
              "      <td>1074.540039</td>\n",
              "      <td>7278403</td>\n",
              "      <td>2</td>\n",
              "      <td>36.553467</td>\n",
              "      <td>36.553467</td>\n",
              "    </tr>\n",
              "    <tr>\n",
              "      <th>2019-02-07</th>\n",
              "      <td>1297.946777</td>\n",
              "      <td>1308.793945</td>\n",
              "      <td>1274.023560</td>\n",
              "      <td>1278.283203</td>\n",
              "      <td>1262.426758</td>\n",
              "      <td>9299549</td>\n",
              "      <td>1</td>\n",
              "      <td>39.030029</td>\n",
              "      <td>39.030029</td>\n",
              "    </tr>\n",
              "    <tr>\n",
              "      <th>2019-03-05</th>\n",
              "      <td>1211.912231</td>\n",
              "      <td>1228.158325</td>\n",
              "      <td>1207.157349</td>\n",
              "      <td>1226.028442</td>\n",
              "      <td>1210.820068</td>\n",
              "      <td>7189013</td>\n",
              "      <td>2</td>\n",
              "      <td>35.117188</td>\n",
              "      <td>35.117188</td>\n",
              "    </tr>\n",
              "    <tr>\n",
              "      <th>2019-07-04</th>\n",
              "      <td>1269.367676</td>\n",
              "      <td>1278.877563</td>\n",
              "      <td>1267.980835</td>\n",
              "      <td>1271.943237</td>\n",
              "      <td>1256.165405</td>\n",
              "      <td>4315672</td>\n",
              "      <td>1</td>\n",
              "      <td>23.774658</td>\n",
              "      <td>23.774658</td>\n",
              "    </tr>\n",
              "    <tr>\n",
              "      <th>2019-07-09</th>\n",
              "      <td>1237.222412</td>\n",
              "      <td>1271.447998</td>\n",
              "      <td>1233.804810</td>\n",
              "      <td>1268.079834</td>\n",
              "      <td>1252.349854</td>\n",
              "      <td>8092747</td>\n",
              "      <td>2</td>\n",
              "      <td>-37.048828</td>\n",
              "      <td>-37.048828</td>\n",
              "    </tr>\n",
              "    <tr>\n",
              "      <th>2019-08-08</th>\n",
              "      <td>1097.942627</td>\n",
              "      <td>1147.126343</td>\n",
              "      <td>1085.015137</td>\n",
              "      <td>1141.529419</td>\n",
              "      <td>1133.612427</td>\n",
              "      <td>14398134</td>\n",
              "      <td>2</td>\n",
              "      <td>149.037354</td>\n",
              "      <td>149.037354</td>\n",
              "    </tr>\n",
              "    <tr>\n",
              "      <th>2019-08-23</th>\n",
              "      <td>1227.365845</td>\n",
              "      <td>1271.943237</td>\n",
              "      <td>1214.983154</td>\n",
              "      <td>1263.869751</td>\n",
              "      <td>1255.104248</td>\n",
              "      <td>9833599</td>\n",
              "      <td>2</td>\n",
              "      <td>-54.334961</td>\n",
              "      <td>-54.334961</td>\n",
              "    </tr>\n",
              "    <tr>\n",
              "      <th>2019-09-12</th>\n",
              "      <td>1223.403320</td>\n",
              "      <td>1228.802124</td>\n",
              "      <td>1194.378540</td>\n",
              "      <td>1198.984863</td>\n",
              "      <td>1190.669434</td>\n",
              "      <td>5482620</td>\n",
              "      <td>1</td>\n",
              "      <td>37.346069</td>\n",
              "      <td>37.346069</td>\n",
              "    </tr>\n",
              "    <tr>\n",
              "      <th>2020-04-24</th>\n",
              "      <td>1337.472046</td>\n",
              "      <td>1480.912476</td>\n",
              "      <td>1334.549805</td>\n",
              "      <td>1403.694336</td>\n",
              "      <td>1393.959106</td>\n",
              "      <td>62296159</td>\n",
              "      <td>1</td>\n",
              "      <td>-77.218140</td>\n",
              "      <td>-77.218140</td>\n",
              "    </tr>\n",
              "    <tr>\n",
              "      <th>2020-05-07</th>\n",
              "      <td>1441.337524</td>\n",
              "      <td>1499.436890</td>\n",
              "      <td>1431.431519</td>\n",
              "      <td>1492.799805</td>\n",
              "      <td>1482.446655</td>\n",
              "      <td>23087436</td>\n",
              "      <td>2</td>\n",
              "      <td>72.264893</td>\n",
              "      <td>72.264893</td>\n",
              "    </tr>\n",
              "    <tr>\n",
              "      <th>2020-05-11</th>\n",
              "      <td>1565.163818</td>\n",
              "      <td>1599.835205</td>\n",
              "      <td>1557.536133</td>\n",
              "      <td>1561.993896</td>\n",
              "      <td>1551.160767</td>\n",
              "      <td>30959745</td>\n",
              "      <td>1</td>\n",
              "      <td>110.750244</td>\n",
              "      <td>110.750244</td>\n",
              "    </tr>\n",
              "    <tr>\n",
              "      <th>2020-06-12</th>\n",
              "      <td>1500.000000</td>\n",
              "      <td>1593.000000</td>\n",
              "      <td>1497.000000</td>\n",
              "      <td>1588.800049</td>\n",
              "      <td>1577.781128</td>\n",
              "      <td>17790311</td>\n",
              "      <td>2</td>\n",
              "      <td>200.000000</td>\n",
              "      <td>200.000000</td>\n",
              "    </tr>\n",
              "    <tr>\n",
              "      <th>2020-08-17</th>\n",
              "      <td>2105.000000</td>\n",
              "      <td>2105.000000</td>\n",
              "      <td>2070.100098</td>\n",
              "      <td>2091.350098</td>\n",
              "      <td>2084.644043</td>\n",
              "      <td>14296834</td>\n",
              "      <td>2</td>\n",
              "      <td>42.949951</td>\n",
              "      <td>42.949951</td>\n",
              "    </tr>\n",
              "    <tr>\n",
              "      <th>2020-11-25</th>\n",
              "      <td>1980.000000</td>\n",
              "      <td>1992.949951</td>\n",
              "      <td>1942.199951</td>\n",
              "      <td>1947.800049</td>\n",
              "      <td>1941.554199</td>\n",
              "      <td>15062376</td>\n",
              "      <td>1</td>\n",
              "      <td>-66.449951</td>\n",
              "      <td>-66.449951</td>\n",
              "    </tr>\n",
              "    <tr>\n",
              "      <th>2021-03-01</th>\n",
              "      <td>2110.199951</td>\n",
              "      <td>2112.000000</td>\n",
              "      <td>2062.500000</td>\n",
              "      <td>2101.699951</td>\n",
              "      <td>2094.960693</td>\n",
              "      <td>8159670</td>\n",
              "      <td>2</td>\n",
              "      <td>118.199951</td>\n",
              "      <td>118.199951</td>\n",
              "    </tr>\n",
              "    <tr>\n",
              "      <th>2021-03-19</th>\n",
              "      <td>1991.000000</td>\n",
              "      <td>2095.850098</td>\n",
              "      <td>1982.800049</td>\n",
              "      <td>2082.000000</td>\n",
              "      <td>2075.323730</td>\n",
              "      <td>19284892</td>\n",
              "      <td>2</td>\n",
              "      <td>-108.300049</td>\n",
              "      <td>-108.300049</td>\n",
              "    </tr>\n",
              "    <tr>\n",
              "      <th>2021-03-26</th>\n",
              "      <td>2012.000000</td>\n",
              "      <td>2013.699951</td>\n",
              "      <td>1973.699951</td>\n",
              "      <td>1994.650024</td>\n",
              "      <td>1988.253906</td>\n",
              "      <td>9313160</td>\n",
              "      <td>2</td>\n",
              "      <td>54.249878</td>\n",
              "      <td>54.249878</td>\n",
              "    </tr>\n",
              "    <tr>\n",
              "      <th>2021-03-31</th>\n",
              "      <td>2018.000000</td>\n",
              "      <td>2049.899902</td>\n",
              "      <td>1999.000000</td>\n",
              "      <td>2003.099976</td>\n",
              "      <td>1996.676758</td>\n",
              "      <td>7499740</td>\n",
              "      <td>1</td>\n",
              "      <td>102.849976</td>\n",
              "      <td>102.849976</td>\n",
              "    </tr>\n",
              "    <tr>\n",
              "      <th>2021-07-23</th>\n",
              "      <td>2134.449951</td>\n",
              "      <td>2134.449951</td>\n",
              "      <td>2102.050049</td>\n",
              "      <td>2105.699951</td>\n",
              "      <td>2105.699951</td>\n",
              "      <td>4585938</td>\n",
              "      <td>1</td>\n",
              "      <td>34.599854</td>\n",
              "      <td>34.599854</td>\n",
              "    </tr>\n",
              "    <tr>\n",
              "      <th>2021-08-23</th>\n",
              "      <td>2174.000000</td>\n",
              "      <td>2174.000000</td>\n",
              "      <td>2132.300049</td>\n",
              "      <td>2162.350098</td>\n",
              "      <td>2162.350098</td>\n",
              "      <td>4547802</td>\n",
              "      <td>2</td>\n",
              "      <td>57.649902</td>\n",
              "      <td>57.649902</td>\n",
              "    </tr>\n",
              "    <tr>\n",
              "      <th>2021-09-06</th>\n",
              "      <td>2413.000000</td>\n",
              "      <td>2480.000000</td>\n",
              "      <td>2412.000000</td>\n",
              "      <td>2425.600098</td>\n",
              "      <td>2425.600098</td>\n",
              "      <td>15525644</td>\n",
              "      <td>1</td>\n",
              "      <td>-71.399902</td>\n",
              "      <td>-71.399902</td>\n",
              "    </tr>\n",
              "    <tr>\n",
              "      <th>2021-12-03</th>\n",
              "      <td>2498.399902</td>\n",
              "      <td>2498.500000</td>\n",
              "      <td>2400.000000</td>\n",
              "      <td>2408.250000</td>\n",
              "      <td>2408.250000</td>\n",
              "      <td>8871172</td>\n",
              "      <td>1</td>\n",
              "      <td>161.149902</td>\n",
              "      <td>161.149902</td>\n",
              "    </tr>\n",
              "    <tr>\n",
              "      <th>2022-04-29</th>\n",
              "      <td>2856.149902</td>\n",
              "      <td>2856.149902</td>\n",
              "      <td>2777.300049</td>\n",
              "      <td>2790.250000</td>\n",
              "      <td>2790.250000</td>\n",
              "      <td>8406156</td>\n",
              "      <td>1</td>\n",
              "      <td>113.949951</td>\n",
              "      <td>113.949951</td>\n",
              "    </tr>\n",
              "    <tr>\n",
              "      <th>2022-06-03</th>\n",
              "      <td>2744.000000</td>\n",
              "      <td>2817.350098</td>\n",
              "      <td>2742.000000</td>\n",
              "      <td>2779.500000</td>\n",
              "      <td>2779.500000</td>\n",
              "      <td>11048210</td>\n",
              "      <td>1</td>\n",
              "      <td>63.199951</td>\n",
              "      <td>63.199951</td>\n",
              "    </tr>\n",
              "    <tr>\n",
              "      <th>2022-07-11</th>\n",
              "      <td>2376.500000</td>\n",
              "      <td>2428.800049</td>\n",
              "      <td>2370.000000</td>\n",
              "      <td>2423.899902</td>\n",
              "      <td>2423.899902</td>\n",
              "      <td>6390604</td>\n",
              "      <td>2</td>\n",
              "      <td>118.600098</td>\n",
              "      <td>118.600098</td>\n",
              "    </tr>\n",
              "    <tr>\n",
              "      <th>2022-07-12</th>\n",
              "      <td>2404.000000</td>\n",
              "      <td>2439.699951</td>\n",
              "      <td>2404.000000</td>\n",
              "      <td>2420.449951</td>\n",
              "      <td>2420.449951</td>\n",
              "      <td>4974502</td>\n",
              "      <td>1</td>\n",
              "      <td>47.449951</td>\n",
              "      <td>47.449951</td>\n",
              "    </tr>\n",
              "  </tbody>\n",
              "</table>\n",
              "</div>\n",
              "      <button class=\"colab-df-convert\" onclick=\"convertToInteractive('df-9177ec1b-0397-4ff9-b5c1-1581156969eb')\"\n",
              "              title=\"Convert this dataframe to an interactive table.\"\n",
              "              style=\"display:none;\">\n",
              "        \n",
              "  <svg xmlns=\"http://www.w3.org/2000/svg\" height=\"24px\"viewBox=\"0 0 24 24\"\n",
              "       width=\"24px\">\n",
              "    <path d=\"M0 0h24v24H0V0z\" fill=\"none\"/>\n",
              "    <path d=\"M18.56 5.44l.94 2.06.94-2.06 2.06-.94-2.06-.94-.94-2.06-.94 2.06-2.06.94zm-11 1L8.5 8.5l.94-2.06 2.06-.94-2.06-.94L8.5 2.5l-.94 2.06-2.06.94zm10 10l.94 2.06.94-2.06 2.06-.94-2.06-.94-.94-2.06-.94 2.06-2.06.94z\"/><path d=\"M17.41 7.96l-1.37-1.37c-.4-.4-.92-.59-1.43-.59-.52 0-1.04.2-1.43.59L10.3 9.45l-7.72 7.72c-.78.78-.78 2.05 0 2.83L4 21.41c.39.39.9.59 1.41.59.51 0 1.02-.2 1.41-.59l7.78-7.78 2.81-2.81c.8-.78.8-2.07 0-2.86zM5.41 20L4 18.59l7.72-7.72 1.47 1.35L5.41 20z\"/>\n",
              "  </svg>\n",
              "      </button>\n",
              "      \n",
              "  <style>\n",
              "    .colab-df-container {\n",
              "      display:flex;\n",
              "      flex-wrap:wrap;\n",
              "      gap: 12px;\n",
              "    }\n",
              "\n",
              "    .colab-df-convert {\n",
              "      background-color: #E8F0FE;\n",
              "      border: none;\n",
              "      border-radius: 50%;\n",
              "      cursor: pointer;\n",
              "      display: none;\n",
              "      fill: #1967D2;\n",
              "      height: 32px;\n",
              "      padding: 0 0 0 0;\n",
              "      width: 32px;\n",
              "    }\n",
              "\n",
              "    .colab-df-convert:hover {\n",
              "      background-color: #E2EBFA;\n",
              "      box-shadow: 0px 1px 2px rgba(60, 64, 67, 0.3), 0px 1px 3px 1px rgba(60, 64, 67, 0.15);\n",
              "      fill: #174EA6;\n",
              "    }\n",
              "\n",
              "    [theme=dark] .colab-df-convert {\n",
              "      background-color: #3B4455;\n",
              "      fill: #D2E3FC;\n",
              "    }\n",
              "\n",
              "    [theme=dark] .colab-df-convert:hover {\n",
              "      background-color: #434B5C;\n",
              "      box-shadow: 0px 1px 3px 1px rgba(0, 0, 0, 0.15);\n",
              "      filter: drop-shadow(0px 1px 2px rgba(0, 0, 0, 0.3));\n",
              "      fill: #FFFFFF;\n",
              "    }\n",
              "  </style>\n",
              "\n",
              "      <script>\n",
              "        const buttonEl =\n",
              "          document.querySelector('#df-9177ec1b-0397-4ff9-b5c1-1581156969eb button.colab-df-convert');\n",
              "        buttonEl.style.display =\n",
              "          google.colab.kernel.accessAllowed ? 'block' : 'none';\n",
              "\n",
              "        async function convertToInteractive(key) {\n",
              "          const element = document.querySelector('#df-9177ec1b-0397-4ff9-b5c1-1581156969eb');\n",
              "          const dataTable =\n",
              "            await google.colab.kernel.invokeFunction('convertToInteractive',\n",
              "                                                     [key], {});\n",
              "          if (!dataTable) return;\n",
              "\n",
              "          const docLinkHtml = 'Like what you see? Visit the ' +\n",
              "            '<a target=\"_blank\" href=https://colab.research.google.com/notebooks/data_table.ipynb>data table notebook</a>'\n",
              "            + ' to learn more about interactive tables.';\n",
              "          element.innerHTML = '';\n",
              "          dataTable['output_type'] = 'display_data';\n",
              "          await google.colab.output.renderOutput(dataTable, element);\n",
              "          const docLink = document.createElement('div');\n",
              "          docLink.innerHTML = docLinkHtml;\n",
              "          element.appendChild(docLink);\n",
              "        }\n",
              "      </script>\n",
              "    </div>\n",
              "  </div>\n",
              "  "
            ]
          },
          "metadata": {},
          "execution_count": 14
        }
      ],
      "source": [
        "df[df['Amount']!=0]\n",
        "#df['Amount'].sum()/18"
      ]
    },
    {
      "cell_type": "code",
      "execution_count": 15,
      "metadata": {
        "colab": {
          "base_uri": "https://localhost:8080/",
          "height": 537
        },
        "id": "537Qm4XnRnKA",
        "outputId": "cbbea6b2-1a6a-4ec2-e5b3-c3705a4c3574"
      },
      "outputs": [
        {
          "output_type": "stream",
          "name": "stdout",
          "text": [
            "0.0\n"
          ]
        },
        {
          "output_type": "execute_result",
          "data": {
            "text/plain": [
              "                   Open         High          Low        Close    Adj Close  \\\n",
              "Date                                                                          \n",
              "2019-02-07  1297.946777  1308.793945  1274.023560  1278.283203  1262.426758   \n",
              "2019-07-04  1269.367676  1278.877563  1267.980835  1271.943237  1256.165405   \n",
              "2019-09-12  1223.403320  1228.802124  1194.378540  1198.984863  1190.669434   \n",
              "2020-04-24  1337.472046  1480.912476  1334.549805  1403.694336  1393.959106   \n",
              "2020-05-11  1565.163818  1599.835205  1557.536133  1561.993896  1551.160767   \n",
              "2020-11-25  1980.000000  1992.949951  1942.199951  1947.800049  1941.554199   \n",
              "2021-03-31  2018.000000  2049.899902  1999.000000  2003.099976  1996.676758   \n",
              "2021-07-23  2134.449951  2134.449951  2102.050049  2105.699951  2105.699951   \n",
              "2021-09-06  2413.000000  2480.000000  2412.000000  2425.600098  2425.600098   \n",
              "2021-12-03  2498.399902  2498.500000  2400.000000  2408.250000  2408.250000   \n",
              "2022-04-29  2856.149902  2856.149902  2777.300049  2790.250000  2790.250000   \n",
              "2022-06-03  2744.000000  2817.350098  2742.000000  2779.500000  2779.500000   \n",
              "2022-07-12  2404.000000  2439.699951  2404.000000  2420.449951  2420.449951   \n",
              "2022-08-24  2640.100098  2670.000000  2635.350098  2639.750000  2639.750000   \n",
              "\n",
              "              Volume  signal       Trend      Amount  result  \n",
              "Date                                                          \n",
              "2019-02-07   9299549       1   39.030029   39.030029       0  \n",
              "2019-07-04   4315672       1   23.774658   23.774658       0  \n",
              "2019-09-12   5482620       1   37.346069   37.346069       0  \n",
              "2020-04-24  62296159       1  -77.218140  -77.218140       0  \n",
              "2020-05-11  30959745       1  110.750244  110.750244       0  \n",
              "2020-11-25  15062376       1  -66.449951  -66.449951       0  \n",
              "2021-03-31   7499740       1  102.849976  102.849976       0  \n",
              "2021-07-23   4585938       1   34.599854   34.599854       0  \n",
              "2021-09-06  15525644       1  -71.399902  -71.399902       0  \n",
              "2021-12-03   8871172       1  161.149902  161.149902       0  \n",
              "2022-04-29   8406156       1  113.949951  113.949951       0  \n",
              "2022-06-03  11048210       1   63.199951   63.199951       0  \n",
              "2022-07-12   4974502       1   47.449951   47.449951       0  \n",
              "2022-08-24   4785579       1    0.000000    0.000000       0  "
            ],
            "text/html": [
              "\n",
              "  <div id=\"df-f6a9514a-5ccc-4277-a14b-4f5d7d898171\">\n",
              "    <div class=\"colab-df-container\">\n",
              "      <div>\n",
              "<style scoped>\n",
              "    .dataframe tbody tr th:only-of-type {\n",
              "        vertical-align: middle;\n",
              "    }\n",
              "\n",
              "    .dataframe tbody tr th {\n",
              "        vertical-align: top;\n",
              "    }\n",
              "\n",
              "    .dataframe thead th {\n",
              "        text-align: right;\n",
              "    }\n",
              "</style>\n",
              "<table border=\"1\" class=\"dataframe\">\n",
              "  <thead>\n",
              "    <tr style=\"text-align: right;\">\n",
              "      <th></th>\n",
              "      <th>Open</th>\n",
              "      <th>High</th>\n",
              "      <th>Low</th>\n",
              "      <th>Close</th>\n",
              "      <th>Adj Close</th>\n",
              "      <th>Volume</th>\n",
              "      <th>signal</th>\n",
              "      <th>Trend</th>\n",
              "      <th>Amount</th>\n",
              "      <th>result</th>\n",
              "    </tr>\n",
              "    <tr>\n",
              "      <th>Date</th>\n",
              "      <th></th>\n",
              "      <th></th>\n",
              "      <th></th>\n",
              "      <th></th>\n",
              "      <th></th>\n",
              "      <th></th>\n",
              "      <th></th>\n",
              "      <th></th>\n",
              "      <th></th>\n",
              "      <th></th>\n",
              "    </tr>\n",
              "  </thead>\n",
              "  <tbody>\n",
              "    <tr>\n",
              "      <th>2019-02-07</th>\n",
              "      <td>1297.946777</td>\n",
              "      <td>1308.793945</td>\n",
              "      <td>1274.023560</td>\n",
              "      <td>1278.283203</td>\n",
              "      <td>1262.426758</td>\n",
              "      <td>9299549</td>\n",
              "      <td>1</td>\n",
              "      <td>39.030029</td>\n",
              "      <td>39.030029</td>\n",
              "      <td>0</td>\n",
              "    </tr>\n",
              "    <tr>\n",
              "      <th>2019-07-04</th>\n",
              "      <td>1269.367676</td>\n",
              "      <td>1278.877563</td>\n",
              "      <td>1267.980835</td>\n",
              "      <td>1271.943237</td>\n",
              "      <td>1256.165405</td>\n",
              "      <td>4315672</td>\n",
              "      <td>1</td>\n",
              "      <td>23.774658</td>\n",
              "      <td>23.774658</td>\n",
              "      <td>0</td>\n",
              "    </tr>\n",
              "    <tr>\n",
              "      <th>2019-09-12</th>\n",
              "      <td>1223.403320</td>\n",
              "      <td>1228.802124</td>\n",
              "      <td>1194.378540</td>\n",
              "      <td>1198.984863</td>\n",
              "      <td>1190.669434</td>\n",
              "      <td>5482620</td>\n",
              "      <td>1</td>\n",
              "      <td>37.346069</td>\n",
              "      <td>37.346069</td>\n",
              "      <td>0</td>\n",
              "    </tr>\n",
              "    <tr>\n",
              "      <th>2020-04-24</th>\n",
              "      <td>1337.472046</td>\n",
              "      <td>1480.912476</td>\n",
              "      <td>1334.549805</td>\n",
              "      <td>1403.694336</td>\n",
              "      <td>1393.959106</td>\n",
              "      <td>62296159</td>\n",
              "      <td>1</td>\n",
              "      <td>-77.218140</td>\n",
              "      <td>-77.218140</td>\n",
              "      <td>0</td>\n",
              "    </tr>\n",
              "    <tr>\n",
              "      <th>2020-05-11</th>\n",
              "      <td>1565.163818</td>\n",
              "      <td>1599.835205</td>\n",
              "      <td>1557.536133</td>\n",
              "      <td>1561.993896</td>\n",
              "      <td>1551.160767</td>\n",
              "      <td>30959745</td>\n",
              "      <td>1</td>\n",
              "      <td>110.750244</td>\n",
              "      <td>110.750244</td>\n",
              "      <td>0</td>\n",
              "    </tr>\n",
              "    <tr>\n",
              "      <th>2020-11-25</th>\n",
              "      <td>1980.000000</td>\n",
              "      <td>1992.949951</td>\n",
              "      <td>1942.199951</td>\n",
              "      <td>1947.800049</td>\n",
              "      <td>1941.554199</td>\n",
              "      <td>15062376</td>\n",
              "      <td>1</td>\n",
              "      <td>-66.449951</td>\n",
              "      <td>-66.449951</td>\n",
              "      <td>0</td>\n",
              "    </tr>\n",
              "    <tr>\n",
              "      <th>2021-03-31</th>\n",
              "      <td>2018.000000</td>\n",
              "      <td>2049.899902</td>\n",
              "      <td>1999.000000</td>\n",
              "      <td>2003.099976</td>\n",
              "      <td>1996.676758</td>\n",
              "      <td>7499740</td>\n",
              "      <td>1</td>\n",
              "      <td>102.849976</td>\n",
              "      <td>102.849976</td>\n",
              "      <td>0</td>\n",
              "    </tr>\n",
              "    <tr>\n",
              "      <th>2021-07-23</th>\n",
              "      <td>2134.449951</td>\n",
              "      <td>2134.449951</td>\n",
              "      <td>2102.050049</td>\n",
              "      <td>2105.699951</td>\n",
              "      <td>2105.699951</td>\n",
              "      <td>4585938</td>\n",
              "      <td>1</td>\n",
              "      <td>34.599854</td>\n",
              "      <td>34.599854</td>\n",
              "      <td>0</td>\n",
              "    </tr>\n",
              "    <tr>\n",
              "      <th>2021-09-06</th>\n",
              "      <td>2413.000000</td>\n",
              "      <td>2480.000000</td>\n",
              "      <td>2412.000000</td>\n",
              "      <td>2425.600098</td>\n",
              "      <td>2425.600098</td>\n",
              "      <td>15525644</td>\n",
              "      <td>1</td>\n",
              "      <td>-71.399902</td>\n",
              "      <td>-71.399902</td>\n",
              "      <td>0</td>\n",
              "    </tr>\n",
              "    <tr>\n",
              "      <th>2021-12-03</th>\n",
              "      <td>2498.399902</td>\n",
              "      <td>2498.500000</td>\n",
              "      <td>2400.000000</td>\n",
              "      <td>2408.250000</td>\n",
              "      <td>2408.250000</td>\n",
              "      <td>8871172</td>\n",
              "      <td>1</td>\n",
              "      <td>161.149902</td>\n",
              "      <td>161.149902</td>\n",
              "      <td>0</td>\n",
              "    </tr>\n",
              "    <tr>\n",
              "      <th>2022-04-29</th>\n",
              "      <td>2856.149902</td>\n",
              "      <td>2856.149902</td>\n",
              "      <td>2777.300049</td>\n",
              "      <td>2790.250000</td>\n",
              "      <td>2790.250000</td>\n",
              "      <td>8406156</td>\n",
              "      <td>1</td>\n",
              "      <td>113.949951</td>\n",
              "      <td>113.949951</td>\n",
              "      <td>0</td>\n",
              "    </tr>\n",
              "    <tr>\n",
              "      <th>2022-06-03</th>\n",
              "      <td>2744.000000</td>\n",
              "      <td>2817.350098</td>\n",
              "      <td>2742.000000</td>\n",
              "      <td>2779.500000</td>\n",
              "      <td>2779.500000</td>\n",
              "      <td>11048210</td>\n",
              "      <td>1</td>\n",
              "      <td>63.199951</td>\n",
              "      <td>63.199951</td>\n",
              "      <td>0</td>\n",
              "    </tr>\n",
              "    <tr>\n",
              "      <th>2022-07-12</th>\n",
              "      <td>2404.000000</td>\n",
              "      <td>2439.699951</td>\n",
              "      <td>2404.000000</td>\n",
              "      <td>2420.449951</td>\n",
              "      <td>2420.449951</td>\n",
              "      <td>4974502</td>\n",
              "      <td>1</td>\n",
              "      <td>47.449951</td>\n",
              "      <td>47.449951</td>\n",
              "      <td>0</td>\n",
              "    </tr>\n",
              "    <tr>\n",
              "      <th>2022-08-24</th>\n",
              "      <td>2640.100098</td>\n",
              "      <td>2670.000000</td>\n",
              "      <td>2635.350098</td>\n",
              "      <td>2639.750000</td>\n",
              "      <td>2639.750000</td>\n",
              "      <td>4785579</td>\n",
              "      <td>1</td>\n",
              "      <td>0.000000</td>\n",
              "      <td>0.000000</td>\n",
              "      <td>0</td>\n",
              "    </tr>\n",
              "  </tbody>\n",
              "</table>\n",
              "</div>\n",
              "      <button class=\"colab-df-convert\" onclick=\"convertToInteractive('df-f6a9514a-5ccc-4277-a14b-4f5d7d898171')\"\n",
              "              title=\"Convert this dataframe to an interactive table.\"\n",
              "              style=\"display:none;\">\n",
              "        \n",
              "  <svg xmlns=\"http://www.w3.org/2000/svg\" height=\"24px\"viewBox=\"0 0 24 24\"\n",
              "       width=\"24px\">\n",
              "    <path d=\"M0 0h24v24H0V0z\" fill=\"none\"/>\n",
              "    <path d=\"M18.56 5.44l.94 2.06.94-2.06 2.06-.94-2.06-.94-.94-2.06-.94 2.06-2.06.94zm-11 1L8.5 8.5l.94-2.06 2.06-.94-2.06-.94L8.5 2.5l-.94 2.06-2.06.94zm10 10l.94 2.06.94-2.06 2.06-.94-2.06-.94-.94-2.06-.94 2.06-2.06.94z\"/><path d=\"M17.41 7.96l-1.37-1.37c-.4-.4-.92-.59-1.43-.59-.52 0-1.04.2-1.43.59L10.3 9.45l-7.72 7.72c-.78.78-.78 2.05 0 2.83L4 21.41c.39.39.9.59 1.41.59.51 0 1.02-.2 1.41-.59l7.78-7.78 2.81-2.81c.8-.78.8-2.07 0-2.86zM5.41 20L4 18.59l7.72-7.72 1.47 1.35L5.41 20z\"/>\n",
              "  </svg>\n",
              "      </button>\n",
              "      \n",
              "  <style>\n",
              "    .colab-df-container {\n",
              "      display:flex;\n",
              "      flex-wrap:wrap;\n",
              "      gap: 12px;\n",
              "    }\n",
              "\n",
              "    .colab-df-convert {\n",
              "      background-color: #E8F0FE;\n",
              "      border: none;\n",
              "      border-radius: 50%;\n",
              "      cursor: pointer;\n",
              "      display: none;\n",
              "      fill: #1967D2;\n",
              "      height: 32px;\n",
              "      padding: 0 0 0 0;\n",
              "      width: 32px;\n",
              "    }\n",
              "\n",
              "    .colab-df-convert:hover {\n",
              "      background-color: #E2EBFA;\n",
              "      box-shadow: 0px 1px 2px rgba(60, 64, 67, 0.3), 0px 1px 3px 1px rgba(60, 64, 67, 0.15);\n",
              "      fill: #174EA6;\n",
              "    }\n",
              "\n",
              "    [theme=dark] .colab-df-convert {\n",
              "      background-color: #3B4455;\n",
              "      fill: #D2E3FC;\n",
              "    }\n",
              "\n",
              "    [theme=dark] .colab-df-convert:hover {\n",
              "      background-color: #434B5C;\n",
              "      box-shadow: 0px 1px 3px 1px rgba(0, 0, 0, 0.15);\n",
              "      filter: drop-shadow(0px 1px 2px rgba(0, 0, 0, 0.3));\n",
              "      fill: #FFFFFF;\n",
              "    }\n",
              "  </style>\n",
              "\n",
              "      <script>\n",
              "        const buttonEl =\n",
              "          document.querySelector('#df-f6a9514a-5ccc-4277-a14b-4f5d7d898171 button.colab-df-convert');\n",
              "        buttonEl.style.display =\n",
              "          google.colab.kernel.accessAllowed ? 'block' : 'none';\n",
              "\n",
              "        async function convertToInteractive(key) {\n",
              "          const element = document.querySelector('#df-f6a9514a-5ccc-4277-a14b-4f5d7d898171');\n",
              "          const dataTable =\n",
              "            await google.colab.kernel.invokeFunction('convertToInteractive',\n",
              "                                                     [key], {});\n",
              "          if (!dataTable) return;\n",
              "\n",
              "          const docLinkHtml = 'Like what you see? Visit the ' +\n",
              "            '<a target=\"_blank\" href=https://colab.research.google.com/notebooks/data_table.ipynb>data table notebook</a>'\n",
              "            + ' to learn more about interactive tables.';\n",
              "          element.innerHTML = '';\n",
              "          dataTable['output_type'] = 'display_data';\n",
              "          await google.colab.output.renderOutput(dataTable, element);\n",
              "          const docLink = document.createElement('div');\n",
              "          docLink.innerHTML = docLinkHtml;\n",
              "          element.appendChild(docLink);\n",
              "        }\n",
              "      </script>\n",
              "    </div>\n",
              "  </div>\n",
              "  "
            ]
          },
          "metadata": {},
          "execution_count": 15
        }
      ],
      "source": [
        "import numpy as np\n",
        "conditions = [(df['Trend'] == 1) & (df['signal'] == 1), (df['Trend'] == 2) & (df['signal'] == 2)]\n",
        "values = [1, 2]\n",
        "df['result'] = np.select(conditions, values)\n",
        "\n",
        "trendId=1\n",
        "print(df[df['result']==trendId].result.count()/df[df['signal']==trendId].signal.count())\n",
        "df[ (df['Trend']!=trendId) & (df['Trend']!=3) & (df['signal']==trendId) ] # false positives"
      ]
    },
    {
      "cell_type": "code",
      "execution_count": 37,
      "metadata": {
        "colab": {
          "base_uri": "https://localhost:8080/",
          "height": 542
        },
        "id": "dwskTU5HRnKA",
        "outputId": "749b6262-0035-438c-8682-bfe5658f7053"
      },
      "outputs": [
        {
          "output_type": "display_data",
          "data": {
            "text/html": [
              "<html>\n",
              "<head><meta charset=\"utf-8\" /></head>\n",
              "<body>\n",
              "    <div>            <script src=\"https://cdnjs.cloudflare.com/ajax/libs/mathjax/2.7.5/MathJax.js?config=TeX-AMS-MML_SVG\"></script><script type=\"text/javascript\">if (window.MathJax && window.MathJax.Hub && window.MathJax.Hub.Config) {window.MathJax.Hub.Config({SVG: {font: \"STIX-Web\"}});}</script>                <script type=\"text/javascript\">window.PlotlyConfig = {MathJaxConfig: 'local'};</script>\n",
              "        <script src=\"https://cdn.plot.ly/plotly-2.18.2.min.js\"></script>                <div id=\"3810e29f-a922-425e-934b-9a8a137fd6eb\" class=\"plotly-graph-div\" style=\"height:525px; width:100%;\"></div>            <script type=\"text/javascript\">                                    window.PLOTLYENV=window.PLOTLYENV || {};                                    if (document.getElementById(\"3810e29f-a922-425e-934b-9a8a137fd6eb\")) {                    Plotly.newPlot(                        \"3810e29f-a922-425e-934b-9a8a137fd6eb\",                        [{\"close\":[1955.0,2029.1500244140625,2050.699951171875,2084.550048828125,1997.199951171875,1980.0,1996.4000244140625,2002.300048828125,1993.25,1987.199951171875,1973.1500244140625,1899.5,1950.699951171875,1964.050048828125,1947.800048828125,1952.5999755859373,1929.800048828125,1954.9000244140625,1958.1500244140625,1964.050048828125,1946.75,1958.199951171875,1993.75,2026.949951171875,2007.0,2005.800048828125,1991.300048828125,1974.3499755859373,1976.550048828125,1985.5999755859373,1991.550048828125,1939.699951171875,1936.699951171875,1943.8499755859373,1994.1500244140625,2003.300048828125,1990.050048828125,1995.5,1985.300048828125,1987.5,1990.8499755859373,1966.0999755859373,1914.25,1911.1500244140625,1933.699951171875,1897.25,1957.050048828125,1938.800048828125,1960.5999755859373,1937.449951171875],\"high\":[1960.949951171875,2040.0,2069.0,2090.0,2095.0,2008.449951171875,2036.6500244140625,2015.300048828125,2085.0,2006.5,2010.449951171875,1983.800048828125,1970.0,1974.0,1992.949951171875,1965.0,1956.0999755859373,1966.25,1962.0,1981.0999755859373,1969.0,1965.0,2014.25,2033.800048828125,2028.5,2038.0,2015.0,1989.699951171875,1994.949951171875,2005.0,2004.9000244140625,2022.0,1958.9000244140625,1951.449951171875,1998.800048828125,2018.0,2012.300048828125,2007.199951171875,2011.9000244140625,1997.0,1998.9000244140625,1983.5999755859373,1966.0,1945.0,1938.4000244140625,1938.800048828125,1960.0,1974.949951171875,1966.9000244140625,1973.800048828125],\"low\":[1932.0,1978.1500244140625,2036.0,2041.199951171875,1978.0999755859373,1965.0,1981.75,1995.3499755859373,1985.0,1960.0999755859373,1968.199951171875,1895.0,1926.25,1932.0,1942.199951171875,1930.050048828125,1921.4000244140625,1930.050048828125,1935.0,1958.6500244140625,1940.0,1940.5999755859373,1950.0,1999.25,2001.0,1974.25,1986.3499755859373,1961.0999755859373,1965.699951171875,1977.1500244140625,1965.0,1855.25,1888.449951171875,1920.6500244140625,1945.9000244140625,1995.300048828125,1982.550048828125,1975.550048828125,1978.5999755859373,1982.0,1968.0,1956.0,1905.1500244140625,1905.1500244140625,1912.0999755859373,1892.5,1899.9000244140625,1918.449951171875,1939.050048828125,1920.050048828125],\"open\":[1954.949951171875,1990.0,2062.10009765625,2077.0,2089.0,1981.0,1982.0,2014.9000244140625,2085.0,1993.25,1987.199951171875,1975.0,1951.0,1964.0,1980.0,1953.050048828125,1940.5,1940.3499755859373,1958.5,1972.0,1969.0,1940.5999755859373,1961.1500244140625,2009.949951171875,2021.5999755859373,2013.0,2007.949951171875,1989.699951171875,1988.0,1984.5,1980.0999755859373,2010.0,1949.0,1930.0,1947.0,2006.699951171875,2009.0,1995.25,1993.5,1988.0,1995.0999755859373,1969.0,1965.9000244140625,1920.5,1918.0,1938.800048828125,1903.0,1963.550048828125,1945.0,1960.5999755859373],\"x\":[\"2020-11-05T00:00:00\",\"2020-11-06T00:00:00\",\"2020-11-09T00:00:00\",\"2020-11-10T00:00:00\",\"2020-11-11T00:00:00\",\"2020-11-12T00:00:00\",\"2020-11-13T00:00:00\",\"2020-11-14T00:00:00\",\"2020-11-17T00:00:00\",\"2020-11-18T00:00:00\",\"2020-11-19T00:00:00\",\"2020-11-20T00:00:00\",\"2020-11-23T00:00:00\",\"2020-11-24T00:00:00\",\"2020-11-25T00:00:00\",\"2020-11-26T00:00:00\",\"2020-11-27T00:00:00\",\"2020-12-01T00:00:00\",\"2020-12-02T00:00:00\",\"2020-12-03T00:00:00\",\"2020-12-04T00:00:00\",\"2020-12-07T00:00:00\",\"2020-12-08T00:00:00\",\"2020-12-09T00:00:00\",\"2020-12-10T00:00:00\",\"2020-12-11T00:00:00\",\"2020-12-14T00:00:00\",\"2020-12-15T00:00:00\",\"2020-12-16T00:00:00\",\"2020-12-17T00:00:00\",\"2020-12-18T00:00:00\",\"2020-12-21T00:00:00\",\"2020-12-22T00:00:00\",\"2020-12-23T00:00:00\",\"2020-12-24T00:00:00\",\"2020-12-28T00:00:00\",\"2020-12-29T00:00:00\",\"2020-12-30T00:00:00\",\"2020-12-31T00:00:00\",\"2021-01-01T00:00:00\",\"2021-01-04T00:00:00\",\"2021-01-05T00:00:00\",\"2021-01-06T00:00:00\",\"2021-01-07T00:00:00\",\"2021-01-08T00:00:00\",\"2021-01-11T00:00:00\",\"2021-01-12T00:00:00\",\"2021-01-13T00:00:00\",\"2021-01-14T00:00:00\",\"2021-01-15T00:00:00\"],\"type\":\"candlestick\"}],                        {\"template\":{\"data\":{\"histogram2dcontour\":[{\"type\":\"histogram2dcontour\",\"colorbar\":{\"outlinewidth\":0,\"ticks\":\"\"},\"colorscale\":[[0.0,\"#0d0887\"],[0.1111111111111111,\"#46039f\"],[0.2222222222222222,\"#7201a8\"],[0.3333333333333333,\"#9c179e\"],[0.4444444444444444,\"#bd3786\"],[0.5555555555555556,\"#d8576b\"],[0.6666666666666666,\"#ed7953\"],[0.7777777777777778,\"#fb9f3a\"],[0.8888888888888888,\"#fdca26\"],[1.0,\"#f0f921\"]]}],\"choropleth\":[{\"type\":\"choropleth\",\"colorbar\":{\"outlinewidth\":0,\"ticks\":\"\"}}],\"histogram2d\":[{\"type\":\"histogram2d\",\"colorbar\":{\"outlinewidth\":0,\"ticks\":\"\"},\"colorscale\":[[0.0,\"#0d0887\"],[0.1111111111111111,\"#46039f\"],[0.2222222222222222,\"#7201a8\"],[0.3333333333333333,\"#9c179e\"],[0.4444444444444444,\"#bd3786\"],[0.5555555555555556,\"#d8576b\"],[0.6666666666666666,\"#ed7953\"],[0.7777777777777778,\"#fb9f3a\"],[0.8888888888888888,\"#fdca26\"],[1.0,\"#f0f921\"]]}],\"heatmap\":[{\"type\":\"heatmap\",\"colorbar\":{\"outlinewidth\":0,\"ticks\":\"\"},\"colorscale\":[[0.0,\"#0d0887\"],[0.1111111111111111,\"#46039f\"],[0.2222222222222222,\"#7201a8\"],[0.3333333333333333,\"#9c179e\"],[0.4444444444444444,\"#bd3786\"],[0.5555555555555556,\"#d8576b\"],[0.6666666666666666,\"#ed7953\"],[0.7777777777777778,\"#fb9f3a\"],[0.8888888888888888,\"#fdca26\"],[1.0,\"#f0f921\"]]}],\"heatmapgl\":[{\"type\":\"heatmapgl\",\"colorbar\":{\"outlinewidth\":0,\"ticks\":\"\"},\"colorscale\":[[0.0,\"#0d0887\"],[0.1111111111111111,\"#46039f\"],[0.2222222222222222,\"#7201a8\"],[0.3333333333333333,\"#9c179e\"],[0.4444444444444444,\"#bd3786\"],[0.5555555555555556,\"#d8576b\"],[0.6666666666666666,\"#ed7953\"],[0.7777777777777778,\"#fb9f3a\"],[0.8888888888888888,\"#fdca26\"],[1.0,\"#f0f921\"]]}],\"contourcarpet\":[{\"type\":\"contourcarpet\",\"colorbar\":{\"outlinewidth\":0,\"ticks\":\"\"}}],\"contour\":[{\"type\":\"contour\",\"colorbar\":{\"outlinewidth\":0,\"ticks\":\"\"},\"colorscale\":[[0.0,\"#0d0887\"],[0.1111111111111111,\"#46039f\"],[0.2222222222222222,\"#7201a8\"],[0.3333333333333333,\"#9c179e\"],[0.4444444444444444,\"#bd3786\"],[0.5555555555555556,\"#d8576b\"],[0.6666666666666666,\"#ed7953\"],[0.7777777777777778,\"#fb9f3a\"],[0.8888888888888888,\"#fdca26\"],[1.0,\"#f0f921\"]]}],\"surface\":[{\"type\":\"surface\",\"colorbar\":{\"outlinewidth\":0,\"ticks\":\"\"},\"colorscale\":[[0.0,\"#0d0887\"],[0.1111111111111111,\"#46039f\"],[0.2222222222222222,\"#7201a8\"],[0.3333333333333333,\"#9c179e\"],[0.4444444444444444,\"#bd3786\"],[0.5555555555555556,\"#d8576b\"],[0.6666666666666666,\"#ed7953\"],[0.7777777777777778,\"#fb9f3a\"],[0.8888888888888888,\"#fdca26\"],[1.0,\"#f0f921\"]]}],\"mesh3d\":[{\"type\":\"mesh3d\",\"colorbar\":{\"outlinewidth\":0,\"ticks\":\"\"}}],\"scatter\":[{\"fillpattern\":{\"fillmode\":\"overlay\",\"size\":10,\"solidity\":0.2},\"type\":\"scatter\"}],\"parcoords\":[{\"type\":\"parcoords\",\"line\":{\"colorbar\":{\"outlinewidth\":0,\"ticks\":\"\"}}}],\"scatterpolargl\":[{\"type\":\"scatterpolargl\",\"marker\":{\"colorbar\":{\"outlinewidth\":0,\"ticks\":\"\"}}}],\"bar\":[{\"error_x\":{\"color\":\"#2a3f5f\"},\"error_y\":{\"color\":\"#2a3f5f\"},\"marker\":{\"line\":{\"color\":\"#E5ECF6\",\"width\":0.5},\"pattern\":{\"fillmode\":\"overlay\",\"size\":10,\"solidity\":0.2}},\"type\":\"bar\"}],\"scattergeo\":[{\"type\":\"scattergeo\",\"marker\":{\"colorbar\":{\"outlinewidth\":0,\"ticks\":\"\"}}}],\"scatterpolar\":[{\"type\":\"scatterpolar\",\"marker\":{\"colorbar\":{\"outlinewidth\":0,\"ticks\":\"\"}}}],\"histogram\":[{\"marker\":{\"pattern\":{\"fillmode\":\"overlay\",\"size\":10,\"solidity\":0.2}},\"type\":\"histogram\"}],\"scattergl\":[{\"type\":\"scattergl\",\"marker\":{\"colorbar\":{\"outlinewidth\":0,\"ticks\":\"\"}}}],\"scatter3d\":[{\"type\":\"scatter3d\",\"line\":{\"colorbar\":{\"outlinewidth\":0,\"ticks\":\"\"}},\"marker\":{\"colorbar\":{\"outlinewidth\":0,\"ticks\":\"\"}}}],\"scattermapbox\":[{\"type\":\"scattermapbox\",\"marker\":{\"colorbar\":{\"outlinewidth\":0,\"ticks\":\"\"}}}],\"scatterternary\":[{\"type\":\"scatterternary\",\"marker\":{\"colorbar\":{\"outlinewidth\":0,\"ticks\":\"\"}}}],\"scattercarpet\":[{\"type\":\"scattercarpet\",\"marker\":{\"colorbar\":{\"outlinewidth\":0,\"ticks\":\"\"}}}],\"carpet\":[{\"aaxis\":{\"endlinecolor\":\"#2a3f5f\",\"gridcolor\":\"white\",\"linecolor\":\"white\",\"minorgridcolor\":\"white\",\"startlinecolor\":\"#2a3f5f\"},\"baxis\":{\"endlinecolor\":\"#2a3f5f\",\"gridcolor\":\"white\",\"linecolor\":\"white\",\"minorgridcolor\":\"white\",\"startlinecolor\":\"#2a3f5f\"},\"type\":\"carpet\"}],\"table\":[{\"cells\":{\"fill\":{\"color\":\"#EBF0F8\"},\"line\":{\"color\":\"white\"}},\"header\":{\"fill\":{\"color\":\"#C8D4E3\"},\"line\":{\"color\":\"white\"}},\"type\":\"table\"}],\"barpolar\":[{\"marker\":{\"line\":{\"color\":\"#E5ECF6\",\"width\":0.5},\"pattern\":{\"fillmode\":\"overlay\",\"size\":10,\"solidity\":0.2}},\"type\":\"barpolar\"}],\"pie\":[{\"automargin\":true,\"type\":\"pie\"}]},\"layout\":{\"autotypenumbers\":\"strict\",\"colorway\":[\"#636efa\",\"#EF553B\",\"#00cc96\",\"#ab63fa\",\"#FFA15A\",\"#19d3f3\",\"#FF6692\",\"#B6E880\",\"#FF97FF\",\"#FECB52\"],\"font\":{\"color\":\"#2a3f5f\"},\"hovermode\":\"closest\",\"hoverlabel\":{\"align\":\"left\"},\"paper_bgcolor\":\"white\",\"plot_bgcolor\":\"#E5ECF6\",\"polar\":{\"bgcolor\":\"#E5ECF6\",\"angularaxis\":{\"gridcolor\":\"white\",\"linecolor\":\"white\",\"ticks\":\"\"},\"radialaxis\":{\"gridcolor\":\"white\",\"linecolor\":\"white\",\"ticks\":\"\"}},\"ternary\":{\"bgcolor\":\"#E5ECF6\",\"aaxis\":{\"gridcolor\":\"white\",\"linecolor\":\"white\",\"ticks\":\"\"},\"baxis\":{\"gridcolor\":\"white\",\"linecolor\":\"white\",\"ticks\":\"\"},\"caxis\":{\"gridcolor\":\"white\",\"linecolor\":\"white\",\"ticks\":\"\"}},\"coloraxis\":{\"colorbar\":{\"outlinewidth\":0,\"ticks\":\"\"}},\"colorscale\":{\"sequential\":[[0.0,\"#0d0887\"],[0.1111111111111111,\"#46039f\"],[0.2222222222222222,\"#7201a8\"],[0.3333333333333333,\"#9c179e\"],[0.4444444444444444,\"#bd3786\"],[0.5555555555555556,\"#d8576b\"],[0.6666666666666666,\"#ed7953\"],[0.7777777777777778,\"#fb9f3a\"],[0.8888888888888888,\"#fdca26\"],[1.0,\"#f0f921\"]],\"sequentialminus\":[[0.0,\"#0d0887\"],[0.1111111111111111,\"#46039f\"],[0.2222222222222222,\"#7201a8\"],[0.3333333333333333,\"#9c179e\"],[0.4444444444444444,\"#bd3786\"],[0.5555555555555556,\"#d8576b\"],[0.6666666666666666,\"#ed7953\"],[0.7777777777777778,\"#fb9f3a\"],[0.8888888888888888,\"#fdca26\"],[1.0,\"#f0f921\"]],\"diverging\":[[0,\"#8e0152\"],[0.1,\"#c51b7d\"],[0.2,\"#de77ae\"],[0.3,\"#f1b6da\"],[0.4,\"#fde0ef\"],[0.5,\"#f7f7f7\"],[0.6,\"#e6f5d0\"],[0.7,\"#b8e186\"],[0.8,\"#7fbc41\"],[0.9,\"#4d9221\"],[1,\"#276419\"]]},\"xaxis\":{\"gridcolor\":\"white\",\"linecolor\":\"white\",\"ticks\":\"\",\"title\":{\"standoff\":15},\"zerolinecolor\":\"white\",\"automargin\":true,\"zerolinewidth\":2},\"yaxis\":{\"gridcolor\":\"white\",\"linecolor\":\"white\",\"ticks\":\"\",\"title\":{\"standoff\":15},\"zerolinecolor\":\"white\",\"automargin\":true,\"zerolinewidth\":2},\"scene\":{\"xaxis\":{\"backgroundcolor\":\"#E5ECF6\",\"gridcolor\":\"white\",\"linecolor\":\"white\",\"showbackground\":true,\"ticks\":\"\",\"zerolinecolor\":\"white\",\"gridwidth\":2},\"yaxis\":{\"backgroundcolor\":\"#E5ECF6\",\"gridcolor\":\"white\",\"linecolor\":\"white\",\"showbackground\":true,\"ticks\":\"\",\"zerolinecolor\":\"white\",\"gridwidth\":2},\"zaxis\":{\"backgroundcolor\":\"#E5ECF6\",\"gridcolor\":\"white\",\"linecolor\":\"white\",\"showbackground\":true,\"ticks\":\"\",\"zerolinecolor\":\"white\",\"gridwidth\":2}},\"shapedefaults\":{\"line\":{\"color\":\"#2a3f5f\"}},\"annotationdefaults\":{\"arrowcolor\":\"#2a3f5f\",\"arrowhead\":0,\"arrowwidth\":1},\"geo\":{\"bgcolor\":\"white\",\"landcolor\":\"#E5ECF6\",\"subunitcolor\":\"white\",\"showland\":true,\"showlakes\":true,\"lakecolor\":\"white\"},\"title\":{\"x\":0.05},\"mapbox\":{\"style\":\"light\"}}}},                        {\"responsive\": true}                    ).then(function(){\n",
              "                            \n",
              "var gd = document.getElementById('3810e29f-a922-425e-934b-9a8a137fd6eb');\n",
              "var x = new MutationObserver(function (mutations, observer) {{\n",
              "        var display = window.getComputedStyle(gd).display;\n",
              "        if (!display || display === 'none') {{\n",
              "            console.log([gd, 'removed!']);\n",
              "            Plotly.purge(gd);\n",
              "            observer.disconnect();\n",
              "        }}\n",
              "}});\n",
              "\n",
              "// Listen for the removal of the full notebook cells\n",
              "var notebookContainer = gd.closest('#notebook-container');\n",
              "if (notebookContainer) {{\n",
              "    x.observe(notebookContainer, {childList: true});\n",
              "}}\n",
              "\n",
              "// Listen for the clearing of the current output cell\n",
              "var outputEl = gd.closest('.output');\n",
              "if (outputEl) {{\n",
              "    x.observe(outputEl, {childList: true});\n",
              "}}\n",
              "\n",
              "                        })                };                            </script>        </div>\n",
              "</body>\n",
              "</html>"
            ]
          },
          "metadata": {}
        }
      ],
      "source": [
        "dfpl = df[-450\n",
        "          :-400]\n",
        "import plotly.graph_objects as go\n",
        "from datetime import datetime\n",
        "\n",
        "fig = go.Figure(data=[go.Candlestick(x=dfpl.index,\n",
        "                open=dfpl['Open'],\n",
        "                high=dfpl['High'],\n",
        "                low=dfpl['Low'],\n",
        "                close=dfpl['Close'])])\n",
        "\n",
        "fig.show()"
      ]
    },
    {
      "cell_type": "code",
      "source": [
        "def SIGNAL():\n",
        "    return df.signal"
      ],
      "metadata": {
        "id": "BZF2eFeZqyUB"
      },
      "execution_count": 17,
      "outputs": []
    },
    {
      "cell_type": "code",
      "source": [
        "!pip install backtesting"
      ],
      "metadata": {
        "colab": {
          "base_uri": "https://localhost:8080/"
        },
        "id": "oIjkIpktrR_h",
        "outputId": "9f926b48-bf94-4b90-aec1-d3cba83f5b14"
      },
      "execution_count": 18,
      "outputs": [
        {
          "output_type": "stream",
          "name": "stdout",
          "text": [
            "Looking in indexes: https://pypi.org/simple, https://us-python.pkg.dev/colab-wheels/public/simple/\n",
            "Requirement already satisfied: backtesting in /usr/local/lib/python3.9/dist-packages (0.3.3)\n",
            "Requirement already satisfied: bokeh>=1.4.0 in /usr/local/lib/python3.9/dist-packages (from backtesting) (2.4.3)\n",
            "Requirement already satisfied: pandas!=0.25.0,>=0.25.0 in /usr/local/lib/python3.9/dist-packages (from backtesting) (1.5.3)\n",
            "Requirement already satisfied: numpy>=1.17.0 in /usr/local/lib/python3.9/dist-packages (from backtesting) (1.22.4)\n",
            "Requirement already satisfied: packaging>=16.8 in /usr/local/lib/python3.9/dist-packages (from bokeh>=1.4.0->backtesting) (23.0)\n",
            "Requirement already satisfied: tornado>=5.1 in /usr/local/lib/python3.9/dist-packages (from bokeh>=1.4.0->backtesting) (6.2)\n",
            "Requirement already satisfied: Jinja2>=2.9 in /usr/local/lib/python3.9/dist-packages (from bokeh>=1.4.0->backtesting) (3.1.2)\n",
            "Requirement already satisfied: PyYAML>=3.10 in /usr/local/lib/python3.9/dist-packages (from bokeh>=1.4.0->backtesting) (6.0)\n",
            "Requirement already satisfied: pillow>=7.1.0 in /usr/local/lib/python3.9/dist-packages (from bokeh>=1.4.0->backtesting) (8.4.0)\n",
            "Requirement already satisfied: typing-extensions>=3.10.0 in /usr/local/lib/python3.9/dist-packages (from bokeh>=1.4.0->backtesting) (4.5.0)\n",
            "Requirement already satisfied: python-dateutil>=2.8.1 in /usr/local/lib/python3.9/dist-packages (from pandas!=0.25.0,>=0.25.0->backtesting) (2.8.2)\n",
            "Requirement already satisfied: pytz>=2020.1 in /usr/local/lib/python3.9/dist-packages (from pandas!=0.25.0,>=0.25.0->backtesting) (2022.7.1)\n",
            "Requirement already satisfied: MarkupSafe>=2.0 in /usr/local/lib/python3.9/dist-packages (from Jinja2>=2.9->bokeh>=1.4.0->backtesting) (2.1.2)\n",
            "Requirement already satisfied: six>=1.5 in /usr/local/lib/python3.9/dist-packages (from python-dateutil>=2.8.1->pandas!=0.25.0,>=0.25.0->backtesting) (1.16.0)\n"
          ]
        }
      ]
    },
    {
      "cell_type": "code",
      "source": [
        "from backtesting import Strategy\n",
        "\n",
        "class MyCandlesStrat(Strategy):  \n",
        "    def init(self):\n",
        "        super().init()\n",
        "        self.signal1 = self.I(SIGNAL)\n",
        "\n",
        "    def next(self):\n",
        "        super().next() \n",
        "        if self.signal1==2:\n",
        "            sl1 = self.data.Close[-1] - 75000e-4\n",
        "            tp1 = self.data.Close[-1] + 60000e-4\n",
        "            self.buy(sl=sl1, tp=tp1)\n",
        "        elif self.signal1==1:\n",
        "            sl1 = self.data.Close[-1] + 70000e-4\n",
        "            tp1 = self.data.Close[-1] - 60000e-4\n",
        "            self.sell(sl=sl1, tp=tp1)\n",
        "\n",
        "\n",
        "def MovingAverage(closes:pd.Series, n:int) -> pd.Series:\n",
        "    return pd.Series(closes).rolling(n).mean()\n",
        "class SmaCross(Strategy):\n",
        "    sma_fast = 12\n",
        "    sma_slow = 24\n",
        "    \n",
        "    def init(self):\n",
        "        self.sma1 = self.I(MovingAverage, self.data.Close, self.sma_fast)\n",
        "        self.sma2 = self.I(MovingAverage, self.data.Close, self.sma_slow)\n",
        "\n",
        "    def next(self):\n",
        "        if not self.position and crossover(self.sma1, self.sma2):\n",
        "            self.buy()\n",
        "        elif self.position and crossover(self.sma2, self.sma1):\n",
        "            self.position.close()"
      ],
      "metadata": {
        "colab": {
          "base_uri": "https://localhost:8080/"
        },
        "id": "vNkL0fQLrJSl",
        "outputId": "fd7e8f73-a4b2-4c21-bdf7-c0b6d9b4b98e"
      },
      "execution_count": 19,
      "outputs": [
        {
          "output_type": "stream",
          "name": "stderr",
          "text": [
            "/usr/local/lib/python3.9/dist-packages/backtesting/_plotting.py:50: UserWarning:\n",
            "\n",
            "Jupyter Notebook detected. Setting Bokeh output to notebook. This may not work in Jupyter clients without JavaScript support (e.g. PyCharm, Spyder IDE). Reset with `backtesting.set_bokeh_output(notebook=False)`.\n",
            "\n"
          ]
        }
      ]
    },
    {
      "cell_type": "code",
      "source": [
        "from backtesting import Backtest\n",
        "\n",
        "bt = Backtest(df, MyCandlesStrat, cash=10_000, commission=.002)\n",
        "stat = bt.run()\n",
        "stat"
      ],
      "metadata": {
        "colab": {
          "base_uri": "https://localhost:8080/"
        },
        "id": "XntCsHtErM1S",
        "outputId": "3afdd885-6176-4c4a-dec8-4b61791679a5"
      },
      "execution_count": 40,
      "outputs": [
        {
          "output_type": "execute_result",
          "data": {
            "text/plain": [
              "Start                     2018-08-01 00:00:00\n",
              "End                       2022-08-29 00:00:00\n",
              "Duration                   1489 days 00:00:00\n",
              "Exposure Time [%]                    2.885572\n",
              "Equity Final [$]                  8788.575122\n",
              "Equity Peak [$]                       10000.0\n",
              "Return [%]                         -12.114249\n",
              "Buy & Hold Return [%]              119.924779\n",
              "Return (Ann.) [%]                   -3.186089\n",
              "Volatility (Ann.) [%]                1.776357\n",
              "Sharpe Ratio                              0.0\n",
              "Sortino Ratio                             0.0\n",
              "Calmar Ratio                              0.0\n",
              "Max. Drawdown [%]                  -12.114249\n",
              "Avg. Drawdown [%]                  -12.114249\n",
              "Max. Drawdown Duration     1385 days 00:00:00\n",
              "Avg. Drawdown Duration     1385 days 00:00:00\n",
              "# Trades                                   29\n",
              "Win Rate [%]                         6.896552\n",
              "Best Trade [%]                       0.357631\n",
              "Worst Trade [%]                     -2.183356\n",
              "Avg. Trade [%]                      -0.488924\n",
              "Max. Trade Duration           0 days 00:00:00\n",
              "Avg. Trade Duration           0 days 00:00:00\n",
              "Profit Factor                        0.032353\n",
              "Expectancy [%]                      -0.487336\n",
              "SQN                                 -4.414362\n",
              "_strategy                      MyCandlesStrat\n",
              "_equity_curve                             ...\n",
              "_trades                       Size  EntryB...\n",
              "dtype: object"
            ]
          },
          "metadata": {},
          "execution_count": 40
        }
      ]
    },
    {
      "cell_type": "code",
      "source": [
        "bt.plot()"
      ],
      "metadata": {
        "colab": {
          "base_uri": "https://localhost:8080/",
          "height": 834
        },
        "id": "RBL8d_fLrdia",
        "outputId": "6f0b79ff-c81b-428d-bc4e-037607625f6f"
      },
      "execution_count": 35,
      "outputs": [
        {
          "output_type": "display_data",
          "data": {
            "application/javascript": [
              "(function(root) {\n",
              "  function now() {\n",
              "    return new Date();\n",
              "  }\n",
              "\n",
              "  const force = true;\n",
              "\n",
              "  if (typeof root._bokeh_onload_callbacks === \"undefined\" || force === true) {\n",
              "    root._bokeh_onload_callbacks = [];\n",
              "    root._bokeh_is_loading = undefined;\n",
              "  }\n",
              "\n",
              "const JS_MIME_TYPE = 'application/javascript';\n",
              "  const HTML_MIME_TYPE = 'text/html';\n",
              "  const EXEC_MIME_TYPE = 'application/vnd.bokehjs_exec.v0+json';\n",
              "  const CLASS_NAME = 'output_bokeh rendered_html';\n",
              "\n",
              "  /**\n",
              "   * Render data to the DOM node\n",
              "   */\n",
              "  function render(props, node) {\n",
              "    const script = document.createElement(\"script\");\n",
              "    node.appendChild(script);\n",
              "  }\n",
              "\n",
              "  /**\n",
              "   * Handle when an output is cleared or removed\n",
              "   */\n",
              "  function handleClearOutput(event, handle) {\n",
              "    const cell = handle.cell;\n",
              "\n",
              "    const id = cell.output_area._bokeh_element_id;\n",
              "    const server_id = cell.output_area._bokeh_server_id;\n",
              "    // Clean up Bokeh references\n",
              "    if (id != null && id in Bokeh.index) {\n",
              "      Bokeh.index[id].model.document.clear();\n",
              "      delete Bokeh.index[id];\n",
              "    }\n",
              "\n",
              "    if (server_id !== undefined) {\n",
              "      // Clean up Bokeh references\n",
              "      const cmd_clean = \"from bokeh.io.state import curstate; print(curstate().uuid_to_server['\" + server_id + \"'].get_sessions()[0].document.roots[0]._id)\";\n",
              "      cell.notebook.kernel.execute(cmd_clean, {\n",
              "        iopub: {\n",
              "          output: function(msg) {\n",
              "            const id = msg.content.text.trim();\n",
              "            if (id in Bokeh.index) {\n",
              "              Bokeh.index[id].model.document.clear();\n",
              "              delete Bokeh.index[id];\n",
              "            }\n",
              "          }\n",
              "        }\n",
              "      });\n",
              "      // Destroy server and session\n",
              "      const cmd_destroy = \"import bokeh.io.notebook as ion; ion.destroy_server('\" + server_id + \"')\";\n",
              "      cell.notebook.kernel.execute(cmd_destroy);\n",
              "    }\n",
              "  }\n",
              "\n",
              "  /**\n",
              "   * Handle when a new output is added\n",
              "   */\n",
              "  function handleAddOutput(event, handle) {\n",
              "    const output_area = handle.output_area;\n",
              "    const output = handle.output;\n",
              "\n",
              "    // limit handleAddOutput to display_data with EXEC_MIME_TYPE content only\n",
              "    if ((output.output_type != \"display_data\") || (!Object.prototype.hasOwnProperty.call(output.data, EXEC_MIME_TYPE))) {\n",
              "      return\n",
              "    }\n",
              "\n",
              "    const toinsert = output_area.element.find(\".\" + CLASS_NAME.split(' ')[0]);\n",
              "\n",
              "    if (output.metadata[EXEC_MIME_TYPE][\"id\"] !== undefined) {\n",
              "      toinsert[toinsert.length - 1].firstChild.textContent = output.data[JS_MIME_TYPE];\n",
              "      // store reference to embed id on output_area\n",
              "      output_area._bokeh_element_id = output.metadata[EXEC_MIME_TYPE][\"id\"];\n",
              "    }\n",
              "    if (output.metadata[EXEC_MIME_TYPE][\"server_id\"] !== undefined) {\n",
              "      const bk_div = document.createElement(\"div\");\n",
              "      bk_div.innerHTML = output.data[HTML_MIME_TYPE];\n",
              "      const script_attrs = bk_div.children[0].attributes;\n",
              "      for (let i = 0; i < script_attrs.length; i++) {\n",
              "        toinsert[toinsert.length - 1].firstChild.setAttribute(script_attrs[i].name, script_attrs[i].value);\n",
              "        toinsert[toinsert.length - 1].firstChild.textContent = bk_div.children[0].textContent\n",
              "      }\n",
              "      // store reference to server id on output_area\n",
              "      output_area._bokeh_server_id = output.metadata[EXEC_MIME_TYPE][\"server_id\"];\n",
              "    }\n",
              "  }\n",
              "\n",
              "  function register_renderer(events, OutputArea) {\n",
              "\n",
              "    function append_mime(data, metadata, element) {\n",
              "      // create a DOM node to render to\n",
              "      const toinsert = this.create_output_subarea(\n",
              "        metadata,\n",
              "        CLASS_NAME,\n",
              "        EXEC_MIME_TYPE\n",
              "      );\n",
              "      this.keyboard_manager.register_events(toinsert);\n",
              "      // Render to node\n",
              "      const props = {data: data, metadata: metadata[EXEC_MIME_TYPE]};\n",
              "      render(props, toinsert[toinsert.length - 1]);\n",
              "      element.append(toinsert);\n",
              "      return toinsert\n",
              "    }\n",
              "\n",
              "    /* Handle when an output is cleared or removed */\n",
              "    events.on('clear_output.CodeCell', handleClearOutput);\n",
              "    events.on('delete.Cell', handleClearOutput);\n",
              "\n",
              "    /* Handle when a new output is added */\n",
              "    events.on('output_added.OutputArea', handleAddOutput);\n",
              "\n",
              "    /**\n",
              "     * Register the mime type and append_mime function with output_area\n",
              "     */\n",
              "    OutputArea.prototype.register_mime_type(EXEC_MIME_TYPE, append_mime, {\n",
              "      /* Is output safe? */\n",
              "      safe: true,\n",
              "      /* Index of renderer in `output_area.display_order` */\n",
              "      index: 0\n",
              "    });\n",
              "  }\n",
              "\n",
              "  // register the mime type if in Jupyter Notebook environment and previously unregistered\n",
              "  if (root.Jupyter !== undefined) {\n",
              "    const events = require('base/js/events');\n",
              "    const OutputArea = require('notebook/js/outputarea').OutputArea;\n",
              "\n",
              "    if (OutputArea.prototype.mime_types().indexOf(EXEC_MIME_TYPE) == -1) {\n",
              "      register_renderer(events, OutputArea);\n",
              "    }\n",
              "  }\n",
              "  if (typeof (root._bokeh_timeout) === \"undefined\" || force === true) {\n",
              "    root._bokeh_timeout = Date.now() + 5000;\n",
              "    root._bokeh_failed_load = false;\n",
              "  }\n",
              "\n",
              "  const NB_LOAD_WARNING = {'data': {'text/html':\n",
              "     \"<div style='background-color: #fdd'>\\n\"+\n",
              "     \"<p>\\n\"+\n",
              "     \"BokehJS does not appear to have successfully loaded. If loading BokehJS from CDN, this \\n\"+\n",
              "     \"may be due to a slow or bad network connection. Possible fixes:\\n\"+\n",
              "     \"</p>\\n\"+\n",
              "     \"<ul>\\n\"+\n",
              "     \"<li>re-rerun `output_notebook()` to attempt to load from CDN again, or</li>\\n\"+\n",
              "     \"<li>use INLINE resources instead, as so:</li>\\n\"+\n",
              "     \"</ul>\\n\"+\n",
              "     \"<code>\\n\"+\n",
              "     \"from bokeh.resources import INLINE\\n\"+\n",
              "     \"output_notebook(resources=INLINE)\\n\"+\n",
              "     \"</code>\\n\"+\n",
              "     \"</div>\"}};\n",
              "\n",
              "  function display_loaded() {\n",
              "    const el = document.getElementById(null);\n",
              "    if (el != null) {\n",
              "      el.textContent = \"BokehJS is loading...\";\n",
              "    }\n",
              "    if (root.Bokeh !== undefined) {\n",
              "      if (el != null) {\n",
              "        el.textContent = \"BokehJS \" + root.Bokeh.version + \" successfully loaded.\";\n",
              "      }\n",
              "    } else if (Date.now() < root._bokeh_timeout) {\n",
              "      setTimeout(display_loaded, 100)\n",
              "    }\n",
              "  }\n",
              "\n",
              "  function run_callbacks() {\n",
              "    try {\n",
              "      root._bokeh_onload_callbacks.forEach(function(callback) {\n",
              "        if (callback != null)\n",
              "          callback();\n",
              "      });\n",
              "    } finally {\n",
              "      delete root._bokeh_onload_callbacks\n",
              "    }\n",
              "    console.debug(\"Bokeh: all callbacks have finished\");\n",
              "  }\n",
              "\n",
              "  function load_libs(css_urls, js_urls, callback) {\n",
              "    if (css_urls == null) css_urls = [];\n",
              "    if (js_urls == null) js_urls = [];\n",
              "\n",
              "    root._bokeh_onload_callbacks.push(callback);\n",
              "    if (root._bokeh_is_loading > 0) {\n",
              "      console.debug(\"Bokeh: BokehJS is being loaded, scheduling callback at\", now());\n",
              "      return null;\n",
              "    }\n",
              "    if (js_urls == null || js_urls.length === 0) {\n",
              "      run_callbacks();\n",
              "      return null;\n",
              "    }\n",
              "    console.debug(\"Bokeh: BokehJS not loaded, scheduling load and callback at\", now());\n",
              "    root._bokeh_is_loading = css_urls.length + js_urls.length;\n",
              "\n",
              "    function on_load() {\n",
              "      root._bokeh_is_loading--;\n",
              "      if (root._bokeh_is_loading === 0) {\n",
              "        console.debug(\"Bokeh: all BokehJS libraries/stylesheets loaded\");\n",
              "        run_callbacks()\n",
              "      }\n",
              "    }\n",
              "\n",
              "    function on_error(url) {\n",
              "      console.error(\"failed to load \" + url);\n",
              "    }\n",
              "\n",
              "    for (let i = 0; i < css_urls.length; i++) {\n",
              "      const url = css_urls[i];\n",
              "      const element = document.createElement(\"link\");\n",
              "      element.onload = on_load;\n",
              "      element.onerror = on_error.bind(null, url);\n",
              "      element.rel = \"stylesheet\";\n",
              "      element.type = \"text/css\";\n",
              "      element.href = url;\n",
              "      console.debug(\"Bokeh: injecting link tag for BokehJS stylesheet: \", url);\n",
              "      document.body.appendChild(element);\n",
              "    }\n",
              "\n",
              "    for (let i = 0; i < js_urls.length; i++) {\n",
              "      const url = js_urls[i];\n",
              "      const element = document.createElement('script');\n",
              "      element.onload = on_load;\n",
              "      element.onerror = on_error.bind(null, url);\n",
              "      element.async = false;\n",
              "      element.src = url;\n",
              "      console.debug(\"Bokeh: injecting script tag for BokehJS library: \", url);\n",
              "      document.head.appendChild(element);\n",
              "    }\n",
              "  };\n",
              "\n",
              "  function inject_raw_css(css) {\n",
              "    const element = document.createElement(\"style\");\n",
              "    element.appendChild(document.createTextNode(css));\n",
              "    document.body.appendChild(element);\n",
              "  }\n",
              "\n",
              "  const js_urls = [\"https://cdn.bokeh.org/bokeh/release/bokeh-2.4.3.min.js\", \"https://cdn.bokeh.org/bokeh/release/bokeh-gl-2.4.3.min.js\", \"https://cdn.bokeh.org/bokeh/release/bokeh-widgets-2.4.3.min.js\", \"https://cdn.bokeh.org/bokeh/release/bokeh-tables-2.4.3.min.js\", \"https://cdn.bokeh.org/bokeh/release/bokeh-mathjax-2.4.3.min.js\"];\n",
              "  const css_urls = [];\n",
              "\n",
              "  const inline_js = [    function(Bokeh) {\n",
              "      Bokeh.set_log_level(\"info\");\n",
              "    },\n",
              "function(Bokeh) {\n",
              "    }\n",
              "  ];\n",
              "\n",
              "  function run_inline_js() {\n",
              "    if (root.Bokeh !== undefined || force === true) {\n",
              "          for (let i = 0; i < inline_js.length; i++) {\n",
              "      inline_js[i].call(root, root.Bokeh);\n",
              "    }\n",
              "} else if (Date.now() < root._bokeh_timeout) {\n",
              "      setTimeout(run_inline_js, 100);\n",
              "    } else if (!root._bokeh_failed_load) {\n",
              "      console.log(\"Bokeh: BokehJS failed to load within specified timeout.\");\n",
              "      root._bokeh_failed_load = true;\n",
              "    } else if (force !== true) {\n",
              "      const cell = $(document.getElementById(null)).parents('.cell').data().cell;\n",
              "      cell.output_area.append_execute_result(NB_LOAD_WARNING)\n",
              "    }\n",
              "  }\n",
              "\n",
              "  if (root._bokeh_is_loading === 0) {\n",
              "    console.debug(\"Bokeh: BokehJS loaded, going straight to plotting\");\n",
              "    run_inline_js();\n",
              "  } else {\n",
              "    load_libs(css_urls, js_urls, function() {\n",
              "      console.debug(\"Bokeh: BokehJS plotting callback run at\", now());\n",
              "      run_inline_js();\n",
              "    });\n",
              "  }\n",
              "}(window));"
            ],
            "application/vnd.bokehjs_load.v0+json": "(function(root) {\n  function now() {\n    return new Date();\n  }\n\n  const force = true;\n\n  if (typeof root._bokeh_onload_callbacks === \"undefined\" || force === true) {\n    root._bokeh_onload_callbacks = [];\n    root._bokeh_is_loading = undefined;\n  }\n\n\n  if (typeof (root._bokeh_timeout) === \"undefined\" || force === true) {\n    root._bokeh_timeout = Date.now() + 5000;\n    root._bokeh_failed_load = false;\n  }\n\n  const NB_LOAD_WARNING = {'data': {'text/html':\n     \"<div style='background-color: #fdd'>\\n\"+\n     \"<p>\\n\"+\n     \"BokehJS does not appear to have successfully loaded. If loading BokehJS from CDN, this \\n\"+\n     \"may be due to a slow or bad network connection. Possible fixes:\\n\"+\n     \"</p>\\n\"+\n     \"<ul>\\n\"+\n     \"<li>re-rerun `output_notebook()` to attempt to load from CDN again, or</li>\\n\"+\n     \"<li>use INLINE resources instead, as so:</li>\\n\"+\n     \"</ul>\\n\"+\n     \"<code>\\n\"+\n     \"from bokeh.resources import INLINE\\n\"+\n     \"output_notebook(resources=INLINE)\\n\"+\n     \"</code>\\n\"+\n     \"</div>\"}};\n\n  function display_loaded() {\n    const el = document.getElementById(null);\n    if (el != null) {\n      el.textContent = \"BokehJS is loading...\";\n    }\n    if (root.Bokeh !== undefined) {\n      if (el != null) {\n        el.textContent = \"BokehJS \" + root.Bokeh.version + \" successfully loaded.\";\n      }\n    } else if (Date.now() < root._bokeh_timeout) {\n      setTimeout(display_loaded, 100)\n    }\n  }\n\n  function run_callbacks() {\n    try {\n      root._bokeh_onload_callbacks.forEach(function(callback) {\n        if (callback != null)\n          callback();\n      });\n    } finally {\n      delete root._bokeh_onload_callbacks\n    }\n    console.debug(\"Bokeh: all callbacks have finished\");\n  }\n\n  function load_libs(css_urls, js_urls, callback) {\n    if (css_urls == null) css_urls = [];\n    if (js_urls == null) js_urls = [];\n\n    root._bokeh_onload_callbacks.push(callback);\n    if (root._bokeh_is_loading > 0) {\n      console.debug(\"Bokeh: BokehJS is being loaded, scheduling callback at\", now());\n      return null;\n    }\n    if (js_urls == null || js_urls.length === 0) {\n      run_callbacks();\n      return null;\n    }\n    console.debug(\"Bokeh: BokehJS not loaded, scheduling load and callback at\", now());\n    root._bokeh_is_loading = css_urls.length + js_urls.length;\n\n    function on_load() {\n      root._bokeh_is_loading--;\n      if (root._bokeh_is_loading === 0) {\n        console.debug(\"Bokeh: all BokehJS libraries/stylesheets loaded\");\n        run_callbacks()\n      }\n    }\n\n    function on_error(url) {\n      console.error(\"failed to load \" + url);\n    }\n\n    for (let i = 0; i < css_urls.length; i++) {\n      const url = css_urls[i];\n      const element = document.createElement(\"link\");\n      element.onload = on_load;\n      element.onerror = on_error.bind(null, url);\n      element.rel = \"stylesheet\";\n      element.type = \"text/css\";\n      element.href = url;\n      console.debug(\"Bokeh: injecting link tag for BokehJS stylesheet: \", url);\n      document.body.appendChild(element);\n    }\n\n    for (let i = 0; i < js_urls.length; i++) {\n      const url = js_urls[i];\n      const element = document.createElement('script');\n      element.onload = on_load;\n      element.onerror = on_error.bind(null, url);\n      element.async = false;\n      element.src = url;\n      console.debug(\"Bokeh: injecting script tag for BokehJS library: \", url);\n      document.head.appendChild(element);\n    }\n  };\n\n  function inject_raw_css(css) {\n    const element = document.createElement(\"style\");\n    element.appendChild(document.createTextNode(css));\n    document.body.appendChild(element);\n  }\n\n  const js_urls = [\"https://cdn.bokeh.org/bokeh/release/bokeh-2.4.3.min.js\", \"https://cdn.bokeh.org/bokeh/release/bokeh-gl-2.4.3.min.js\", \"https://cdn.bokeh.org/bokeh/release/bokeh-widgets-2.4.3.min.js\", \"https://cdn.bokeh.org/bokeh/release/bokeh-tables-2.4.3.min.js\", \"https://cdn.bokeh.org/bokeh/release/bokeh-mathjax-2.4.3.min.js\"];\n  const css_urls = [];\n\n  const inline_js = [    function(Bokeh) {\n      Bokeh.set_log_level(\"info\");\n    },\nfunction(Bokeh) {\n    }\n  ];\n\n  function run_inline_js() {\n    if (root.Bokeh !== undefined || force === true) {\n          for (let i = 0; i < inline_js.length; i++) {\n      inline_js[i].call(root, root.Bokeh);\n    }\n} else if (Date.now() < root._bokeh_timeout) {\n      setTimeout(run_inline_js, 100);\n    } else if (!root._bokeh_failed_load) {\n      console.log(\"Bokeh: BokehJS failed to load within specified timeout.\");\n      root._bokeh_failed_load = true;\n    } else if (force !== true) {\n      const cell = $(document.getElementById(null)).parents('.cell').data().cell;\n      cell.output_area.append_execute_result(NB_LOAD_WARNING)\n    }\n  }\n\n  if (root._bokeh_is_loading === 0) {\n    console.debug(\"Bokeh: BokehJS loaded, going straight to plotting\");\n    run_inline_js();\n  } else {\n    load_libs(css_urls, js_urls, function() {\n      console.debug(\"Bokeh: BokehJS plotting callback run at\", now());\n      run_inline_js();\n    });\n  }\n}(window));"
          },
          "metadata": {}
        },
        {
          "output_type": "display_data",
          "data": {
            "text/html": [
              "\n",
              "  <div class=\"bk-root\" id=\"9386b846-b7eb-4dc4-a07a-7e63531f73bb\" data-root-id=\"2241\"></div>\n"
            ]
          },
          "metadata": {}
        },
        {
          "output_type": "display_data",
          "data": {
            "application/javascript": [
              "(function(root) {\n",
              "  function embed_document(root) {\n",
              "  const docs_json = {\"9762b1af-04ac-4131-a792-7c38146d3f5b\":{\"defs\":[],\"roots\":{\"references\":[{\"attributes\":{\"children\":[{\"id\":\"2238\"},{\"id\":\"2240\"}],\"sizing_mode\":\"stretch_width\"},\"id\":\"2241\",\"type\":\"Row\"},{\"attributes\":{},\"id\":\"1830\",\"type\":\"LinearScale\"},{\"attributes\":{\"callback\":null,\"mode\":\"vline\",\"point_policy\":\"follow_mouse\",\"renderers\":[{\"id\":\"2136\"}],\"tooltips\":[[\"#\",\"@index\"],[\"SIGNAL\",\"@{SIGNAL_0_1}{0,0.0[0000]}\"]]},\"id\":\"2152\",\"type\":\"HoverTool\"},{\"attributes\":{\"coordinates\":null,\"formatter\":{\"id\":\"1886\"},\"group\":null,\"major_label_policy\":{\"id\":\"1887\"},\"ticker\":{\"id\":\"1835\"},\"visible\":false},\"id\":\"1834\",\"type\":\"LinearAxis\"},{\"attributes\":{\"coordinates\":null,\"formatter\":{\"id\":\"2141\"},\"group\":null,\"major_label_policy\":{\"id\":\"2142\"},\"minor_tick_line_color\":null,\"ticker\":{\"id\":\"2113\"}},\"id\":\"2112\",\"type\":\"LinearAxis\"},{\"attributes\":{},\"id\":\"1828\",\"type\":\"DataRange1d\"},{\"attributes\":{},\"id\":\"1832\",\"type\":\"LinearScale\"},{\"attributes\":{},\"id\":\"2102\",\"type\":\"DataRange1d\"},{\"attributes\":{\"below\":[{\"id\":\"2108\"}],\"center\":[{\"id\":\"2111\"},{\"id\":\"2115\"},{\"id\":\"2149\"},{\"id\":\"2151\"}],\"height\":90,\"left\":[{\"id\":\"2112\"}],\"min_border_bottom\":6,\"min_border_left\":0,\"min_border_right\":10,\"min_border_top\":3,\"outline_line_color\":\"#666666\",\"renderers\":[{\"id\":\"2136\"}],\"sizing_mode\":\"stretch_width\",\"title\":{\"id\":\"2138\"},\"toolbar\":{\"id\":\"2124\"},\"toolbar_location\":null,\"width\":null,\"x_range\":{\"id\":\"1788\"},\"x_scale\":{\"id\":\"2104\"},\"y_range\":{\"id\":\"2102\"},\"y_scale\":{\"id\":\"2106\"}},\"id\":\"2100\",\"subtype\":\"Figure\",\"type\":\"Plot\"},{\"attributes\":{},\"id\":\"1835\",\"type\":\"BasicTicker\"},{\"attributes\":{\"args\":{\"ohlc_range\":{\"id\":\"1791\"},\"source\":{\"id\":\"1821\"},\"volume_range\":{\"id\":\"2025\"}},\"code\":\"if (!window._bt_scale_range) {\\n    window._bt_scale_range = function (range, min, max, pad) {\\n        \\\"use strict\\\";\\n        if (min !== Infinity && max !== -Infinity) {\\n            pad = pad ? (max - min) * .03 : 0;\\n            range.start = min - pad;\\n            range.end = max + pad;\\n        } else console.error('backtesting: scale range error:', min, max, range);\\n    };\\n}\\n\\nclearTimeout(window._bt_autoscale_timeout);\\n\\nwindow._bt_autoscale_timeout = setTimeout(function () {\\n    /**\\n     * @variable cb_obj `fig_ohlc.x_range`.\\n     * @variable source `ColumnDataSource`\\n     * @variable ohlc_range `fig_ohlc.y_range`.\\n     * @variable volume_range `fig_volume.y_range`.\\n     */\\n    \\\"use strict\\\";\\n\\n    let i = Math.max(Math.floor(cb_obj.start), 0),\\n        j = Math.min(Math.ceil(cb_obj.end), source.data['ohlc_high'].length);\\n\\n    let max = Math.max.apply(null, source.data['ohlc_high'].slice(i, j)),\\n        min = Math.min.apply(null, source.data['ohlc_low'].slice(i, j));\\n    _bt_scale_range(ohlc_range, min, max, true);\\n\\n    if (volume_range) {\\n        max = Math.max.apply(null, source.data['Volume'].slice(i, j));\\n        _bt_scale_range(volume_range, 0, max * 1.03, false);\\n    }\\n\\n}, 50);\\n\"},\"id\":\"2156\",\"type\":\"CustomJS\"},{\"attributes\":{\"bounds\":[-50.2,1054.2],\"end\":1004,\"js_property_callbacks\":{\"change:end\":[{\"id\":\"2156\"}]},\"min_interval\":10},\"id\":\"1788\",\"type\":\"Range1d\"},{\"attributes\":{},\"id\":\"2104\",\"type\":\"LinearScale\"},{\"attributes\":{\"line_alpha\":0.1,\"line_color\":\"#1f77b4\",\"line_width\":1.5,\"x\":{\"field\":\"index\"},\"y\":{\"field\":\"equity\"}},\"id\":\"1867\",\"type\":\"Line\"},{\"attributes\":{\"axis\":{\"id\":\"1834\"},\"coordinates\":null,\"group\":null,\"ticker\":null},\"id\":\"1837\",\"type\":\"Grid\"},{\"attributes\":{},\"id\":\"2106\",\"type\":\"LinearScale\"},{\"attributes\":{\"coordinates\":null,\"formatter\":{\"id\":\"2144\"},\"group\":null,\"major_label_policy\":{\"id\":\"2145\"},\"ticker\":{\"id\":\"2109\"},\"visible\":false},\"id\":\"2108\",\"type\":\"LinearAxis\"},{\"attributes\":{},\"id\":\"2121\",\"type\":\"ResetTool\"},{\"attributes\":{\"fill_alpha\":0.1,\"fill_color\":\"#ffffea\",\"hatch_alpha\":0.1,\"line_alpha\":0.1,\"line_color\":\"#ffcb66\",\"x\":{\"field\":\"index\"},\"y\":{\"field\":\"equity_dd\"}},\"id\":\"1861\",\"type\":\"Patch\"},{\"attributes\":{},\"id\":\"1839\",\"type\":\"BasicTicker\"},{\"attributes\":{},\"id\":\"2109\",\"type\":\"BasicTicker\"},{\"attributes\":{\"axis\":{\"id\":\"2108\"},\"coordinates\":null,\"group\":null,\"ticker\":null},\"id\":\"2111\",\"type\":\"Grid\"},{\"attributes\":{\"line_color\":\"#1f77b4\",\"line_width\":1.5,\"x\":{\"field\":\"index\"},\"y\":{\"field\":\"equity\"}},\"id\":\"1866\",\"type\":\"Line\"},{\"attributes\":{},\"id\":\"2145\",\"type\":\"AllLabels\"},{\"attributes\":{\"axis\":{\"id\":\"2112\"},\"coordinates\":null,\"dimension\":1,\"group\":null,\"ticker\":null},\"id\":\"2115\",\"type\":\"Grid\"},{\"attributes\":{\"label\":{\"value\":\"Max Drawdown (-12.1%)\"},\"renderers\":[{\"id\":\"1924\"}]},\"id\":\"1944\",\"type\":\"LegendItem\"},{\"attributes\":{},\"id\":\"2113\",\"type\":\"BasicTicker\"},{\"attributes\":{\"source\":{\"id\":\"1858\"}},\"id\":\"1864\",\"type\":\"CDSView\"},{\"attributes\":{},\"id\":\"2119\",\"type\":\"UndoTool\"},{\"attributes\":{\"fill_alpha\":0.2,\"fill_color\":\"#ffffea\",\"hatch_alpha\":0.2,\"line_alpha\":0.2,\"line_color\":\"#ffcb66\",\"x\":{\"field\":\"index\"},\"y\":{\"field\":\"equity_dd\"}},\"id\":\"1862\",\"type\":\"Patch\"},{\"attributes\":{\"dimensions\":\"width\",\"maintain_focus\":false},\"id\":\"2117\",\"type\":\"WheelZoomTool\"},{\"attributes\":{\"axis_label\":\"Equity\",\"coordinates\":null,\"formatter\":{\"id\":\"1873\"},\"group\":null,\"major_label_policy\":{\"id\":\"1884\"},\"minor_tick_line_color\":null,\"ticker\":{\"id\":\"1839\"}},\"id\":\"1838\",\"type\":\"LinearAxis\"},{\"attributes\":{\"dimensions\":\"width\"},\"id\":\"2116\",\"type\":\"PanTool\"},{\"attributes\":{},\"id\":\"1892\",\"type\":\"UnionRenderers\"},{\"attributes\":{\"overlay\":{\"id\":\"2123\"}},\"id\":\"2118\",\"type\":\"BoxZoomTool\"},{\"attributes\":{},\"id\":\"2120\",\"type\":\"RedoTool\"},{\"attributes\":{\"fill_color\":\"#ffffea\",\"line_color\":\"#ffcb66\",\"x\":{\"field\":\"index\"},\"y\":{\"field\":\"equity_dd\"}},\"id\":\"1860\",\"type\":\"Patch\"},{\"attributes\":{\"coordinates\":null,\"data_source\":{\"id\":\"1858\"},\"glyph\":{\"id\":\"1860\"},\"group\":null,\"hover_glyph\":null,\"muted_glyph\":{\"id\":\"1862\"},\"nonselection_glyph\":{\"id\":\"1861\"},\"view\":{\"id\":\"1864\"}},\"id\":\"1863\",\"type\":\"GlyphRenderer\"},{\"attributes\":{},\"id\":\"2122\",\"type\":\"SaveTool\"},{\"attributes\":{\"axis\":{\"id\":\"1838\"},\"coordinates\":null,\"dimension\":1,\"group\":null,\"ticker\":null},\"id\":\"1841\",\"type\":\"Grid\"},{\"attributes\":{\"coordinates\":null,\"data_source\":{\"id\":\"1821\"},\"glyph\":{\"id\":\"1866\"},\"group\":null,\"hover_glyph\":null,\"muted_glyph\":{\"id\":\"1868\"},\"nonselection_glyph\":{\"id\":\"1867\"},\"view\":{\"id\":\"1870\"}},\"id\":\"1869\",\"type\":\"GlyphRenderer\"},{\"attributes\":{\"bottom_units\":\"screen\",\"coordinates\":null,\"fill_alpha\":0.5,\"fill_color\":\"lightgrey\",\"group\":null,\"left_units\":\"screen\",\"level\":\"overlay\",\"line_alpha\":1.0,\"line_color\":\"black\",\"line_dash\":[4,4],\"line_width\":2,\"right_units\":\"screen\",\"syncable\":false,\"top_units\":\"screen\"},\"id\":\"2123\",\"type\":\"BoxAnnotation\"},{\"attributes\":{\"line_alpha\":0.2,\"line_color\":\"#1f77b4\",\"line_width\":1.5,\"x\":{\"field\":\"index\"},\"y\":{\"field\":\"equity\"}},\"id\":\"1868\",\"type\":\"Line\"},{\"attributes\":{\"label\":{\"value\":\"SIGNAL\"},\"renderers\":[{\"id\":\"2136\"}]},\"id\":\"2150\",\"type\":\"LegendItem\"},{\"attributes\":{},\"id\":\"1942\",\"type\":\"Selection\"},{\"attributes\":{\"factors\":[\"0\",\"1\"],\"palette\":[\"tomato\",\"lime\"]},\"id\":\"1823\",\"type\":\"CategoricalColorMapper\"},{\"attributes\":{\"label\":{\"value\":\"Peak (100%)\"},\"renderers\":[{\"id\":\"1879\"}]},\"id\":\"1896\",\"type\":\"LegendItem\"},{\"attributes\":{\"border_line_color\":\"#333333\",\"click_policy\":\"hide\",\"coordinates\":null,\"glyph_width\":0,\"group\":null,\"items\":[{\"id\":\"2150\"}],\"label_text_font_size\":\"8pt\",\"location\":\"top_left\",\"margin\":0,\"padding\":5,\"spacing\":0},\"id\":\"2149\",\"type\":\"Legend\"},{\"attributes\":{\"source\":{\"id\":\"1821\"}},\"id\":\"1870\",\"type\":\"CDSView\"},{\"attributes\":{\"callback\":null,\"mode\":\"vline\",\"point_policy\":\"follow_mouse\",\"renderers\":[{\"id\":\"1869\"}],\"tooltips\":[[\"#\",\"@index\"],[\"Equity\",\"@equity{+0,0.[000]%}\"]]},\"id\":\"1871\",\"type\":\"HoverTool\"},{\"attributes\":{\"data\":{},\"selected\":{\"id\":\"1893\"},\"selection_policy\":{\"id\":\"1892\"}},\"id\":\"1875\",\"type\":\"ColumnDataSource\"},{\"attributes\":{\"source\":{\"id\":\"1821\"}},\"id\":\"2137\",\"type\":\"CDSView\"},{\"attributes\":{\"coordinates\":null,\"group\":null},\"id\":\"2138\",\"type\":\"Title\"},{\"attributes\":{\"data\":{\"Close\":{\"__ndarray__\":\"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\",\"dtype\":\"float64\",\"order\":\"little\",\"shape\":[1005]},\"High\":{\"__ndarray__\":\"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\",\"dtype\":\"float64\",\"order\":\"little\",\"shape\":[1005]},\"Low\":{\"__ndarray__\":\"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\",\"dtype\":\"float64\",\"order\":\"little\",\"shape\":[1005]},\"Open\":{\"__ndarray__\":\"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\",\"dtype\":\"float64\",\"order\":\"little\",\"shape\":[1005]},\"SIGNAL_0_1\":[0,0,0,0,0,0,0,0,0,0,0,0,0,0,0,0,0,0,0,0,0,0,0,0,0,0,0,0,0,0,0,0,0,0,0,0,0,0,0,0,0,0,0,0,0,0,0,0,0,0,0,0,0,0,0,0,0,0,0,0,0,0,0,0,0,0,0,2,0,0,0,0,0,0,0,0,0,0,0,0,0,0,0,0,0,0,0,0,0,0,0,0,0,0,0,0,2,0,0,0,0,0,0,0,0,0,0,0,0,0,0,0,0,0,0,0,0,0,0,0,0,0,0,0,0,0,0,1,0,0,0,0,0,0,0,0,0,0,0,0,0,0,0,2,0,0,0,0,0,0,0,0,0,0,0,0,0,0,0,0,0,0,0,0,0,0,0,0,0,0,0,0,0,0,0,0,0,0,0,0,0,0,0,0,0,0,0,0,0,0,0,0,0,0,0,0,0,0,0,0,0,0,0,0,0,0,0,0,0,0,0,0,0,0,0,0,0,0,0,0,0,0,0,1,0,0,2,0,0,0,0,0,0,0,0,0,0,0,0,0,0,0,0,0,0,0,0,0,2,0,0,0,0,0,0,0,0,2,0,0,0,0,0,0,0,0,0,0,0,1,0,0,0,0,0,0,0,0,0,0,0,0,0,0,0,0,0,0,0,0,0,0,0,0,0,0,0,0,0,0,0,0,0,0,0,0,0,0,0,0,0,0,0,0,0,0,0,0,0,0,0,0,0,0,0,0,0,0,0,0,0,0,0,0,0,0,0,0,0,0,0,0,0,0,0,0,0,0,0,0,0,0,0,0,0,0,0,0,0,0,0,0,0,0,0,0,0,0,0,0,0,0,0,0,0,0,0,0,0,0,0,0,0,0,0,0,0,0,0,0,0,0,0,0,0,0,0,0,0,0,0,0,0,0,0,0,0,0,0,0,0,0,0,0,0,0,0,0,0,1,0,0,0,0,0,0,0,2,0,1,0,0,0,0,0,0,0,0,0,0,0,0,0,0,0,0,0,0,0,0,0,0,2,0,0,0,0,0,0,0,0,0,0,0,0,0,0,0,0,0,0,0,0,0,0,0,0,0,0,0,0,0,0,0,0,0,0,0,0,0,0,0,0,0,0,0,0,0,2,0,0,0,0,0,0,0,0,0,0,0,0,0,0,0,0,0,0,0,0,0,0,0,0,0,0,0,0,0,0,0,0,0,0,0,0,0,0,0,0,0,0,0,0,0,0,0,0,0,0,0,0,0,0,0,0,0,0,0,0,0,0,0,0,0,0,0,0,0,0,1,0,0,0,0,0,0,0,0,0,0,0,0,0,0,0,0,2,0,0,0,0,0,0,0,0,0,0,0,0,0,0,0,0,0,0,0,0,0,0,0,0,0,0,0,0,0,0,0,0,0,0,0,0,0,0,0,0,0,0,0,0,0,0,0,2,0,0,0,0,0,0,0,0,0,0,0,0,2,0,0,0,0,2,0,1,0,0,0,0,0,0,0,0,0,0,0,0,0,0,0,0,0,0,0,0,0,0,0,0,0,0,0,0,0,0,0,0,0,0,0,0,0,0,0,0,0,0,0,0,0,0,0,0,0,0,0,0,0,0,0,0,0,0,0,0,0,0,0,0,0,0,0,0,0,0,0,0,0,0,0,0,1,0,0,0,0,0,0,0,0,0,0,0,0,0,0,0,0,0,0,0,2,0,0,0,0,0,0,0,0,0,1,0,0,0,0,0,0,0,0,0,0,0,0,0,0,0,0,0,0,0,0,0,0,0,0,0,0,0,0,0,0,0,0,0,0,0,0,0,0,0,0,0,0,0,0,0,0,0,0,0,0,0,0,0,0,0,0,0,0,0,1,0,0,0,0,0,0,0,0,0,0,0,0,0,0,0,0,0,0,0,0,0,0,0,0,0,0,0,0,0,0,0,0,0,0,0,0,0,0,0,0,0,0,0,0,0,0,0,0,0,0,0,0,0,0,0,0,0,0,0,0,0,0,0,0,0,0,0,0,0,0,0,0,0,0,0,0,0,0,0,0,0,0,0,0,0,0,0,0,0,0,0,0,0,0,0,0,0,0,0,1,0,0,0,0,0,0,0,0,0,0,0,0,0,0,0,0,0,0,0,0,0,0,0,1,0,0,0,0,0,0,0,0,0,0,0,0,0,0,0,0,0,0,0,0,0,0,0,0,0,2,1,0,0,0,0,0,0,0,0,0,0,0,0,0,0,0,0,0,0,0,0,0,0,0,0,0,0,0,0,1,0,0,0],\"Volume\":[9796282,6308209,6708388,4054489,4097939,7987438,6911830,3615156,4712408,5349770,6039198,3867305,7679143,7348644,8043652,6715059,5624995,8777168,11182203,9943410,15450941,12315666,8922552,10422792,11301160,10794143,7125920,10977849,8142006,7953264,6818107,7688607,11372574,19250938,10198351,9807108,6457463,10911205,11177984,7402199,7446497,23432473,22151189,24913364,11095381,9592247,13349523,9144401,8955871,7549490,12906841,25662196,13290338,10673958,13784775,14229855,9269654,7744528,8890179,16613693,9485091,16955411,7654392,8716110,1296168,10943218,5856714,6876165,7861347,6896498,11136460,7378262,5774119,7578978,5847475,6447094,6874782,8079833,12755947,10819038,5622372,5242047,5874782,5921712,7282460,9470471,13622580,12724917,9385649,7289774,5112362,5926578,7438647,5819374,8360445,4183821,7278403,12596278,7738682,7291282,4498087,7212697,7517041,8545382,5565822,5678473,5821468,4118960,6525174,4150757,10158260,6443279,7558941,25927601,22247437,16709723,8913196,13279882,8631889,8650493,9417294,7921321,10281893,9316446,11781195,9451152,9500797,9299549,6567167,7595318,6460145,6690180,9688940,9740480,6303377,6357879,10680467,8838861,7926962,10227082,11218523,11393904,7997610,7189013,12152341,8186126,6097305,9810964,11335173,11342554,10500649,16043743,10201021,9898262,9986597,11573789,8027368,9569142,10189856,10582305,10194002,8088587,7923866,8455067,6792015,8806267,9587648,7684871,5795755,5975855,4285366,8011783,18130729,10895052,9141135,7430660,14061860,6954749,10313866,8764806,6571878,7306518,8961240,14749036,19692278,11333250,8124086,13124240,11269622,6669276,7973309,12450850,14003548,11394393,17890505,10277262,7419387,19657240,7180252,10842653,11871652,8564026,7126831,7736969,6794394,5431146,5303590,4752340,7239164,6896085,6880158,7751984,6688408,4960591,10723794,5199824,6907221,5350180,11493899,8741806,6220490,4682721,4064194,4315672,5042694,6465252,8092747,5546395,3972764,7242056,4919356,4647660,4376049,5511650,7539309,13426225,9375991,7009804,10063036,9408829,8134417,9623710,9797618,10442920,10968377,14029195,13414874,11698729,14398134,10139155,48377710,14624460,10142736,7530571,6908329,4927825,6475744,9833599,8861952,13107475,5355931,8717834,11415309,8644177,15206140,10612413,10700713,5421667,5597024,5482620,5975368,9482774,7218213,6891996,6353109,22228398,9973401,16133561,8395729,8468733,8795570,11659226,8270254,6241716,6918922,4643419,8117158,16155443,7659571,6181455,4463991,8954786,7401968,12978275,12823466,8512900,10449504,6248688,1391348,11892161,7541537,8982513,6416833,6490272,5854289,6749668,6499781,5546929,5241641,11641679,6580126,7241673,6496095,13926337,20092835,6875134,10315843,6989948,16305243,4450122,6344459,8565249,14410500,5995079,9685777,9203442,6038833,5834593,4694991,5706279,4765727,5846419,5488487,9379800,6803466,9464354,9816798,11587233,8329356,13734705,8158196,7902607,10246683,6463060,8173308,9684434,11315596,7699489,7406104,6914533,5758760,8437316,7299328,7299939,5929338,13597387,15019904,8732832,4763978,5190829,6751025,6178444,11321622,11420535,10338837,16037262,14173717,11714666,8524871,7171051,5634549,6988250,6460912,6245738,6260549,9796645,6068321,5135183,6499952,7795779,9862350,12804341,13550903,11562875,18144221,13614473,12644541,10201574,14080540,15568253,40698294,27495503,25830369,33826739,17759556,20973312,20643079,28337941,29240849,18769636,21106643,33749620,21111073,19225132,13951078,20441125,19197220,19091236,25093419,23019764,15244658,10925447,16301024,17285802,15353792,16628269,28322996,65848350,30211857,62296159,26989849,36206232,17303785,32926121,24670336,20723079,18685710,23087436,38887255,30959745,46465281,30657492,22736607,28683258,28980385,19528760,25530626,18076017,17458065,15329472,16460756,18518271,18470390,18434012,10224049,11713461,15784379,15264885,14497996,11933076,10214213,9408046,17790311,24509058,23622794,19282411,18677617,48828609,27781693,17519493,23807033,18312025,14270458,11824524,13972563,13136179,13286365,13583909,21697962,16239990,12093186,16807336,20195218,32124262,31073305,64457578,28133826,22948894,16887635,19463004,27584518,26921017,55655668,37060665,25435297,33534147,33623699,34593133,21559142,42476932,34404810,22762545,15222303,12441573,21611256,13967116,11459190,15333164,14296834,14097746,15731396,10401212,11667129,15098991,8947563,27630190,12961252,12537520,28648125,17821397,12437162,8577634,13141644,10119064,12643749,25525961,64750460,27445768,20335273,12542824,15668979,11919927,15264068,15519031,16056620,19839282,13764841,13095028,9076248,11926328,11290667,9591456,8732869,8497216,24538346,9727405,8558745,6565515,10666190,12341434,9246702,9960828,14398973,8529573,15728986,14215215,10809307,17225212,16835005,13809929,14147418,15700946,45857806,40931170,37003111,17170274,30770080,16539467,17045147,26178477,18481466,20946864,2411900,21479385,14030652,12828008,26522972,20918665,14277083,15062376,11924527,21845931,9114939,10240168,12822945,8521388,8418767,20030506,13464375,7414229,12434745,7989830,8561406,8565904,9346460,8522215,20368545,12986606,8999898,9588577,7947719,8589407,10173132,8667516,4622002,11312992,11132803,21414270,14918406,12709792,15371556,18996047,12284876,9946818,9503790,16198856,14771048,14271669,18038987,14090818,25016570,19553809,15722291,20173258,15774504,19138414,13984228,11826848,9344470,9776136,9047308,9799560,19631870,14074374,7287590,9886093,10957388,8605531,10800704,10985697,11834752,4987735,16085897,17297575,8159670,7915073,14733134,9892597,11773630,9002404,6993792,5316182,7783173,7706170,6402757,8865521,9528809,19284892,8571196,8039865,7763726,10153757,9313160,9433842,7499740,5410307,6864856,6465241,11198918,7092878,6478482,9646031,8958261,9102492,7225679,8527967,7939490,6687573,5459016,9620785,9226547,7902002,8035915,9150974,10909942,10083693,5719649,6749281,5671163,6433879,6220217,6081627,6134079,5479424,5567958,7530294,5271497,4977555,3946636,6821015,3452113,12377100,26060864,27285782,12928379,11366816,11064116,6677278,7539326,4464889,5265326,6532832,6351520,9383416,7002898,4982975,7266765,13553801,5624044,5940386,7685796,42209687,25546334,9357852,12526981,9120556,5784627,6500973,5400604,4647361,4824931,5162088,4170886,3962111,3099956,3937768,4360415,4074206,3855577,3111185,3679260,4585938,5717830,4995516,5952355,6352886,5238304,5041934,5453682,6077861,9807831,7670583,3458546,5500708,4238859,3755507,5898384,10123204,5841743,4650008,4350228,4547802,5475452,6175126,8579105,4836812,6473487,12223037,5143640,4595048,14151629,15525644,8006968,6600210,4136538,7527598,4111205,4186300,6206657,16098099,5436385,4576111,5074612,7267883,7011181,7095022,8323269,4485721,6272085,4134544,5038910,6245770,4734472,2924370,7279003,6815737,3083747,4596429,3979730,6273850,4076617,5865926,9613812,5089178,7937067,4499706,4567140,4562471,6568539,7144532,4877652,5533120,787160,9385607,7237470,4731975,4948422,4020744,2216708,5232292,4708235,3925345,11133364,11688406,7762564,19568487,7274686,11226147,14847511,4663276,5870468,8871172,4768334,5185007,4035437,6098050,3860176,5954148,5995586,4322855,4504829,9714489,6611376,5924071,8149415,4186912,3639616,1853948,2941883,7118779,13537254,4373768,2502073,5006225,5373618,6667483,6051239,4267365,7478681,6830402,5471871,9197773,3708822,2868235,4502155,7612203,6155759,10092511,11311456,9239426,6769154,5604308,6092033,4623163,4417864,5104761,4944725,5566080,5300891,5752361,7357863,4947109,5174646,4796294,5931774,3126873,5125968,6227901,3373615,11466725,6724094,9828768,9909226,4701183,4986814,8299295,9825043,9421163,8297995,5656799,3849222,7349740,5145644,9886295,5537752,10410082,7135797,6077153,6563676,4564891,4007695,7297028,6102744,3656408,3659307,6068663,5656703,7151632,6992874,4270816,6099986,4778478,4603103,12064446,11570835,10018531,6947490,7874671,5643066,8924920,11820892,8406156,4369022,8882792,7942721,9068448,8345649,9004636,7681157,9456280,8910998,6201594,7638666,7973235,6783641,10057508,7039144,6243086,5867760,8252551,7624888,6393341,32591420,4512079,10211408,11048210,5119488,5703333,5759172,7973935,8349943,8131998,6790653,5166738,7896943,11286988,5568825,5408801,4899839,8974475,6571866,7141493,6263867,8863172,10666627,37841671,19317335,8144239,11050026,10753423,8773162,6390604,4974502,6564435,7831798,4431880,6996757,7587006,11041036,7625468,5062651,10665470,5216466,3994321,5766936,6982808,7245568,6423115,6576824,6676577,6434433,4691228,4949442,3783480,5838244,3049304,3044037,3419730,4366123,4371179,4466619,4785579,3632902,4957449,9155684],\"datetime\":[0,1,2,3,4,5,6,7,8,9,10,11,12,13,14,15,16,17,18,19,20,21,22,23,24,25,26,27,28,29,30,31,32,33,34,35,36,37,38,39,40,41,42,43,44,45,46,47,48,49,50,51,52,53,54,55,56,57,58,59,60,61,62,63,64,65,66,67,68,69,70,71,72,73,74,75,76,77,78,79,80,81,82,83,84,85,86,87,88,89,90,91,92,93,94,95,96,97,98,99,100,101,102,103,104,105,106,107,108,109,110,111,112,113,114,115,116,117,118,119,120,121,122,123,124,125,126,127,128,129,130,131,132,133,134,135,136,137,138,139,140,141,142,143,144,145,146,147,148,149,150,151,152,153,154,155,156,157,158,159,160,161,162,163,164,165,166,167,168,169,170,171,172,173,174,175,176,177,178,179,180,181,182,183,184,185,186,187,188,189,190,191,192,193,194,195,196,197,198,199,200,201,202,203,204,205,206,207,208,209,210,211,212,213,214,215,216,217,218,219,220,221,222,223,224,225,226,227,228,229,230,231,232,233,234,235,236,237,238,239,240,241,242,243,244,245,246,247,248,249,250,251,252,253,254,255,256,257,258,259,260,261,262,263,264,265,266,267,268,269,270,271,272,273,274,275,276,277,278,279,280,281,282,283,284,285,286,287,288,289,290,291,292,293,294,295,296,297,298,299,300,301,302,303,304,305,306,307,308,309,310,311,312,313,314,315,316,317,318,319,320,321,322,323,324,325,326,327,328,329,330,331,332,333,334,335,336,337,338,339,340,341,342,343,344,345,346,347,348,349,350,351,352,353,354,355,356,357,358,359,360,361,362,363,364,365,366,367,368,369,370,371,372,373,374,375,376,377,378,379,380,381,382,383,384,385,386,387,388,389,390,391,392,393,394,395,396,397,398,399,400,401,402,403,404,405,406,407,408,409,410,411,412,413,414,415,416,417,418,419,420,421,422,423,424,425,426,427,428,429,430,431,432,433,434,435,436,437,438,439,440,441,442,443,444,445,446,447,448,449,450,451,452,453,454,455,456,457,458,459,460,461,462,463,464,465,466,467,468,469,470,471,472,473,474,475,476,477,478,479,480,481,482,483,484,485,486,487,488,489,490,491,492,493,494,495,496,497,498,499,500,501,502,503,504,505,506,507,508,509,510,511,512,513,514,515,516,517,518,519,520,521,522,523,524,525,526,527,528,529,530,531,532,533,534,535,536,537,538,539,540,541,542,543,544,545,546,547,548,549,550,551,552,553,554,555,556,557,558,559,560,561,562,563,564,565,566,567,568,569,570,571,572,573,574,575,576,577,578,579,580,581,582,583,584,585,586,587,588,589,590,591,592,593,594,595,596,597,598,599,600,601,602,603,604,605,606,607,608,609,610,611,612,613,614,615,616,617,618,619,620,621,622,623,624,625,626,627,628,629,630,631,632,633,634,635,636,637,638,639,640,641,642,643,644,645,646,647,648,649,650,651,652,653,654,655,656,657,658,659,660,661,662,663,664,665,666,667,668,669,670,671,672,673,674,675,676,677,678,679,680,681,682,683,684,685,686,687,688,689,690,691,692,693,694,695,696,697,698,699,700,701,702,703,704,705,706,707,708,709,710,711,712,713,714,715,716,717,718,719,720,721,722,723,724,725,726,727,728,729,730,731,732,733,734,735,736,737,738,739,740,741,742,743,744,745,746,747,748,749,750,751,752,753,754,755,756,757,758,759,760,761,762,763,764,765,766,767,768,769,770,771,772,773,774,775,776,777,778,779,780,781,782,783,784,785,786,787,788,789,790,791,792,793,794,795,796,797,798,799,800,801,802,803,804,805,806,807,808,809,810,811,812,813,814,815,816,817,818,819,820,821,822,823,824,825,826,827,828,829,830,831,832,833,834,835,836,837,838,839,840,841,842,843,844,845,846,847,848,849,850,851,852,853,854,855,856,857,858,859,860,861,862,863,864,865,866,867,868,869,870,871,872,873,874,875,876,877,878,879,880,881,882,883,884,885,886,887,888,889,890,891,892,893,894,895,896,897,898,899,900,901,902,903,904,905,906,907,908,909,910,911,912,913,914,915,916,917,918,919,920,921,922,923,924,925,926,927,928,929,930,931,932,933,934,935,936,937,938,939,940,941,942,943,944,945,946,947,948,949,950,951,952,953,954,955,956,957,958,959,960,961,962,963,964,965,966,967,968,969,970,971,972,973,974,975,976,977,978,979,980,981,982,983,984,985,986,987,988,989,990,991,992,993,994,995,996,997,998,999,1000,1001,1002,1003,1004],\"equity\":{\"__ndarray__\":\"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\",\"dtype\":\"float64\",\"order\":\"little\",\"shape\":[1005]},\"inc\":[\"1\",\"0\",\"1\",\"1\",\"0\",\"1\",\"0\",\"0\",\"0\",\"1\",\"0\",\"0\",\"1\",\"1\",\"1\",\"1\",\"1\",\"1\",\"0\",\"0\",\"0\",\"0\",\"1\",\"0\",\"1\",\"1\",\"0\",\"0\",\"1\",\"0\",\"0\",\"0\",\"0\",\"0\",\"1\",\"0\",\"1\",\"0\",\"0\",\"0\",\"0\",\"0\",\"0\",\"1\",\"0\",\"1\",\"1\",\"1\",\"1\",\"1\",\"0\",\"1\",\"0\",\"1\",\"0\",\"0\",\"1\",\"1\",\"0\",\"1\",\"0\",\"1\",\"1\",\"1\",\"0\",\"0\",\"0\",\"1\",\"0\",\"0\",\"1\",\"1\",\"0\",\"0\",\"0\",\"1\",\"1\",\"1\",\"1\",\"0\",\"0\",\"0\",\"1\",\"0\",\"1\",\"0\",\"1\",\"1\",\"0\",\"1\",\"1\",\"1\",\"0\",\"1\",\"0\",\"0\",\"1\",\"1\",\"1\",\"0\",\"0\",\"0\",\"0\",\"1\",\"0\",\"0\",\"0\",\"0\",\"0\",\"1\",\"1\",\"1\",\"0\",\"1\",\"1\",\"1\",\"0\",\"1\",\"0\",\"0\",\"0\",\"0\",\"1\",\"1\",\"1\",\"0\",\"1\",\"0\",\"0\",\"0\",\"1\",\"0\",\"1\",\"0\",\"0\",\"1\",\"1\",\"0\",\"0\",\"1\",\"0\",\"0\",\"0\",\"1\",\"1\",\"1\",\"1\",\"1\",\"1\",\"1\",\"0\",\"0\",\"1\",\"1\",\"0\",\"0\",\"0\",\"1\",\"0\",\"1\",\"1\",\"0\",\"0\",\"0\",\"0\",\"0\",\"1\",\"0\",\"1\",\"0\",\"0\",\"0\",\"1\",\"0\",\"1\",\"1\",\"0\",\"1\",\"0\",\"1\",\"1\",\"0\",\"0\",\"0\",\"0\",\"0\",\"0\",\"1\",\"0\",\"1\",\"1\",\"1\",\"1\",\"0\",\"0\",\"0\",\"0\",\"1\",\"0\",\"1\",\"0\",\"1\",\"0\",\"0\",\"0\",\"0\",\"1\",\"0\",\"0\",\"0\",\"0\",\"1\",\"0\",\"1\",\"0\",\"0\",\"1\",\"1\",\"0\",\"0\",\"1\",\"1\",\"0\",\"1\",\"0\",\"0\",\"1\",\"0\",\"0\",\"0\",\"0\",\"1\",\"0\",\"0\",\"0\",\"1\",\"0\",\"0\",\"0\",\"0\",\"0\",\"0\",\"0\",\"1\",\"1\",\"0\",\"0\",\"0\",\"1\",\"1\",\"1\",\"0\",\"0\",\"1\",\"0\",\"0\",\"0\",\"1\",\"0\",\"0\",\"0\",\"0\",\"1\",\"0\",\"1\",\"0\",\"1\",\"1\",\"1\",\"0\",\"1\",\"1\",\"0\",\"1\",\"0\",\"1\",\"0\",\"1\",\"0\",\"1\",\"1\",\"1\",\"0\",\"1\",\"0\",\"1\",\"1\",\"1\",\"0\",\"0\",\"1\",\"1\",\"1\",\"1\",\"0\",\"0\",\"1\",\"0\",\"0\",\"1\",\"0\",\"0\",\"1\",\"0\",\"0\",\"0\",\"1\",\"0\",\"0\",\"1\",\"0\",\"1\",\"0\",\"1\",\"0\",\"0\",\"1\",\"1\",\"0\",\"1\",\"1\",\"0\",\"0\",\"0\",\"0\",\"0\",\"1\",\"1\",\"0\",\"1\",\"0\",\"1\",\"0\",\"0\",\"1\",\"1\",\"0\",\"1\",\"0\",\"0\",\"1\",\"0\",\"0\",\"0\",\"1\",\"1\",\"0\",\"1\",\"0\",\"1\",\"0\",\"0\",\"0\",\"0\",\"1\",\"1\",\"0\",\"1\",\"0\",\"0\",\"0\",\"0\",\"0\",\"1\",\"0\",\"0\",\"1\",\"1\",\"1\",\"1\",\"0\",\"1\",\"1\",\"1\",\"0\",\"1\",\"0\",\"0\",\"1\",\"0\",\"0\",\"0\",\"0\",\"0\",\"0\",\"0\",\"1\",\"0\",\"0\",\"1\",\"0\",\"1\",\"0\",\"1\",\"0\",\"0\",\"0\",\"0\",\"1\",\"0\",\"1\",\"1\",\"0\",\"0\",\"0\",\"1\",\"0\",\"0\",\"1\",\"1\",\"1\",\"0\",\"0\",\"1\",\"1\",\"1\",\"1\",\"1\",\"1\",\"1\",\"0\",\"0\",\"0\",\"1\",\"0\",\"1\",\"0\",\"1\",\"1\",\"0\",\"0\",\"0\",\"0\",\"1\",\"0\",\"0\",\"1\",\"1\",\"0\",\"0\",\"1\",\"1\",\"0\",\"1\",\"1\",\"0\",\"1\",\"0\",\"0\",\"0\",\"1\",\"0\",\"1\",\"1\",\"0\",\"1\",\"1\",\"1\",\"0\",\"0\",\"0\",\"0\",\"1\",\"0\",\"0\",\"1\",\"1\",\"1\",\"1\",\"0\",\"0\",\"1\",\"1\",\"1\",\"0\",\"0\",\"0\",\"1\",\"1\",\"1\",\"1\",\"1\",\"1\",\"0\",\"1\",\"0\",\"1\",\"0\",\"0\",\"1\",\"0\",\"0\",\"1\",\"0\",\"0\",\"1\",\"0\",\"0\",\"0\",\"1\",\"0\",\"0\",\"0\",\"1\",\"0\",\"1\",\"0\",\"0\",\"0\",\"0\",\"1\",\"0\",\"0\",\"0\",\"1\",\"1\",\"1\",\"1\",\"0\",\"1\",\"1\",\"0\",\"0\",\"0\",\"0\",\"0\",\"0\",\"1\",\"0\",\"1\",\"0\",\"0\",\"0\",\"0\",\"1\",\"0\",\"0\",\"1\",\"1\",\"1\",\"0\",\"0\",\"0\",\"0\",\"0\",\"0\",\"1\",\"0\",\"0\",\"0\",\"1\",\"1\",\"0\",\"0\",\"1\",\"1\",\"1\",\"0\",\"1\",\"0\",\"0\",\"1\",\"0\",\"0\",\"0\",\"0\",\"0\",\"0\",\"1\",\"0\",\"0\",\"0\",\"1\",\"0\",\"0\",\"0\",\"1\",\"1\",\"1\",\"0\",\"0\",\"0\",\"0\",\"0\",\"1\",\"1\",\"0\",\"0\",\"1\",\"1\",\"0\",\"0\",\"1\",\"0\",\"0\",\"0\",\"0\",\"0\",\"0\",\"1\",\"0\",\"1\",\"0\",\"1\",\"0\",\"1\",\"1\",\"1\",\"1\",\"0\",\"0\",\"0\",\"0\",\"0\",\"1\",\"1\",\"1\",\"1\",\"0\",\"1\",\"0\",\"1\",\"1\",\"0\",\"0\",\"1\",\"1\",\"0\",\"1\",\"0\",\"0\",\"1\",\"1\",\"0\",\"0\",\"0\",\"1\",\"0\",\"1\",\"1\",\"0\",\"0\",\"0\",\"0\",\"0\",\"0\",\"0\",\"1\",\"0\",\"1\",\"0\",\"0\",\"0\",\"1\",\"0\",\"1\",\"0\",\"0\",\"1\",\"0\",\"0\",\"0\",\"1\",\"1\",\"0\",\"0\",\"0\",\"1\",\"0\",\"1\",\"1\",\"0\",\"1\",\"0\",\"0\",\"0\",\"0\",\"1\",\"0\",\"0\",\"1\",\"0\",\"1\",\"1\",\"1\",\"1\",\"0\",\"1\",\"0\",\"0\",\"0\",\"1\",\"1\",\"1\",\"1\",\"1\",\"0\",\"0\",\"1\",\"0\",\"0\",\"0\",\"1\",\"1\",\"0\",\"0\",\"1\",\"1\",\"1\",\"0\",\"0\",\"0\",\"0\",\"0\",\"0\",\"1\",\"0\",\"1\",\"1\",\"0\",\"0\",\"0\",\"0\",\"1\",\"0\",\"0\",\"0\",\"1\",\"0\",\"0\",\"1\",\"0\",\"0\",\"0\",\"0\",\"0\",\"0\",\"1\",\"0\",\"1\",\"1\",\"0\",\"0\",\"1\",\"1\",\"0\",\"1\",\"1\",\"0\",\"0\",\"1\",\"0\",\"1\",\"1\",\"1\",\"0\",\"1\",\"0\",\"0\",\"1\",\"1\",\"1\",\"1\",\"0\",\"0\",\"0\",\"0\",\"1\",\"1\",\"0\",\"1\",\"0\",\"1\",\"1\",\"0\",\"1\",\"1\",\"0\",\"0\",\"1\",\"1\",\"1\",\"0\",\"0\",\"1\",\"0\",\"1\",\"1\",\"1\",\"1\",\"1\",\"0\",\"0\",\"1\",\"0\",\"1\",\"0\",\"0\",\"0\",\"1\",\"0\",\"0\",\"1\",\"0\",\"1\",\"1\",\"1\",\"1\",\"0\",\"0\",\"0\",\"1\",\"0\",\"1\",\"0\",\"1\",\"0\",\"1\",\"0\",\"1\",\"1\",\"0\",\"0\",\"1\",\"0\",\"1\",\"1\",\"0\",\"1\",\"0\",\"0\",\"0\",\"0\",\"0\",\"1\",\"0\",\"1\",\"1\",\"1\",\"1\",\"0\",\"0\",\"1\",\"1\",\"1\",\"0\",\"1\",\"0\",\"1\",\"1\",\"1\",\"1\",\"1\",\"0\",\"0\",\"0\",\"1\",\"0\",\"1\",\"1\",\"0\",\"1\",\"0\",\"0\",\"0\",\"0\",\"0\",\"1\",\"1\",\"0\",\"1\",\"0\",\"1\",\"0\",\"1\",\"0\",\"0\",\"1\",\"0\",\"0\",\"1\",\"1\",\"1\",\"0\",\"0\",\"0\",\"1\",\"1\",\"0\",\"1\",\"1\",\"0\",\"1\",\"1\",\"1\",\"1\",\"1\",\"1\",\"1\",\"1\",\"0\",\"1\",\"0\",\"1\",\"1\",\"0\",\"1\",\"0\",\"1\",\"1\",\"0\",\"0\",\"1\",\"1\",\"1\",\"1\",\"0\",\"0\",\"1\",\"1\",\"1\",\"0\",\"1\",\"0\",\"0\",\"1\",\"0\",\"0\",\"0\",\"0\",\"1\",\"0\",\"1\",\"0\",\"0\",\"1\",\"0\",\"1\",\"0\",\"0\",\"0\",\"1\",\"0\",\"0\",\"1\",\"1\",\"0\",\"1\",\"0\",\"1\",\"0\",\"1\",\"0\",\"0\",\"0\",\"1\",\"0\",\"1\",\"0\",\"0\",\"1\",\"0\",\"1\",\"1\",\"1\",\"0\",\"1\",\"1\",\"0\",\"0\",\"0\",\"1\",\"1\",\"0\",\"1\",\"0\",\"1\",\"1\",\"0\",\"0\",\"1\",\"0\",\"1\",\"0\",\"1\",\"1\",\"1\",\"1\",\"1\",\"0\",\"0\",\"1\",\"1\",\"0\",\"1\",\"1\",\"1\",\"1\",\"0\",\"0\",\"1\",\"0\",\"0\",\"0\",\"1\"],\"index\":[0,1,2,3,4,5,6,7,8,9,10,11,12,13,14,15,16,17,18,19,20,21,22,23,24,25,26,27,28,29,30,31,32,33,34,35,36,37,38,39,40,41,42,43,44,45,46,47,48,49,50,51,52,53,54,55,56,57,58,59,60,61,62,63,64,65,66,67,68,69,70,71,72,73,74,75,76,77,78,79,80,81,82,83,84,85,86,87,88,89,90,91,92,93,94,95,96,97,98,99,100,101,102,103,104,105,106,107,108,109,110,111,112,113,114,115,116,117,118,119,120,121,122,123,124,125,126,127,128,129,130,131,132,133,134,135,136,137,138,139,140,141,142,143,144,145,146,147,148,149,150,151,152,153,154,155,156,157,158,159,160,161,162,163,164,165,166,167,168,169,170,171,172,173,174,175,176,177,178,179,180,181,182,183,184,185,186,187,188,189,190,191,192,193,194,195,196,197,198,199,200,201,202,203,204,205,206,207,208,209,210,211,212,213,214,215,216,217,218,219,220,221,222,223,224,225,226,227,228,229,230,231,232,233,234,235,236,237,238,239,240,241,242,243,244,245,246,247,248,249,250,251,252,253,254,255,256,257,258,259,260,261,262,263,264,265,266,267,268,269,270,271,272,273,274,275,276,277,278,279,280,281,282,283,284,285,286,287,288,289,290,291,292,293,294,295,296,297,298,299,300,301,302,303,304,305,306,307,308,309,310,311,312,313,314,315,316,317,318,319,320,321,322,323,324,325,326,327,328,329,330,331,332,333,334,335,336,337,338,339,340,341,342,343,344,345,346,347,348,349,350,351,352,353,354,355,356,357,358,359,360,361,362,363,364,365,366,367,368,369,370,371,372,373,374,375,376,377,378,379,380,381,382,383,384,385,386,387,388,389,390,391,392,393,394,395,396,397,398,399,400,401,402,403,404,405,406,407,408,409,410,411,412,413,414,415,416,417,418,419,420,421,422,423,424,425,426,427,428,429,430,431,432,433,434,435,436,437,438,439,440,441,442,443,444,445,446,447,448,449,450,451,452,453,454,455,456,457,458,459,460,461,462,463,464,465,466,467,468,469,470,471,472,473,474,475,476,477,478,479,480,481,482,483,484,485,486,487,488,489,490,491,492,493,494,495,496,497,498,499,500,501,502,503,504,505,506,507,508,509,510,511,512,513,514,515,516,517,518,519,520,521,522,523,524,525,526,527,528,529,530,531,532,533,534,535,536,537,538,539,540,541,542,543,544,545,546,547,548,549,550,551,552,553,554,555,556,557,558,559,560,561,562,563,564,565,566,567,568,569,570,571,572,573,574,575,576,577,578,579,580,581,582,583,584,585,586,587,588,589,590,591,592,593,594,595,596,597,598,599,600,601,602,603,604,605,606,607,608,609,610,611,612,613,614,615,616,617,618,619,620,621,622,623,624,625,626,627,628,629,630,631,632,633,634,635,636,637,638,639,640,641,642,643,644,645,646,647,648,649,650,651,652,653,654,655,656,657,658,659,660,661,662,663,664,665,666,667,668,669,670,671,672,673,674,675,676,677,678,679,680,681,682,683,684,685,686,687,688,689,690,691,692,693,694,695,696,697,698,699,700,701,702,703,704,705,706,707,708,709,710,711,712,713,714,715,716,717,718,719,720,721,722,723,724,725,726,727,728,729,730,731,732,733,734,735,736,737,738,739,740,741,742,743,744,745,746,747,748,749,750,751,752,753,754,755,756,757,758,759,760,761,762,763,764,765,766,767,768,769,770,771,772,773,774,775,776,777,778,779,780,781,782,783,784,785,786,787,788,789,790,791,792,793,794,795,796,797,798,799,800,801,802,803,804,805,806,807,808,809,810,811,812,813,814,815,816,817,818,819,820,821,822,823,824,825,826,827,828,829,830,831,832,833,834,835,836,837,838,839,840,841,842,843,844,845,846,847,848,849,850,851,852,853,854,855,856,857,858,859,860,861,862,863,864,865,866,867,868,869,870,871,872,873,874,875,876,877,878,879,880,881,882,883,884,885,886,887,888,889,890,891,892,893,894,895,896,897,898,899,900,901,902,903,904,905,906,907,908,909,910,911,912,913,914,915,916,917,918,919,920,921,922,923,924,925,926,927,928,929,930,931,932,933,934,935,936,937,938,939,940,941,942,943,944,945,946,947,948,949,950,951,952,953,954,955,956,957,958,959,960,961,962,963,964,965,966,967,968,969,970,971,972,973,974,975,976,977,978,979,980,981,982,983,984,985,986,987,988,989,990,991,992,993,994,995,996,997,998,999,1000,1001,1002,1003,1004],\"ohlc_high\":{\"__ndarray__\":\"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\",\"dtype\":\"float64\",\"order\":\"little\",\"shape\":[1005]},\"ohlc_low\":{\"__ndarray__\":\"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\",\"dtype\":\"float64\",\"order\":\"little\",\"shape\":[1005]}},\"selected\":{\"id\":\"1891\"},\"selection_policy\":{\"id\":\"1890\"}},\"id\":\"1821\",\"type\":\"ColumnDataSource\"},{\"attributes\":{\"bottom_units\":\"screen\",\"coordinates\":null,\"fill_alpha\":0.5,\"fill_color\":\"lightgrey\",\"group\":null,\"left_units\":\"screen\",\"level\":\"overlay\",\"line_alpha\":1.0,\"line_color\":\"black\",\"line_dash\":[4,4],\"line_width\":2,\"right_units\":\"screen\",\"syncable\":false,\"top_units\":\"screen\"},\"id\":\"1812\",\"type\":\"BoxAnnotation\"},{\"attributes\":{\"label\":{\"value\":\"Final (88%)\"},\"renderers\":[{\"id\":\"1901\"}]},\"id\":\"1919\",\"type\":\"LegendItem\"},{\"attributes\":{\"format\":\"0,0.[00]%\"},\"id\":\"1873\",\"type\":\"NumeralTickFormatter\"},{\"attributes\":{\"coordinates\":null,\"data_source\":{\"id\":\"1875\"},\"glyph\":{\"id\":\"1876\"},\"group\":null,\"hover_glyph\":null,\"muted_glyph\":{\"id\":\"1878\"},\"nonselection_glyph\":{\"id\":\"1877\"},\"view\":{\"id\":\"1880\"}},\"id\":\"1879\",\"type\":\"GlyphRenderer\"},{\"attributes\":{\"coordinates\":null,\"data_source\":{\"id\":\"1897\"},\"glyph\":{\"id\":\"1898\"},\"group\":null,\"hover_glyph\":null,\"muted_glyph\":{\"id\":\"1900\"},\"nonselection_glyph\":{\"id\":\"1899\"},\"view\":{\"id\":\"1902\"}},\"id\":\"1901\",\"type\":\"GlyphRenderer\"},{\"attributes\":{\"fill_color\":{\"value\":\"blue\"},\"hatch_color\":{\"value\":\"blue\"},\"line_color\":{\"value\":\"blue\"},\"size\":{\"value\":8},\"x\":{\"value\":1004},\"y\":{\"value\":0.878857512231445}},\"id\":\"1898\",\"type\":\"Scatter\"},{\"attributes\":{},\"id\":\"1941\",\"type\":\"UnionRenderers\"},{\"attributes\":{},\"id\":\"1793\",\"type\":\"LinearScale\"},{\"attributes\":{\"coordinates\":null,\"data_source\":{\"id\":\"1821\"},\"glyph\":{\"id\":\"2133\"},\"group\":null,\"hover_glyph\":null,\"muted_glyph\":{\"id\":\"2135\"},\"nonselection_glyph\":{\"id\":\"2134\"},\"view\":{\"id\":\"2137\"}},\"id\":\"2136\",\"type\":\"GlyphRenderer\"},{\"attributes\":{},\"id\":\"1795\",\"type\":\"LinearScale\"},{\"attributes\":{\"source\":{\"id\":\"1897\"}},\"id\":\"1902\",\"type\":\"CDSView\"},{\"attributes\":{\"line_alpha\":0.1,\"line_color\":\"#1f77b4\",\"line_width\":1.3,\"x\":{\"field\":\"index\"},\"y\":{\"field\":\"SIGNAL_0_1\"}},\"id\":\"2134\",\"type\":\"Line\"},{\"attributes\":{\"data\":{},\"selected\":{\"id\":\"1917\"},\"selection_policy\":{\"id\":\"1916\"}},\"id\":\"1897\",\"type\":\"ColumnDataSource\"},{\"attributes\":{\"line_color\":\"#1f77b4\",\"line_width\":1.3,\"x\":{\"field\":\"index\"},\"y\":{\"field\":\"SIGNAL_0_1\"}},\"id\":\"2133\",\"type\":\"Line\"},{\"attributes\":{\"fill_alpha\":{\"value\":0.1},\"fill_color\":{\"value\":\"blue\"},\"hatch_alpha\":{\"value\":0.1},\"hatch_color\":{\"value\":\"blue\"},\"line_alpha\":{\"value\":0.1},\"line_color\":{\"value\":\"blue\"},\"size\":{\"value\":8},\"x\":{\"value\":1004},\"y\":{\"value\":0.878857512231445}},\"id\":\"1899\",\"type\":\"Scatter\"},{\"attributes\":{},\"id\":\"1791\",\"type\":\"DataRange1d\"},{\"attributes\":{\"fill_alpha\":{\"value\":0.2},\"fill_color\":{\"value\":\"blue\"},\"hatch_alpha\":{\"value\":0.2},\"hatch_color\":{\"value\":\"blue\"},\"line_alpha\":{\"value\":0.2},\"line_color\":{\"value\":\"blue\"},\"size\":{\"value\":8},\"x\":{\"value\":1004},\"y\":{\"value\":0.878857512231445}},\"id\":\"1900\",\"type\":\"Scatter\"},{\"attributes\":{\"coordinates\":null,\"group\":null},\"id\":\"2216\",\"type\":\"Title\"},{\"attributes\":{},\"id\":\"1916\",\"type\":\"UnionRenderers\"},{\"attributes\":{},\"id\":\"1893\",\"type\":\"Selection\"},{\"attributes\":{\"below\":[{\"id\":\"1797\"}],\"center\":[{\"id\":\"1800\"},{\"id\":\"1804\"},{\"id\":\"2098\"}],\"height\":400,\"left\":[{\"id\":\"1801\"}],\"min_border_bottom\":6,\"min_border_left\":0,\"min_border_right\":10,\"min_border_top\":3,\"outline_line_color\":\"#666666\",\"renderers\":[{\"id\":\"2071\"},{\"id\":\"2077\"},{\"id\":\"2083\"}],\"sizing_mode\":\"stretch_width\",\"title\":{\"id\":\"2085\"},\"toolbar\":{\"id\":\"1813\"},\"toolbar_location\":null,\"width\":null,\"x_range\":{\"id\":\"1788\"},\"x_scale\":{\"id\":\"1793\"},\"y_range\":{\"id\":\"1791\"},\"y_scale\":{\"id\":\"1795\"}},\"id\":\"1789\",\"subtype\":\"Figure\",\"type\":\"Plot\"},{\"attributes\":{\"line_alpha\":0.2,\"line_color\":\"#1f77b4\",\"line_width\":1.3,\"x\":{\"field\":\"index\"},\"y\":{\"field\":\"SIGNAL_0_1\"}},\"id\":\"2135\",\"type\":\"Line\"},{\"attributes\":{},\"id\":\"1917\",\"type\":\"Selection\"},{\"attributes\":{\"active_drag\":{\"id\":\"2116\"},\"active_scroll\":{\"id\":\"2117\"},\"tools\":[{\"id\":\"2116\"},{\"id\":\"2117\"},{\"id\":\"2118\"},{\"id\":\"2119\"},{\"id\":\"2120\"},{\"id\":\"2121\"},{\"id\":\"2122\"},{\"id\":\"2152\"},{\"id\":\"2157\"}]},\"id\":\"2124\",\"type\":\"Toolbar\"},{\"attributes\":{\"coordinates\":null,\"group\":null},\"id\":\"1881\",\"type\":\"Title\"},{\"attributes\":{\"fill_alpha\":{\"value\":0.2},\"fill_color\":{\"value\":\"cyan\"},\"hatch_alpha\":{\"value\":0.2},\"hatch_color\":{\"value\":\"cyan\"},\"line_alpha\":{\"value\":0.2},\"line_color\":{\"value\":\"cyan\"},\"size\":{\"value\":8},\"x\":{\"value\":0},\"y\":{\"value\":1.0}},\"id\":\"1878\",\"type\":\"Scatter\"},{\"attributes\":{\"callback\":null,\"mode\":\"vline\",\"point_policy\":\"follow_mouse\",\"renderers\":[{\"id\":\"2077\"}],\"tooltips\":[[\"#\",\"@index\"],[\"x, y\",\"$index\\u00a0\\u00a0\\u00a0\\u00a0$y{0,0.0[0000]}\"],[\"OHLC\",\"@Open{0,0.0[0000]}\\u00a0\\u00a0\\u00a0\\u00a0@High{0,0.0[0000]}\\u00a0\\u00a0\\u00a0\\u00a0@Low{0,0.0[0000]}\\u00a0\\u00a0\\u00a0\\u00a0@Close{0,0.0[0000]}\"],[\"Volume\",\"@Volume{0,0}\"]]},\"id\":\"2154\",\"type\":\"HoverTool\"},{\"attributes\":{\"fill_color\":{\"value\":\"cyan\"},\"hatch_color\":{\"value\":\"cyan\"},\"line_color\":{\"value\":\"cyan\"},\"size\":{\"value\":8},\"x\":{\"value\":0},\"y\":{\"value\":1.0}},\"id\":\"1876\",\"type\":\"Scatter\"},{\"attributes\":{},\"id\":\"2142\",\"type\":\"AllLabels\"},{\"attributes\":{\"source\":{\"id\":\"1875\"}},\"id\":\"1880\",\"type\":\"CDSView\"},{\"attributes\":{\"border_line_color\":\"#333333\",\"click_policy\":\"hide\",\"coordinates\":null,\"group\":null,\"items\":[{\"id\":\"1896\"},{\"id\":\"1919\"},{\"id\":\"1944\"},{\"id\":\"1971\"}],\"label_text_font_size\":\"8pt\",\"location\":\"top_left\",\"margin\":0,\"padding\":5,\"spacing\":0},\"id\":\"1895\",\"type\":\"Legend\"},{\"attributes\":{},\"id\":\"2219\",\"type\":\"AllLabels\"},{\"attributes\":{\"fill_alpha\":{\"value\":0.1},\"fill_color\":{\"value\":\"cyan\"},\"hatch_alpha\":{\"value\":0.1},\"hatch_color\":{\"value\":\"cyan\"},\"line_alpha\":{\"value\":0.1},\"line_color\":{\"value\":\"cyan\"},\"size\":{\"value\":8},\"x\":{\"value\":0},\"y\":{\"value\":1.0}},\"id\":\"1877\",\"type\":\"Scatter\"},{\"attributes\":{\"fill_color\":{\"field\":\"returns_positive\",\"transform\":{\"id\":\"1824\"}},\"marker\":{\"value\":\"inverted_triangle\"},\"size\":{\"field\":\"marker_size\"},\"x\":{\"field\":\"index\"},\"y\":{\"field\":\"returns_short\"}},\"id\":\"2012\",\"type\":\"Scatter\"},{\"attributes\":{\"axis\":{\"id\":\"1801\"},\"coordinates\":null,\"dimension\":1,\"group\":null,\"ticker\":null},\"id\":\"1804\",\"type\":\"Grid\"},{\"attributes\":{\"source\":{\"id\":\"1822\"}},\"id\":\"2010\",\"type\":\"CDSView\"},{\"attributes\":{},\"id\":\"2221\",\"type\":\"AllLabels\"},{\"attributes\":{\"fill_alpha\":{\"value\":0.1},\"fill_color\":{\"field\":\"returns_positive\",\"transform\":{\"id\":\"1824\"}},\"hatch_alpha\":{\"value\":0.1},\"line_alpha\":{\"value\":0.1},\"marker\":{\"value\":\"inverted_triangle\"},\"size\":{\"field\":\"marker_size\"},\"x\":{\"field\":\"index\"},\"y\":{\"field\":\"returns_short\"}},\"id\":\"2013\",\"type\":\"Scatter\"},{\"attributes\":{},\"id\":\"1798\",\"type\":\"BasicTicker\"},{\"attributes\":{\"source\":{\"id\":\"1822\"}},\"id\":\"2016\",\"type\":\"CDSView\"},{\"attributes\":{\"source\":{\"id\":\"1821\"}},\"id\":\"2062\",\"type\":\"CDSView\"},{\"attributes\":{\"callback\":null,\"mode\":\"vline\",\"point_policy\":\"follow_mouse\",\"renderers\":[{\"id\":\"2061\"}],\"tooltips\":[[\"#\",\"@index\"],[\"Volume\",\"@Volume{0.00 a}\"]]},\"id\":\"2063\",\"type\":\"HoverTool\"},{\"attributes\":{\"fill_alpha\":{\"value\":0.1},\"fill_color\":{\"field\":\"inc\",\"transform\":{\"id\":\"1823\"}},\"hatch_alpha\":{\"value\":0.1},\"hatch_color\":{\"field\":\"inc\",\"transform\":{\"id\":\"1823\"}},\"line_alpha\":{\"value\":0.1},\"line_color\":{\"field\":\"inc\",\"transform\":{\"id\":\"1823\"}},\"top\":{\"field\":\"Volume\"},\"width\":{\"value\":0.8},\"x\":{\"field\":\"index\"}},\"id\":\"2059\",\"type\":\"VBar\"},{\"attributes\":{},\"id\":\"2144\",\"type\":\"BasicTickFormatter\"},{\"attributes\":{\"callback\":null,\"point_policy\":\"follow_mouse\",\"renderers\":[{\"id\":\"2015\"}],\"tooltips\":[[\"#\",\"@index\"],[\"Size\",\"@size{0,0}\"],[\"P/L\",\"@returns_short{+0.[000]%}\"]]},\"id\":\"2019\",\"type\":\"HoverTool\"},{\"attributes\":{\"data\":{},\"selected\":{\"id\":\"1942\"},\"selection_policy\":{\"id\":\"1941\"}},\"id\":\"1920\",\"type\":\"ColumnDataSource\"},{\"attributes\":{\"data\":{\"datetime\":[68,97,128,144,224,227,249,258,270,420,428,430,453,499,570,587,635,648,653,655,732,752,762,822,922,946,972,973,1002],\"exit_price\":{\"__ndarray__\":\"AAAAQIHmkEAAAACgNiORQAAAAAAiFZRAAAAAIB1Ak0AAAADgxceTQAAAAMBRspNAAAAAwML7kUAAAACgeqGTQAAAAIDw15JAAAAAoCMylkAAAABA+OmXQAAAACBtOJhAAAAAAAB0mEAAAABAs0egQAAAAEAzi55AAAAAwMwwnkAAAABgZlygQAAAAAAALqBAAAAAAABgn0AAAAAAAIifQAAAAGBmgaBAAAAAQLPwoEAAAABAMwGjQAAAAAAA4KJAAAAAAIDapUAAAAAAAMWlQAAAAAAAyKJAAAAAYOb2okAAAABg5rGkQA==\",\"dtype\":\"float64\",\"order\":\"little\",\"shape\":[29]},\"index\":[68,97,128,144,224,227,249,258,270,420,428,430,453,499,570,587,635,648,653,655,732,752,762,822,922,946,972,973,1002],\"marker_size\":{\"__ndarray__\":\"AAAAAAAANEAAAAAAAAAyQAAAAAAAADBAAAAAAAAAMEAAAAAAAAAwQAAAAAAAADBAAAAAAAAAMkAAAAAAAAAwQAAAAAAAADBAAAAAAAAALEAAAAAAAAAsQAAAAAAAACxAAAAAAAAAKEAAAAAAAAAkQAAAAAAAACRAAAAAAAAAJEAAAAAAAAAkQAAAAAAAACRAAAAAAAAAJEAAAAAAAAAkQAAAAAAAACRAAAAAAAAAJEAAAAAAAAAgQAAAAAAAACBAAAAAAAAAIEAAAAAAAAAgQAAAAAAAACBAAAAAAAAAIEAAAAAAAAAgQA==\",\"dtype\":\"float64\",\"order\":\"little\",\"shape\":[29]},\"position_lines_xs\":[[68,68],[97,97],[128,128],[144,144],[224,224],[227,227],[249,249],[258,258],[270,270],[420,420],[428,428],[430,430],[453,453],[499,499],[570,570],[587,587],[635,635],[648,648],[653,653],[655,655],[732,732],[752,752],[762,762],[822,822],[922,922],[946,946],[972,972],[973,973],[1002,1002]],\"position_lines_ys\":[[1096.8629311523437,1081.626220703125],[1098.9969514160157,1096.8033447265625],[1270.1902463378906,1285.283203125],[1230.614641845703,1232.0284423828125],[1270.4868930664063,1265.9432373046875],[1270.5664562988281,1260.579833984375],[1153.2420659179688,1150.940185546875],[1284.4130639648438,1256.3697509765625],[1198.2181459960937,1205.98486328125],[1417.6937204589844,1420.5347900390625],[1533.5534165039062,1530.492431640625],[1547.0063542480468,1550.1065673828125],[1568.13,1565.0],[2089.17,2083.85009765625],[1949.1439487304688,1954.800048828125],[1952.898,1932.199951171875],[2126.244,2094.199951171875],[2075.142,2071.0],[2012.016,2008.0],[2013.964,2018.0],[2103.784,2112.699951171875],[2169.380148925781,2168.35009765625],[2425.14,2432.60009765625],[2411.168,2416.0],[2756.476,2797.25],[2774.44,2786.5],[2408.808,2404.0],[2422.445448730469,2427.449951171875],[2643.652051269531,2648.949951171875]],\"returns_long\":{\"__ndarray__\":\"gM1VZvlyjL8AdnKg7llgvwAAAAAAAPh/AICnEKjSUj8AAAAAAAD4f4CLayvkGIC/AHZyoO5ZYL8AXKWUiVuWvwAAAAAAAPh/AAAAAAAA+H8AdXKg7llgvwAAAAAAAPh/AHZyoO5ZYL8ASBZVOtxkvwAAAAAAAPh/AF6Zary0hb+AdzAdZ92OvwB1cqDuWWC/AHZyoO5ZYL8AAAAAAAD4fwAAAAAAAPh/ALBWBg0eP78AAAAAAAD4fwAAAAAAAPh/AAAAAAAA+H8AAAAAAAD4fwB1cqDuWWC/AAAAAAAA+H8AAAAAAAD4fw==\",\"dtype\":\"float64\",\"order\":\"little\",\"shape\":[29]},\"returns_positive\":[\"0\",\"0\",\"0\",\"1\",\"1\",\"0\",\"0\",\"0\",\"0\",\"0\",\"0\",\"0\",\"0\",\"0\",\"0\",\"0\",\"0\",\"0\",\"0\",\"0\",\"0\",\"0\",\"0\",\"0\",\"0\",\"0\",\"0\",\"0\",\"0\"],\"returns_short\":{\"__ndarray__\":\"AAAAAAAA+H8AAAAAAAD4fwDsJNPRVYi/AAAAAAAA+H8AnDIkEUxtPwAAAAAAAPh/AAAAAAAA+H8AAAAAAAD4fwBTiuPAjHq/ABJ5nLVqYL8AAAAAAAD4fwAUeZy1amC/AAAAAAAA+H8AAAAAAAD4fwBUT3KYxWe/AAAAAAAA+H8AAAAAAAD4fwAAAAAAAPh/AAAAAAAA+H8AFHmctWpgvwDmHxXsW3G/AAAAAAAA+H8AvqMsKDNpvwASeZy1amC/gGdQtk5Ljr8AWNRz+c1xvwAAAAAAAPh/AIBxf3vsYL8AFHmctWpgvw==\",\"dtype\":\"float64\",\"order\":\"little\",\"shape\":[29]},\"size\":[9,8,-7,7,-7,7,8,7,-7,-6,6,-6,5,4,-4,4,4,4,4,-4,-4,4,-3,-3,-3,-3,3,-3,-3]},\"selected\":{\"id\":\"2096\"},\"selection_policy\":{\"id\":\"2095\"}},\"id\":\"1822\",\"type\":\"ColumnDataSource\"},{\"attributes\":{\"fill_alpha\":{\"value\":0.2},\"fill_color\":{\"field\":\"returns_positive\",\"transform\":{\"id\":\"1824\"}},\"hatch_alpha\":{\"value\":0.2},\"line_alpha\":{\"value\":0.2},\"marker\":{\"value\":\"inverted_triangle\"},\"size\":{\"field\":\"marker_size\"},\"x\":{\"field\":\"index\"},\"y\":{\"field\":\"returns_short\"}},\"id\":\"2014\",\"type\":\"Scatter\"},{\"attributes\":{\"coordinates\":null,\"data_source\":{\"id\":\"1822\"},\"glyph\":{\"id\":\"2012\"},\"group\":null,\"hover_glyph\":null,\"muted_glyph\":{\"id\":\"2014\"},\"nonselection_glyph\":{\"id\":\"2013\"},\"view\":{\"id\":\"2016\"}},\"id\":\"2015\",\"type\":\"GlyphRenderer\"},{\"attributes\":{\"fill_alpha\":{\"value\":0.1},\"fill_color\":{\"value\":\"red\"},\"hatch_alpha\":{\"value\":0.1},\"hatch_color\":{\"value\":\"red\"},\"line_alpha\":{\"value\":0.1},\"line_color\":{\"value\":\"red\"},\"size\":{\"value\":8},\"x\":{\"value\":1002},\"y\":{\"value\":0.878857512231445}},\"id\":\"1922\",\"type\":\"Scatter\"},{\"attributes\":{\"format\":\"0 a\"},\"id\":\"2065\",\"type\":\"NumeralTickFormatter\"},{\"attributes\":{},\"id\":\"1884\",\"type\":\"AllLabels\"},{\"attributes\":{\"source\":{\"id\":\"1821\"}},\"id\":\"2072\",\"type\":\"CDSView\"},{\"attributes\":{\"coordinates\":null,\"formatter\":{\"id\":\"2194\"},\"group\":null,\"major_label_policy\":{\"id\":\"2195\"},\"ticker\":{\"id\":\"1981\"},\"visible\":false},\"id\":\"1980\",\"type\":\"LinearAxis\"},{\"attributes\":{\"axis\":{\"id\":\"1797\"},\"coordinates\":null,\"group\":null,\"ticker\":null},\"id\":\"1800\",\"type\":\"Grid\"},{\"attributes\":{\"callback\":null,\"point_policy\":\"follow_mouse\",\"renderers\":[{\"id\":\"2009\"}],\"tooltips\":[[\"#\",\"@index\"],[\"Size\",\"@size{0,0}\"],[\"P/L\",\"@returns_long{+0.[000]%}\"]]},\"id\":\"2017\",\"type\":\"HoverTool\"},{\"attributes\":{\"fill_color\":{\"value\":\"red\"},\"hatch_color\":{\"value\":\"red\"},\"line_color\":{\"value\":\"red\"},\"size\":{\"value\":8},\"x\":{\"value\":1002},\"y\":{\"value\":0.878857512231445}},\"id\":\"1921\",\"type\":\"Scatter\"},{\"attributes\":{\"x0\":{\"field\":\"index\"},\"x1\":{\"field\":\"index\"},\"y0\":{\"field\":\"High\"},\"y1\":{\"field\":\"Low\"}},\"id\":\"2068\",\"type\":\"Segment\"},{\"attributes\":{},\"id\":\"2141\",\"type\":\"BasicTickFormatter\"},{\"attributes\":{\"source\":{\"id\":\"1920\"}},\"id\":\"1925\",\"type\":\"CDSView\"},{\"attributes\":{\"line_alpha\":{\"value\":0.1},\"x0\":{\"field\":\"index\"},\"x1\":{\"field\":\"index\"},\"y0\":{\"field\":\"High\"},\"y1\":{\"field\":\"Low\"}},\"id\":\"2069\",\"type\":\"Segment\"},{\"attributes\":{\"factors\":[\"0\",\"1\"],\"palette\":[\"rgb(178.5, 27.163043478260846, 0.0)\",\"rgb(0.0, 178.5, 0.0)\"]},\"id\":\"1825\",\"type\":\"CategoricalColorMapper\"},{\"attributes\":{\"coordinates\":null,\"data_source\":{\"id\":\"1920\"},\"glyph\":{\"id\":\"1921\"},\"group\":null,\"hover_glyph\":null,\"muted_glyph\":{\"id\":\"1923\"},\"nonselection_glyph\":{\"id\":\"1922\"},\"view\":{\"id\":\"1925\"}},\"id\":\"1924\",\"type\":\"GlyphRenderer\"},{\"attributes\":{},\"id\":\"1886\",\"type\":\"BasicTickFormatter\"},{\"attributes\":{},\"id\":\"1802\",\"type\":\"BasicTicker\"},{\"attributes\":{},\"id\":\"1978\",\"type\":\"LinearScale\"},{\"attributes\":{\"coordinates\":null,\"data_source\":{\"id\":\"1821\"},\"glyph\":{\"id\":\"2068\"},\"group\":null,\"hover_glyph\":null,\"muted_glyph\":{\"id\":\"2070\"},\"nonselection_glyph\":{\"id\":\"2069\"},\"view\":{\"id\":\"2072\"}},\"id\":\"2071\",\"type\":\"GlyphRenderer\"},{\"attributes\":{\"axis_label\":\"Volume\",\"coordinates\":null,\"formatter\":{\"id\":\"2065\"},\"group\":null,\"major_label_policy\":{\"id\":\"2219\"},\"minor_tick_line_color\":null,\"ticker\":{\"id\":\"2036\"}},\"id\":\"2035\",\"type\":\"LinearAxis\"},{\"attributes\":{\"axis_label\":\"Profit / Loss\",\"coordinates\":null,\"formatter\":{\"id\":\"2021\"},\"group\":null,\"major_label_policy\":{\"id\":\"2192\"},\"minor_tick_line_color\":null,\"ticker\":{\"id\":\"1985\"}},\"id\":\"1984\",\"type\":\"LinearAxis\"},{\"attributes\":{\"coordinates\":null,\"formatter\":{\"id\":\"2055\"},\"group\":null,\"major_label_policy\":{\"id\":\"2092\"},\"ticker\":{\"id\":\"1798\"},\"visible\":false},\"id\":\"1797\",\"type\":\"LinearAxis\"},{\"attributes\":{},\"id\":\"1810\",\"type\":\"ResetTool\"},{\"attributes\":{\"coordinates\":null,\"formatter\":{\"id\":\"2088\"},\"group\":null,\"major_label_policy\":{\"id\":\"2089\"},\"ticker\":{\"id\":\"1802\"}},\"id\":\"1801\",\"type\":\"LinearAxis\"},{\"attributes\":{\"fill_alpha\":{\"value\":0.2},\"fill_color\":{\"value\":\"red\"},\"hatch_alpha\":{\"value\":0.2},\"hatch_color\":{\"value\":\"red\"},\"line_alpha\":{\"value\":0.2},\"line_color\":{\"value\":\"red\"},\"size\":{\"value\":8},\"x\":{\"value\":1002},\"y\":{\"value\":0.878857512231445}},\"id\":\"1923\",\"type\":\"Scatter\"},{\"attributes\":{\"line_color\":\"red\",\"line_width\":2,\"x\":{\"field\":\"x\"},\"y\":{\"value\":1.0}},\"id\":\"1946\",\"type\":\"Line\"},{\"attributes\":{\"coordinates\":null,\"group\":null},\"id\":\"2189\",\"type\":\"Title\"},{\"attributes\":{\"coordinates\":null,\"group\":null,\"line_color\":\"#666666\",\"line_dash\":[6],\"location\":0},\"id\":\"2004\",\"type\":\"Span\"},{\"attributes\":{},\"id\":\"1809\",\"type\":\"RedoTool\"},{\"attributes\":{\"logo\":null,\"toolbars\":[{\"id\":\"1850\"},{\"id\":\"1996\"},{\"id\":\"1813\"},{\"id\":\"2047\"},{\"id\":\"2124\"}],\"tools\":[{\"id\":\"1842\"},{\"id\":\"1843\"},{\"id\":\"1844\"},{\"id\":\"1845\"},{\"id\":\"1846\"},{\"id\":\"1847\"},{\"id\":\"1848\"},{\"id\":\"1871\"},{\"id\":\"2157\"},{\"id\":\"1988\"},{\"id\":\"1989\"},{\"id\":\"1990\"},{\"id\":\"1991\"},{\"id\":\"1992\"},{\"id\":\"1993\"},{\"id\":\"1994\"},{\"id\":\"2017\"},{\"id\":\"2019\"},{\"id\":\"2157\"},{\"id\":\"1805\"},{\"id\":\"1806\"},{\"id\":\"1807\"},{\"id\":\"1808\"},{\"id\":\"1809\"},{\"id\":\"1810\"},{\"id\":\"1811\"},{\"id\":\"2154\"},{\"id\":\"2157\"},{\"id\":\"2039\"},{\"id\":\"2040\"},{\"id\":\"2041\"},{\"id\":\"2042\"},{\"id\":\"2043\"},{\"id\":\"2044\"},{\"id\":\"2045\"},{\"id\":\"2063\"},{\"id\":\"2157\"},{\"id\":\"2116\"},{\"id\":\"2117\"},{\"id\":\"2118\"},{\"id\":\"2119\"},{\"id\":\"2120\"},{\"id\":\"2121\"},{\"id\":\"2122\"},{\"id\":\"2152\"},{\"id\":\"2157\"}]},\"id\":\"2239\",\"type\":\"ProxyToolbar\"},{\"attributes\":{},\"id\":\"1974\",\"type\":\"DataRange1d\"},{\"attributes\":{\"data\":{\"x\":[0,1004]},\"selected\":{\"id\":\"1969\"},\"selection_policy\":{\"id\":\"1968\"}},\"id\":\"1945\",\"type\":\"ColumnDataSource\"},{\"attributes\":{},\"id\":\"1976\",\"type\":\"LinearScale\"},{\"attributes\":{\"dimensions\":\"width\"},\"id\":\"1805\",\"type\":\"PanTool\"},{\"attributes\":{\"format\":\"0.[00]%\"},\"id\":\"2021\",\"type\":\"NumeralTickFormatter\"},{\"attributes\":{},\"id\":\"2025\",\"type\":\"DataRange1d\"},{\"attributes\":{\"dimensions\":\"width\",\"maintain_focus\":false},\"id\":\"1989\",\"type\":\"WheelZoomTool\"},{\"attributes\":{\"dimensions\":\"width\",\"maintain_focus\":false},\"id\":\"1806\",\"type\":\"WheelZoomTool\"},{\"attributes\":{\"coordinates\":null,\"data_source\":{\"id\":\"1821\"},\"glyph\":{\"id\":\"2074\"},\"group\":null,\"hover_glyph\":null,\"muted_glyph\":{\"id\":\"2076\"},\"nonselection_glyph\":{\"id\":\"2075\"},\"view\":{\"id\":\"2078\"}},\"id\":\"2077\",\"type\":\"GlyphRenderer\"},{\"attributes\":{},\"id\":\"1981\",\"type\":\"BasicTicker\"},{\"attributes\":{\"bottom\":{\"field\":\"Close\"},\"fill_alpha\":{\"value\":0.1},\"fill_color\":{\"field\":\"inc\",\"transform\":{\"id\":\"1823\"}},\"hatch_alpha\":{\"value\":0.1},\"line_alpha\":{\"value\":0.1},\"top\":{\"field\":\"Open\"},\"width\":{\"value\":0.8},\"x\":{\"field\":\"index\"}},\"id\":\"2075\",\"type\":\"VBar\"},{\"attributes\":{\"below\":[{\"id\":\"2031\"}],\"center\":[{\"id\":\"2034\"},{\"id\":\"2038\"}],\"height\":90,\"left\":[{\"id\":\"2035\"}],\"min_border_bottom\":6,\"min_border_left\":0,\"min_border_right\":10,\"min_border_top\":3,\"outline_line_color\":\"#666666\",\"renderers\":[{\"id\":\"2061\"}],\"sizing_mode\":\"stretch_width\",\"title\":{\"id\":\"2216\"},\"toolbar\":{\"id\":\"2047\"},\"toolbar_location\":null,\"width\":null,\"x_range\":{\"id\":\"1788\"},\"x_scale\":{\"id\":\"2027\"},\"y_range\":{\"id\":\"2025\"},\"y_scale\":{\"id\":\"2029\"}},\"id\":\"2023\",\"subtype\":\"Figure\",\"type\":\"Plot\"},{\"attributes\":{\"axis\":{\"id\":\"1980\"},\"coordinates\":null,\"group\":null,\"ticker\":null},\"id\":\"1983\",\"type\":\"Grid\"},{\"attributes\":{},\"id\":\"1811\",\"type\":\"SaveTool\"},{\"attributes\":{},\"id\":\"2029\",\"type\":\"LinearScale\"},{\"attributes\":{\"line_alpha\":{\"value\":0.1},\"line_color\":{\"field\":\"returns_positive\",\"transform\":{\"id\":\"1825\"}},\"line_dash\":{\"value\":\"dotted\"},\"line_width\":{\"value\":8},\"xs\":{\"field\":\"position_lines_xs\"},\"ys\":{\"field\":\"position_lines_ys\"}},\"id\":\"2081\",\"type\":\"MultiLine\"},{\"attributes\":{\"coordinates\":null,\"formatter\":{\"id\":\"2055\"},\"group\":null,\"major_label_policy\":{\"id\":\"2221\"},\"ticker\":{\"id\":\"2032\"},\"visible\":true},\"id\":\"2031\",\"type\":\"LinearAxis\"},{\"attributes\":{\"source\":{\"id\":\"1822\"}},\"id\":\"2084\",\"type\":\"CDSView\"},{\"attributes\":{\"line_color\":{\"field\":\"returns_positive\",\"transform\":{\"id\":\"1825\"}},\"line_dash\":{\"value\":\"dotted\"},\"line_width\":{\"value\":8},\"xs\":{\"field\":\"position_lines_xs\"},\"ys\":{\"field\":\"position_lines_ys\"}},\"id\":\"2080\",\"type\":\"MultiLine\"},{\"attributes\":{\"bottom\":{\"field\":\"Close\"},\"fill_alpha\":{\"value\":0.2},\"fill_color\":{\"field\":\"inc\",\"transform\":{\"id\":\"1823\"}},\"hatch_alpha\":{\"value\":0.2},\"line_alpha\":{\"value\":0.2},\"top\":{\"field\":\"Open\"},\"width\":{\"value\":0.8},\"x\":{\"field\":\"index\"}},\"id\":\"2076\",\"type\":\"VBar\"},{\"attributes\":{\"fill_color\":{\"field\":\"inc\",\"transform\":{\"id\":\"1823\"}},\"hatch_color\":{\"field\":\"inc\",\"transform\":{\"id\":\"1823\"}},\"line_color\":{\"field\":\"inc\",\"transform\":{\"id\":\"1823\"}},\"top\":{\"field\":\"Volume\"},\"width\":{\"value\":0.8},\"x\":{\"field\":\"index\"}},\"id\":\"2058\",\"type\":\"VBar\"},{\"attributes\":{\"axis\":{\"id\":\"1984\"},\"coordinates\":null,\"dimension\":1,\"group\":null,\"ticker\":null},\"id\":\"1987\",\"type\":\"Grid\"},{\"attributes\":{},\"id\":\"2027\",\"type\":\"LinearScale\"},{\"attributes\":{\"active_drag\":{\"id\":\"1805\"},\"active_scroll\":{\"id\":\"1806\"},\"tools\":[{\"id\":\"1805\"},{\"id\":\"1806\"},{\"id\":\"1807\"},{\"id\":\"1808\"},{\"id\":\"1809\"},{\"id\":\"1810\"},{\"id\":\"1811\"},{\"id\":\"2154\"},{\"id\":\"2157\"}]},\"id\":\"1813\",\"type\":\"Toolbar\"},{\"attributes\":{\"border_line_color\":\"#333333\",\"click_policy\":\"hide\",\"coordinates\":null,\"group\":null,\"items\":[{\"id\":\"2099\"}],\"label_text_font_size\":\"8pt\",\"location\":\"top_left\",\"margin\":0,\"padding\":5,\"spacing\":0},\"id\":\"2098\",\"type\":\"Legend\"},{\"attributes\":{\"dimensions\":\"width\",\"maintain_focus\":false},\"id\":\"2040\",\"type\":\"WheelZoomTool\"},{\"attributes\":{},\"id\":\"1991\",\"type\":\"UndoTool\"},{\"attributes\":{},\"id\":\"1985\",\"type\":\"BasicTicker\"},{\"attributes\":{},\"id\":\"2032\",\"type\":\"BasicTicker\"},{\"attributes\":{\"axis\":{\"id\":\"2031\"},\"coordinates\":null,\"group\":null,\"ticker\":null},\"id\":\"2034\",\"type\":\"Grid\"},{\"attributes\":{},\"id\":\"1888\",\"type\":\"UnionRenderers\"},{\"attributes\":{},\"id\":\"1993\",\"type\":\"ResetTool\"},{\"attributes\":{},\"id\":\"1889\",\"type\":\"Selection\"},{\"attributes\":{\"coordinates\":null,\"data_source\":{\"id\":\"1821\"},\"glyph\":{\"id\":\"2058\"},\"group\":null,\"hover_glyph\":null,\"muted_glyph\":{\"id\":\"2060\"},\"nonselection_glyph\":{\"id\":\"2059\"},\"view\":{\"id\":\"2062\"}},\"id\":\"2061\",\"type\":\"GlyphRenderer\"},{\"attributes\":{\"dimensions\":\"width\"},\"id\":\"1988\",\"type\":\"PanTool\"},{\"attributes\":{\"line_alpha\":{\"value\":0.2},\"line_color\":{\"field\":\"returns_positive\",\"transform\":{\"id\":\"1825\"}},\"line_dash\":{\"value\":\"dotted\"},\"line_width\":{\"value\":8},\"xs\":{\"field\":\"position_lines_xs\"},\"ys\":{\"field\":\"position_lines_ys\"}},\"id\":\"2082\",\"type\":\"MultiLine\"},{\"attributes\":{\"overlay\":{\"id\":\"1995\"}},\"id\":\"1990\",\"type\":\"BoxZoomTool\"},{\"attributes\":{\"label\":{\"value\":\"Trades (29)\"},\"renderers\":[{\"id\":\"2083\"}]},\"id\":\"2099\",\"type\":\"LegendItem\"},{\"attributes\":{\"axis\":{\"id\":\"2035\"},\"coordinates\":null,\"dimension\":1,\"group\":null,\"ticker\":null},\"id\":\"2038\",\"type\":\"Grid\"},{\"attributes\":{},\"id\":\"2095\",\"type\":\"UnionRenderers\"},{\"attributes\":{\"coordinates\":null,\"group\":null},\"id\":\"2085\",\"type\":\"Title\"},{\"attributes\":{},\"id\":\"1992\",\"type\":\"RedoTool\"},{\"attributes\":{\"bottom\":{\"field\":\"Close\"},\"fill_color\":{\"field\":\"inc\",\"transform\":{\"id\":\"1823\"}},\"top\":{\"field\":\"Open\"},\"width\":{\"value\":0.8},\"x\":{\"field\":\"index\"}},\"id\":\"2074\",\"type\":\"VBar\"},{\"attributes\":{},\"id\":\"1994\",\"type\":\"SaveTool\"},{\"attributes\":{},\"id\":\"2042\",\"type\":\"UndoTool\"},{\"attributes\":{},\"id\":\"2036\",\"type\":\"BasicTicker\"},{\"attributes\":{},\"id\":\"1847\",\"type\":\"ResetTool\"},{\"attributes\":{},\"id\":\"2096\",\"type\":\"Selection\"},{\"attributes\":{},\"id\":\"2044\",\"type\":\"ResetTool\"},{\"attributes\":{\"coordinates\":null,\"data_source\":{\"id\":\"1822\"},\"glyph\":{\"id\":\"2080\"},\"group\":null,\"hover_glyph\":null,\"muted_glyph\":{\"id\":\"2082\"},\"nonselection_glyph\":{\"id\":\"2081\"},\"view\":{\"id\":\"2084\"}},\"id\":\"2083\",\"type\":\"GlyphRenderer\"},{\"attributes\":{\"dimensions\":\"width\"},\"id\":\"2039\",\"type\":\"PanTool\"},{\"attributes\":{\"bottom_units\":\"screen\",\"coordinates\":null,\"fill_alpha\":0.5,\"fill_color\":\"lightgrey\",\"group\":null,\"left_units\":\"screen\",\"level\":\"overlay\",\"line_alpha\":1.0,\"line_color\":\"black\",\"line_dash\":[4,4],\"line_width\":2,\"right_units\":\"screen\",\"syncable\":false,\"top_units\":\"screen\"},\"id\":\"1995\",\"type\":\"BoxAnnotation\"},{\"attributes\":{},\"id\":\"1845\",\"type\":\"UndoTool\"},{\"attributes\":{\"overlay\":{\"id\":\"2046\"}},\"id\":\"2041\",\"type\":\"BoxZoomTool\"},{\"attributes\":{\"line_alpha\":{\"value\":0.2},\"x0\":{\"field\":\"index\"},\"x1\":{\"field\":\"index\"},\"y0\":{\"field\":\"High\"},\"y1\":{\"field\":\"Low\"}},\"id\":\"2070\",\"type\":\"Segment\"},{\"attributes\":{\"coordinates\":null,\"data_source\":{\"id\":\"1822\"},\"glyph\":{\"id\":\"2006\"},\"group\":null,\"hover_glyph\":null,\"muted_glyph\":{\"id\":\"2008\"},\"nonselection_glyph\":{\"id\":\"2007\"},\"view\":{\"id\":\"2010\"}},\"id\":\"2009\",\"type\":\"GlyphRenderer\"},{\"attributes\":{},\"id\":\"2043\",\"type\":\"RedoTool\"},{\"attributes\":{\"dimensions\":\"width\",\"maintain_focus\":false},\"id\":\"1843\",\"type\":\"WheelZoomTool\"},{\"attributes\":{},\"id\":\"2045\",\"type\":\"SaveTool\"},{\"attributes\":{},\"id\":\"2192\",\"type\":\"AllLabels\"},{\"attributes\":{\"dimensions\":\"width\"},\"id\":\"1842\",\"type\":\"PanTool\"},{\"attributes\":{\"bottom_units\":\"screen\",\"coordinates\":null,\"fill_alpha\":0.5,\"fill_color\":\"lightgrey\",\"group\":null,\"left_units\":\"screen\",\"level\":\"overlay\",\"line_alpha\":1.0,\"line_color\":\"black\",\"line_dash\":[4,4],\"line_width\":2,\"right_units\":\"screen\",\"syncable\":false,\"top_units\":\"screen\"},\"id\":\"2046\",\"type\":\"BoxAnnotation\"},{\"attributes\":{\"active_drag\":{\"id\":\"1988\"},\"active_scroll\":{\"id\":\"1989\"},\"tools\":[{\"id\":\"1988\"},{\"id\":\"1989\"},{\"id\":\"1990\"},{\"id\":\"1991\"},{\"id\":\"1992\"},{\"id\":\"1993\"},{\"id\":\"1994\"},{\"id\":\"2017\"},{\"id\":\"2019\"},{\"id\":\"2157\"}]},\"id\":\"1996\",\"type\":\"Toolbar\"},{\"attributes\":{},\"id\":\"2194\",\"type\":\"BasicTickFormatter\"},{\"attributes\":{\"fill_alpha\":{\"value\":0.2},\"fill_color\":{\"field\":\"inc\",\"transform\":{\"id\":\"1823\"}},\"hatch_alpha\":{\"value\":0.2},\"hatch_color\":{\"field\":\"inc\",\"transform\":{\"id\":\"1823\"}},\"line_alpha\":{\"value\":0.2},\"line_color\":{\"field\":\"inc\",\"transform\":{\"id\":\"1823\"}},\"top\":{\"field\":\"Volume\"},\"width\":{\"value\":0.8},\"x\":{\"field\":\"index\"}},\"id\":\"2060\",\"type\":\"VBar\"},{\"attributes\":{},\"id\":\"1890\",\"type\":\"UnionRenderers\"},{\"attributes\":{\"data\":{\"equity_dd\":{\"__ndarray__\":\"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\",\"dtype\":\"float64\",\"order\":\"little\",\"shape\":[2010]},\"index\":[0,1,2,3,4,5,6,7,8,9,10,11,12,13,14,15,16,17,18,19,20,21,22,23,24,25,26,27,28,29,30,31,32,33,34,35,36,37,38,39,40,41,42,43,44,45,46,47,48,49,50,51,52,53,54,55,56,57,58,59,60,61,62,63,64,65,66,67,68,69,70,71,72,73,74,75,76,77,78,79,80,81,82,83,84,85,86,87,88,89,90,91,92,93,94,95,96,97,98,99,100,101,102,103,104,105,106,107,108,109,110,111,112,113,114,115,116,117,118,119,120,121,122,123,124,125,126,127,128,129,130,131,132,133,134,135,136,137,138,139,140,141,142,143,144,145,146,147,148,149,150,151,152,153,154,155,156,157,158,159,160,161,162,163,164,165,166,167,168,169,170,171,172,173,174,175,176,177,178,179,180,181,182,183,184,185,186,187,188,189,190,191,192,193,194,195,196,197,198,199,200,201,202,203,204,205,206,207,208,209,210,211,212,213,214,215,216,217,218,219,220,221,222,223,224,225,226,227,228,229,230,231,232,233,234,235,236,237,238,239,240,241,242,243,244,245,246,247,248,249,250,251,252,253,254,255,256,257,258,259,260,261,262,263,264,265,266,267,268,269,270,271,272,273,274,275,276,277,278,279,280,281,282,283,284,285,286,287,288,289,290,291,292,293,294,295,296,297,298,299,300,301,302,303,304,305,306,307,308,309,310,311,312,313,314,315,316,317,318,319,320,321,322,323,324,325,326,327,328,329,330,331,332,333,334,335,336,337,338,339,340,341,342,343,344,345,346,347,348,349,350,351,352,353,354,355,356,357,358,359,360,361,362,363,364,365,366,367,368,369,370,371,372,373,374,375,376,377,378,379,380,381,382,383,384,385,386,387,388,389,390,391,392,393,394,395,396,397,398,399,400,401,402,403,404,405,406,407,408,409,410,411,412,413,414,415,416,417,418,419,420,421,422,423,424,425,426,427,428,429,430,431,432,433,434,435,436,437,438,439,440,441,442,443,444,445,446,447,448,449,450,451,452,453,454,455,456,457,458,459,460,461,462,463,464,465,466,467,468,469,470,471,472,473,474,475,476,477,478,479,480,481,482,483,484,485,486,487,488,489,490,491,492,493,494,495,496,497,498,499,500,501,502,503,504,505,506,507,508,509,510,511,512,513,514,515,516,517,518,519,520,521,522,523,524,525,526,527,528,529,530,531,532,533,534,535,536,537,538,539,540,541,542,543,544,545,546,547,548,549,550,551,552,553,554,555,556,557,558,559,560,561,562,563,564,565,566,567,568,569,570,571,572,573,574,575,576,577,578,579,580,581,582,583,584,585,586,587,588,589,590,591,592,593,594,595,596,597,598,599,600,601,602,603,604,605,606,607,608,609,610,611,612,613,614,615,616,617,618,619,620,621,622,623,624,625,626,627,628,629,630,631,632,633,634,635,636,637,638,639,640,641,642,643,644,645,646,647,648,649,650,651,652,653,654,655,656,657,658,659,660,661,662,663,664,665,666,667,668,669,670,671,672,673,674,675,676,677,678,679,680,681,682,683,684,685,686,687,688,689,690,691,692,693,694,695,696,697,698,699,700,701,702,703,704,705,706,707,708,709,710,711,712,713,714,715,716,717,718,719,720,721,722,723,724,725,726,727,728,729,730,731,732,733,734,735,736,737,738,739,740,741,742,743,744,745,746,747,748,749,750,751,752,753,754,755,756,757,758,759,760,761,762,763,764,765,766,767,768,769,770,771,772,773,774,775,776,777,778,779,780,781,782,783,784,785,786,787,788,789,790,791,792,793,794,795,796,797,798,799,800,801,802,803,804,805,806,807,808,809,810,811,812,813,814,815,816,817,818,819,820,821,822,823,824,825,826,827,828,829,830,831,832,833,834,835,836,837,838,839,840,841,842,843,844,845,846,847,848,849,850,851,852,853,854,855,856,857,858,859,860,861,862,863,864,865,866,867,868,869,870,871,872,873,874,875,876,877,878,879,880,881,882,883,884,885,886,887,888,889,890,891,892,893,894,895,896,897,898,899,900,901,902,903,904,905,906,907,908,909,910,911,912,913,914,915,916,917,918,919,920,921,922,923,924,925,926,927,928,929,930,931,932,933,934,935,936,937,938,939,940,941,942,943,944,945,946,947,948,949,950,951,952,953,954,955,956,957,958,959,960,961,962,963,964,965,966,967,968,969,970,971,972,973,974,975,976,977,978,979,980,981,982,983,984,985,986,987,988,989,990,991,992,993,994,995,996,997,998,999,1000,1001,1002,1003,1004,1004,1003,1002,1001,1000,999,998,997,996,995,994,993,992,991,990,989,988,987,986,985,984,983,982,981,980,979,978,977,976,975,974,973,972,971,970,969,968,967,966,965,964,963,962,961,960,959,958,957,956,955,954,953,952,951,950,949,948,947,946,945,944,943,942,941,940,939,938,937,936,935,934,933,932,931,930,929,928,927,926,925,924,923,922,921,920,919,918,917,916,915,914,913,912,911,910,909,908,907,906,905,904,903,902,901,900,899,898,897,896,895,894,893,892,891,890,889,888,887,886,885,884,883,882,881,880,879,878,877,876,875,874,873,872,871,870,869,868,867,866,865,864,863,862,861,860,859,858,857,856,855,854,853,852,851,850,849,848,847,846,845,844,843,842,841,840,839,838,837,836,835,834,833,832,831,830,829,828,827,826,825,824,823,822,821,820,819,818,817,816,815,814,813,812,811,810,809,808,807,806,805,804,803,802,801,800,799,798,797,796,795,794,793,792,791,790,789,788,787,786,785,784,783,782,781,780,779,778,777,776,775,774,773,772,771,770,769,768,767,766,765,764,763,762,761,760,759,758,757,756,755,754,753,752,751,750,749,748,747,746,745,744,743,742,741,740,739,738,737,736,735,734,733,732,731,730,729,728,727,726,725,724,723,722,721,720,719,718,717,716,715,714,713,712,711,710,709,708,707,706,705,704,703,702,701,700,699,698,697,696,695,694,693,692,691,690,689,688,687,686,685,684,683,682,681,680,679,678,677,676,675,674,673,672,671,670,669,668,667,666,665,664,663,662,661,660,659,658,657,656,655,654,653,652,651,650,649,648,647,646,645,644,643,642,641,640,639,638,637,636,635,634,633,632,631,630,629,628,627,626,625,624,623,622,621,620,619,618,617,616,615,614,613,612,611,610,609,608,607,606,605,604,603,602,601,600,599,598,597,596,595,594,593,592,591,590,589,588,587,586,585,584,583,582,581,580,579,578,577,576,575,574,573,572,571,570,569,568,567,566,565,564,563,562,561,560,559,558,557,556,555,554,553,552,551,550,549,548,547,546,545,544,543,542,541,540,539,538,537,536,535,534,533,532,531,530,529,528,527,526,525,524,523,522,521,520,519,518,517,516,515,514,513,512,511,510,509,508,507,506,505,504,503,502,501,500,499,498,497,496,495,494,493,492,491,490,489,488,487,486,485,484,483,482,481,480,479,478,477,476,475,474,473,472,471,470,469,468,467,466,465,464,463,462,461,460,459,458,457,456,455,454,453,452,451,450,449,448,447,446,445,444,443,442,441,440,439,438,437,436,435,434,433,432,431,430,429,428,427,426,425,424,423,422,421,420,419,418,417,416,415,414,413,412,411,410,409,408,407,406,405,404,403,402,401,400,399,398,397,396,395,394,393,392,391,390,389,388,387,386,385,384,383,382,381,380,379,378,377,376,375,374,373,372,371,370,369,368,367,366,365,364,363,362,361,360,359,358,357,356,355,354,353,352,351,350,349,348,347,346,345,344,343,342,341,340,339,338,337,336,335,334,333,332,331,330,329,328,327,326,325,324,323,322,321,320,319,318,317,316,315,314,313,312,311,310,309,308,307,306,305,304,303,302,301,300,299,298,297,296,295,294,293,292,291,290,289,288,287,286,285,284,283,282,281,280,279,278,277,276,275,274,273,272,271,270,269,268,267,266,265,264,263,262,261,260,259,258,257,256,255,254,253,252,251,250,249,248,247,246,245,244,243,242,241,240,239,238,237,236,235,234,233,232,231,230,229,228,227,226,225,224,223,222,221,220,219,218,217,216,215,214,213,212,211,210,209,208,207,206,205,204,203,202,201,200,199,198,197,196,195,194,193,192,191,190,189,188,187,186,185,184,183,182,181,180,179,178,177,176,175,174,173,172,171,170,169,168,167,166,165,164,163,162,161,160,159,158,157,156,155,154,153,152,151,150,149,148,147,146,145,144,143,142,141,140,139,138,137,136,135,134,133,132,131,130,129,128,127,126,125,124,123,122,121,120,119,118,117,116,115,114,113,112,111,110,109,108,107,106,105,104,103,102,101,100,99,98,97,96,95,94,93,92,91,90,89,88,87,86,85,84,83,82,81,80,79,78,77,76,75,74,73,72,71,70,69,68,67,66,65,64,63,62,61,60,59,58,57,56,55,54,53,52,51,50,49,48,47,46,45,44,43,42,41,40,39,38,37,36,35,34,33,32,31,30,29,28,27,26,25,24,23,22,21,20,19,18,17,16,15,14,13,12,11,10,9,8,7,6,5,4,3,2,1,0]},\"selected\":{\"id\":\"1889\"},\"selection_policy\":{\"id\":\"1888\"}},\"id\":\"1858\",\"type\":\"ColumnDataSource\"},{\"attributes\":{},\"id\":\"2195\",\"type\":\"AllLabels\"},{\"attributes\":{},\"id\":\"1887\",\"type\":\"AllLabels\"},{\"attributes\":{\"active_drag\":{\"id\":\"2039\"},\"active_scroll\":{\"id\":\"2040\"},\"tools\":[{\"id\":\"2039\"},{\"id\":\"2040\"},{\"id\":\"2041\"},{\"id\":\"2042\"},{\"id\":\"2043\"},{\"id\":\"2044\"},{\"id\":\"2045\"},{\"id\":\"2063\"},{\"id\":\"2157\"}]},\"id\":\"2047\",\"type\":\"Toolbar\"},{\"attributes\":{},\"id\":\"1891\",\"type\":\"Selection\"},{\"attributes\":{\"overlay\":{\"id\":\"1812\"}},\"id\":\"1807\",\"type\":\"BoxZoomTool\"},{\"attributes\":{\"coordinates\":null,\"data_source\":{\"id\":\"1945\"},\"glyph\":{\"id\":\"1946\"},\"group\":null,\"hover_glyph\":null,\"muted_glyph\":{\"id\":\"1948\"},\"nonselection_glyph\":{\"id\":\"1947\"},\"view\":{\"id\":\"1950\"}},\"id\":\"1949\",\"type\":\"GlyphRenderer\"},{\"attributes\":{},\"id\":\"1808\",\"type\":\"UndoTool\"},{\"attributes\":{\"source\":{\"id\":\"1945\"}},\"id\":\"1950\",\"type\":\"CDSView\"},{\"attributes\":{\"fill_color\":{\"field\":\"returns_positive\",\"transform\":{\"id\":\"1824\"}},\"marker\":{\"value\":\"triangle\"},\"size\":{\"field\":\"marker_size\"},\"x\":{\"field\":\"index\"},\"y\":{\"field\":\"returns_long\"}},\"id\":\"2006\",\"type\":\"Scatter\"},{\"attributes\":{\"line_alpha\":0.1,\"line_color\":\"red\",\"line_width\":2,\"x\":{\"field\":\"x\"},\"y\":{\"value\":1.0}},\"id\":\"1947\",\"type\":\"Line\"},{\"attributes\":{\"fill_alpha\":{\"value\":0.1},\"fill_color\":{\"field\":\"returns_positive\",\"transform\":{\"id\":\"1824\"}},\"hatch_alpha\":{\"value\":0.1},\"line_alpha\":{\"value\":0.1},\"marker\":{\"value\":\"triangle\"},\"size\":{\"field\":\"marker_size\"},\"x\":{\"field\":\"index\"},\"y\":{\"field\":\"returns_long\"}},\"id\":\"2007\",\"type\":\"Scatter\"},{\"attributes\":{\"toolbar\":{\"id\":\"2239\"}},\"id\":\"2240\",\"type\":\"ToolbarBox\"},{\"attributes\":{},\"id\":\"1968\",\"type\":\"UnionRenderers\"},{\"attributes\":{\"fill_alpha\":{\"value\":0.2},\"fill_color\":{\"field\":\"returns_positive\",\"transform\":{\"id\":\"1824\"}},\"hatch_alpha\":{\"value\":0.2},\"line_alpha\":{\"value\":0.2},\"marker\":{\"value\":\"triangle\"},\"size\":{\"field\":\"marker_size\"},\"x\":{\"field\":\"index\"},\"y\":{\"field\":\"returns_long\"}},\"id\":\"2008\",\"type\":\"Scatter\"},{\"attributes\":{},\"id\":\"1969\",\"type\":\"Selection\"},{\"attributes\":{\"below\":[{\"id\":\"1980\"}],\"center\":[{\"id\":\"1983\"},{\"id\":\"1987\"},{\"id\":\"2004\"}],\"height\":90,\"left\":[{\"id\":\"1984\"}],\"min_border_bottom\":6,\"min_border_left\":0,\"min_border_right\":10,\"min_border_top\":3,\"outline_line_color\":\"#666666\",\"renderers\":[{\"id\":\"2009\"},{\"id\":\"2015\"}],\"sizing_mode\":\"stretch_width\",\"title\":{\"id\":\"2189\"},\"toolbar\":{\"id\":\"1996\"},\"toolbar_location\":null,\"width\":null,\"x_range\":{\"id\":\"1788\"},\"x_scale\":{\"id\":\"1976\"},\"y_range\":{\"id\":\"1974\"},\"y_scale\":{\"id\":\"1978\"}},\"id\":\"1972\",\"subtype\":\"Figure\",\"type\":\"Plot\"},{\"attributes\":{\"line_alpha\":0.2,\"line_color\":\"red\",\"line_width\":2,\"x\":{\"field\":\"x\"},\"y\":{\"value\":1.0}},\"id\":\"1948\",\"type\":\"Line\"},{\"attributes\":{\"active_drag\":{\"id\":\"1842\"},\"active_scroll\":{\"id\":\"1843\"},\"tools\":[{\"id\":\"1842\"},{\"id\":\"1843\"},{\"id\":\"1844\"},{\"id\":\"1845\"},{\"id\":\"1846\"},{\"id\":\"1847\"},{\"id\":\"1848\"},{\"id\":\"1871\"},{\"id\":\"2157\"}]},\"id\":\"1850\",\"type\":\"Toolbar\"},{\"attributes\":{\"children\":[[{\"id\":\"1826\"},0,0],[{\"id\":\"1972\"},1,0],[{\"id\":\"1789\"},2,0],[{\"id\":\"2023\"},3,0],[{\"id\":\"2100\"},4,0]]},\"id\":\"2238\",\"type\":\"GridBox\"},{\"attributes\":{\"label\":{\"value\":\"Max Dd Dur. (1004)\"},\"renderers\":[{\"id\":\"1949\"}]},\"id\":\"1971\",\"type\":\"LegendItem\"},{\"attributes\":{\"source\":{\"id\":\"1821\"}},\"id\":\"2078\",\"type\":\"CDSView\"},{\"attributes\":{},\"id\":\"2088\",\"type\":\"BasicTickFormatter\"},{\"attributes\":{\"factors\":[\"0\",\"1\"],\"palette\":[\"tomato\",\"lime\"]},\"id\":\"1824\",\"type\":\"CategoricalColorMapper\"},{\"attributes\":{},\"id\":\"1848\",\"type\":\"SaveTool\"},{\"attributes\":{},\"id\":\"2157\",\"type\":\"CrosshairTool\"},{\"attributes\":{},\"id\":\"2089\",\"type\":\"AllLabels\"},{\"attributes\":{\"overlay\":{\"id\":\"1849\"}},\"id\":\"1844\",\"type\":\"BoxZoomTool\"},{\"attributes\":{\"bottom_units\":\"screen\",\"coordinates\":null,\"fill_alpha\":0.5,\"fill_color\":\"lightgrey\",\"group\":null,\"left_units\":\"screen\",\"level\":\"overlay\",\"line_alpha\":1.0,\"line_color\":\"black\",\"line_dash\":[4,4],\"line_width\":2,\"right_units\":\"screen\",\"syncable\":false,\"top_units\":\"screen\"},\"id\":\"1849\",\"type\":\"BoxAnnotation\"},{\"attributes\":{},\"id\":\"1846\",\"type\":\"RedoTool\"},{\"attributes\":{},\"id\":\"2092\",\"type\":\"AllLabels\"},{\"attributes\":{\"below\":[{\"id\":\"1834\"}],\"center\":[{\"id\":\"1837\"},{\"id\":\"1841\"},{\"id\":\"1895\"}],\"height\":110,\"left\":[{\"id\":\"1838\"}],\"min_border_bottom\":6,\"min_border_left\":0,\"min_border_right\":10,\"min_border_top\":3,\"outline_line_color\":\"#666666\",\"renderers\":[{\"id\":\"1863\"},{\"id\":\"1869\"},{\"id\":\"1879\"},{\"id\":\"1901\"},{\"id\":\"1924\"},{\"id\":\"1949\"}],\"sizing_mode\":\"stretch_width\",\"title\":{\"id\":\"1881\"},\"toolbar\":{\"id\":\"1850\"},\"toolbar_location\":null,\"width\":null,\"x_range\":{\"id\":\"1788\"},\"x_scale\":{\"id\":\"1830\"},\"y_range\":{\"id\":\"1828\"},\"y_scale\":{\"id\":\"1832\"}},\"id\":\"1826\",\"subtype\":\"Figure\",\"type\":\"Plot\"},{\"attributes\":{},\"id\":\"2055\",\"type\":\"BasicTickFormatter\"},{\"attributes\":{\"coordinates\":null,\"group\":null,\"line_color\":\"#666666\",\"line_dash\":[6],\"line_width\":0.5,\"location\":0.04378109452736319},\"id\":\"2151\",\"type\":\"Span\"}],\"root_ids\":[\"2241\"]},\"title\":\"Bokeh Application\",\"version\":\"2.4.3\"}};\n",
              "  const render_items = [{\"docid\":\"9762b1af-04ac-4131-a792-7c38146d3f5b\",\"root_ids\":[\"2241\"],\"roots\":{\"2241\":\"9386b846-b7eb-4dc4-a07a-7e63531f73bb\"}}];\n",
              "  root.Bokeh.embed.embed_items_notebook(docs_json, render_items);\n",
              "  }\n",
              "  if (root.Bokeh !== undefined) {\n",
              "    embed_document(root);\n",
              "  } else {\n",
              "    let attempts = 0;\n",
              "    const timer = setInterval(function(root) {\n",
              "      if (root.Bokeh !== undefined) {\n",
              "        clearInterval(timer);\n",
              "        embed_document(root);\n",
              "      } else {\n",
              "        attempts++;\n",
              "        if (attempts > 100) {\n",
              "          clearInterval(timer);\n",
              "          console.log(\"Bokeh: ERROR: Unable to run BokehJS code because BokehJS library is missing\");\n",
              "        }\n",
              "      }\n",
              "    }, 10, root)\n",
              "  }\n",
              "})(window);"
            ],
            "application/vnd.bokehjs_exec.v0+json": ""
          },
          "metadata": {
            "application/vnd.bokehjs_exec.v0+json": {
              "id": "2241"
            }
          }
        },
        {
          "output_type": "execute_result",
          "data": {
            "text/plain": [
              "Row(id='2241', ...)"
            ],
            "text/html": [
              "<div style=\"display: table;\"><div style=\"display: table-row;\"><div style=\"display: table-cell;\"><b title=\"bokeh.models.layouts.Row\">Row</b>(</div><div style=\"display: table-cell;\">id&nbsp;=&nbsp;'2241', <span id=\"2573\" style=\"cursor: pointer;\">&hellip;)</span></div></div><div class=\"2572\" style=\"display: none;\"><div style=\"display: table-cell;\"></div><div style=\"display: table-cell;\">align&nbsp;=&nbsp;'start',</div></div><div class=\"2572\" style=\"display: none;\"><div style=\"display: table-cell;\"></div><div style=\"display: table-cell;\">aspect_ratio&nbsp;=&nbsp;None,</div></div><div class=\"2572\" style=\"display: none;\"><div style=\"display: table-cell;\"></div><div style=\"display: table-cell;\">background&nbsp;=&nbsp;None,</div></div><div class=\"2572\" style=\"display: none;\"><div style=\"display: table-cell;\"></div><div style=\"display: table-cell;\">children&nbsp;=&nbsp;[GridBox(id='2238', ...), ToolbarBox(id='2240', ...)],</div></div><div class=\"2572\" style=\"display: none;\"><div style=\"display: table-cell;\"></div><div style=\"display: table-cell;\">cols&nbsp;=&nbsp;'auto',</div></div><div class=\"2572\" style=\"display: none;\"><div style=\"display: table-cell;\"></div><div style=\"display: table-cell;\">css_classes&nbsp;=&nbsp;[],</div></div><div class=\"2572\" style=\"display: none;\"><div style=\"display: table-cell;\"></div><div style=\"display: table-cell;\">disabled&nbsp;=&nbsp;False,</div></div><div class=\"2572\" style=\"display: none;\"><div style=\"display: table-cell;\"></div><div style=\"display: table-cell;\">height&nbsp;=&nbsp;None,</div></div><div class=\"2572\" style=\"display: none;\"><div style=\"display: table-cell;\"></div><div style=\"display: table-cell;\">height_policy&nbsp;=&nbsp;'auto',</div></div><div class=\"2572\" style=\"display: none;\"><div style=\"display: table-cell;\"></div><div style=\"display: table-cell;\">js_event_callbacks&nbsp;=&nbsp;{},</div></div><div class=\"2572\" style=\"display: none;\"><div style=\"display: table-cell;\"></div><div style=\"display: table-cell;\">js_property_callbacks&nbsp;=&nbsp;{},</div></div><div class=\"2572\" style=\"display: none;\"><div style=\"display: table-cell;\"></div><div style=\"display: table-cell;\">margin&nbsp;=&nbsp;(0, 0, 0, 0),</div></div><div class=\"2572\" style=\"display: none;\"><div style=\"display: table-cell;\"></div><div style=\"display: table-cell;\">max_height&nbsp;=&nbsp;None,</div></div><div class=\"2572\" style=\"display: none;\"><div style=\"display: table-cell;\"></div><div style=\"display: table-cell;\">max_width&nbsp;=&nbsp;None,</div></div><div class=\"2572\" style=\"display: none;\"><div style=\"display: table-cell;\"></div><div style=\"display: table-cell;\">min_height&nbsp;=&nbsp;None,</div></div><div class=\"2572\" style=\"display: none;\"><div style=\"display: table-cell;\"></div><div style=\"display: table-cell;\">min_width&nbsp;=&nbsp;None,</div></div><div class=\"2572\" style=\"display: none;\"><div style=\"display: table-cell;\"></div><div style=\"display: table-cell;\">name&nbsp;=&nbsp;None,</div></div><div class=\"2572\" style=\"display: none;\"><div style=\"display: table-cell;\"></div><div style=\"display: table-cell;\">sizing_mode&nbsp;=&nbsp;'stretch_width',</div></div><div class=\"2572\" style=\"display: none;\"><div style=\"display: table-cell;\"></div><div style=\"display: table-cell;\">spacing&nbsp;=&nbsp;0,</div></div><div class=\"2572\" style=\"display: none;\"><div style=\"display: table-cell;\"></div><div style=\"display: table-cell;\">subscribed_events&nbsp;=&nbsp;[],</div></div><div class=\"2572\" style=\"display: none;\"><div style=\"display: table-cell;\"></div><div style=\"display: table-cell;\">syncable&nbsp;=&nbsp;True,</div></div><div class=\"2572\" style=\"display: none;\"><div style=\"display: table-cell;\"></div><div style=\"display: table-cell;\">tags&nbsp;=&nbsp;[],</div></div><div class=\"2572\" style=\"display: none;\"><div style=\"display: table-cell;\"></div><div style=\"display: table-cell;\">visible&nbsp;=&nbsp;True,</div></div><div class=\"2572\" style=\"display: none;\"><div style=\"display: table-cell;\"></div><div style=\"display: table-cell;\">width&nbsp;=&nbsp;None,</div></div><div class=\"2572\" style=\"display: none;\"><div style=\"display: table-cell;\"></div><div style=\"display: table-cell;\">width_policy&nbsp;=&nbsp;'auto')</div></div></div>\n",
              "<script>\n",
              "(function() {\n",
              "  let expanded = false;\n",
              "  const ellipsis = document.getElementById(\"2573\");\n",
              "  ellipsis.addEventListener(\"click\", function() {\n",
              "    const rows = document.getElementsByClassName(\"2572\");\n",
              "    for (let i = 0; i < rows.length; i++) {\n",
              "      const el = rows[i];\n",
              "      el.style.display = expanded ? \"none\" : \"table-row\";\n",
              "    }\n",
              "    ellipsis.innerHTML = expanded ? \"&hellip;)\" : \"&lsaquo;&lsaquo;&lsaquo;\";\n",
              "    expanded = !expanded;\n",
              "  });\n",
              "})();\n",
              "</script>\n"
            ]
          },
          "metadata": {},
          "execution_count": 35
        }
      ]
    },
    {
      "cell_type": "code",
      "source": [
        "!pip install vectorbt"
      ],
      "metadata": {
        "colab": {
          "base_uri": "https://localhost:8080/"
        },
        "id": "ALne5K5HNQYu",
        "outputId": "7e9dea5d-18bb-493c-a813-947412e0578e"
      },
      "execution_count": 21,
      "outputs": [
        {
          "output_type": "stream",
          "name": "stdout",
          "text": [
            "Looking in indexes: https://pypi.org/simple, https://us-python.pkg.dev/colab-wheels/public/simple/\n",
            "Collecting vectorbt\n",
            "  Downloading vectorbt-0.24.5.tar.gz (485 kB)\n",
            "\u001b[2K     \u001b[90m━━━━━━━━━━━━━━━━━━━━━━━━━━━━━━━━━━━━━━\u001b[0m \u001b[32m485.7/485.7 kB\u001b[0m \u001b[31m10.1 MB/s\u001b[0m eta \u001b[36m0:00:00\u001b[0m\n",
            "\u001b[?25h  Preparing metadata (setup.py) ... \u001b[?25l\u001b[?25hdone\n",
            "Requirement already satisfied: numpy>=1.16.5 in /usr/local/lib/python3.9/dist-packages (from vectorbt) (1.22.4)\n",
            "Requirement already satisfied: pandas in /usr/local/lib/python3.9/dist-packages (from vectorbt) (1.5.3)\n",
            "Requirement already satisfied: scipy in /usr/local/lib/python3.9/dist-packages (from vectorbt) (1.10.1)\n",
            "Requirement already satisfied: matplotlib in /usr/local/lib/python3.9/dist-packages (from vectorbt) (3.7.1)\n",
            "Requirement already satisfied: plotly>=4.12.0 in /usr/local/lib/python3.9/dist-packages (from vectorbt) (5.13.1)\n",
            "Requirement already satisfied: ipywidgets>=7.0.0 in /usr/local/lib/python3.9/dist-packages (from vectorbt) (7.7.1)\n",
            "Collecting dill\n",
            "  Downloading dill-0.3.6-py3-none-any.whl (110 kB)\n",
            "\u001b[2K     \u001b[90m━━━━━━━━━━━━━━━━━━━━━━━━━━━━━━━━━━━━━━\u001b[0m \u001b[32m110.5/110.5 kB\u001b[0m \u001b[31m16.1 MB/s\u001b[0m eta \u001b[36m0:00:00\u001b[0m\n",
            "\u001b[?25hRequirement already satisfied: tqdm in /usr/local/lib/python3.9/dist-packages (from vectorbt) (4.65.0)\n",
            "Collecting dateparser\n",
            "  Downloading dateparser-1.1.8-py2.py3-none-any.whl (293 kB)\n",
            "\u001b[2K     \u001b[90m━━━━━━━━━━━━━━━━━━━━━━━━━━━━━━━━━━━━━━\u001b[0m \u001b[32m293.8/293.8 kB\u001b[0m \u001b[31m30.8 MB/s\u001b[0m eta \u001b[36m0:00:00\u001b[0m\n",
            "\u001b[?25hRequirement already satisfied: imageio in /usr/local/lib/python3.9/dist-packages (from vectorbt) (2.25.1)\n",
            "Requirement already satisfied: scikit-learn in /usr/local/lib/python3.9/dist-packages (from vectorbt) (1.2.2)\n",
            "Collecting schedule\n",
            "  Downloading schedule-1.2.0-py2.py3-none-any.whl (11 kB)\n",
            "Requirement already satisfied: requests in /usr/local/lib/python3.9/dist-packages (from vectorbt) (2.27.1)\n",
            "Requirement already satisfied: pytz in /usr/local/lib/python3.9/dist-packages (from vectorbt) (2022.7.1)\n",
            "Collecting mypy_extensions\n",
            "  Downloading mypy_extensions-1.0.0-py3-none-any.whl (4.7 kB)\n",
            "Requirement already satisfied: numba>=0.53.1 in /usr/local/lib/python3.9/dist-packages (from vectorbt) (0.56.4)\n",
            "Requirement already satisfied: ipython>=4.0.0 in /usr/local/lib/python3.9/dist-packages (from ipywidgets>=7.0.0->vectorbt) (7.34.0)\n",
            "Requirement already satisfied: jupyterlab-widgets>=1.0.0 in /usr/local/lib/python3.9/dist-packages (from ipywidgets>=7.0.0->vectorbt) (3.0.7)\n",
            "Requirement already satisfied: ipykernel>=4.5.1 in /usr/local/lib/python3.9/dist-packages (from ipywidgets>=7.0.0->vectorbt) (5.5.6)\n",
            "Requirement already satisfied: ipython-genutils~=0.2.0 in /usr/local/lib/python3.9/dist-packages (from ipywidgets>=7.0.0->vectorbt) (0.2.0)\n",
            "Requirement already satisfied: traitlets>=4.3.1 in /usr/local/lib/python3.9/dist-packages (from ipywidgets>=7.0.0->vectorbt) (5.7.1)\n",
            "Requirement already satisfied: widgetsnbextension~=3.6.0 in /usr/local/lib/python3.9/dist-packages (from ipywidgets>=7.0.0->vectorbt) (3.6.4)\n",
            "Requirement already satisfied: llvmlite<0.40,>=0.39.0dev0 in /usr/local/lib/python3.9/dist-packages (from numba>=0.53.1->vectorbt) (0.39.1)\n",
            "Requirement already satisfied: setuptools in /usr/local/lib/python3.9/dist-packages (from numba>=0.53.1->vectorbt) (67.6.1)\n",
            "Requirement already satisfied: tenacity>=6.2.0 in /usr/local/lib/python3.9/dist-packages (from plotly>=4.12.0->vectorbt) (8.2.2)\n",
            "Requirement already satisfied: tzlocal in /usr/local/lib/python3.9/dist-packages (from dateparser->vectorbt) (4.3)\n",
            "Requirement already satisfied: python-dateutil in /usr/local/lib/python3.9/dist-packages (from dateparser->vectorbt) (2.8.2)\n",
            "Requirement already satisfied: regex!=2019.02.19,!=2021.8.27 in /usr/local/lib/python3.9/dist-packages (from dateparser->vectorbt) (2022.10.31)\n",
            "Requirement already satisfied: pillow>=8.3.2 in /usr/local/lib/python3.9/dist-packages (from imageio->vectorbt) (8.4.0)\n",
            "Requirement already satisfied: pyparsing>=2.3.1 in /usr/local/lib/python3.9/dist-packages (from matplotlib->vectorbt) (3.0.9)\n",
            "Requirement already satisfied: fonttools>=4.22.0 in /usr/local/lib/python3.9/dist-packages (from matplotlib->vectorbt) (4.39.3)\n",
            "Requirement already satisfied: importlib-resources>=3.2.0 in /usr/local/lib/python3.9/dist-packages (from matplotlib->vectorbt) (5.12.0)\n",
            "Requirement already satisfied: cycler>=0.10 in /usr/local/lib/python3.9/dist-packages (from matplotlib->vectorbt) (0.11.0)\n",
            "Requirement already satisfied: contourpy>=1.0.1 in /usr/local/lib/python3.9/dist-packages (from matplotlib->vectorbt) (1.0.7)\n",
            "Requirement already satisfied: kiwisolver>=1.0.1 in /usr/local/lib/python3.9/dist-packages (from matplotlib->vectorbt) (1.4.4)\n",
            "Requirement already satisfied: packaging>=20.0 in /usr/local/lib/python3.9/dist-packages (from matplotlib->vectorbt) (23.0)\n",
            "Requirement already satisfied: urllib3<1.27,>=1.21.1 in /usr/local/lib/python3.9/dist-packages (from requests->vectorbt) (1.26.15)\n",
            "Requirement already satisfied: certifi>=2017.4.17 in /usr/local/lib/python3.9/dist-packages (from requests->vectorbt) (2022.12.7)\n",
            "Requirement already satisfied: idna<4,>=2.5 in /usr/local/lib/python3.9/dist-packages (from requests->vectorbt) (3.4)\n",
            "Requirement already satisfied: charset-normalizer~=2.0.0 in /usr/local/lib/python3.9/dist-packages (from requests->vectorbt) (2.0.12)\n",
            "Requirement already satisfied: joblib>=1.1.1 in /usr/local/lib/python3.9/dist-packages (from scikit-learn->vectorbt) (1.2.0)\n",
            "Requirement already satisfied: threadpoolctl>=2.0.0 in /usr/local/lib/python3.9/dist-packages (from scikit-learn->vectorbt) (3.1.0)\n",
            "Requirement already satisfied: zipp>=3.1.0 in /usr/local/lib/python3.9/dist-packages (from importlib-resources>=3.2.0->matplotlib->vectorbt) (3.15.0)\n",
            "Requirement already satisfied: tornado>=4.2 in /usr/local/lib/python3.9/dist-packages (from ipykernel>=4.5.1->ipywidgets>=7.0.0->vectorbt) (6.2)\n",
            "Requirement already satisfied: jupyter-client in /usr/local/lib/python3.9/dist-packages (from ipykernel>=4.5.1->ipywidgets>=7.0.0->vectorbt) (6.1.12)\n",
            "Requirement already satisfied: pexpect>4.3 in /usr/local/lib/python3.9/dist-packages (from ipython>=4.0.0->ipywidgets>=7.0.0->vectorbt) (4.8.0)\n",
            "Requirement already satisfied: matplotlib-inline in /usr/local/lib/python3.9/dist-packages (from ipython>=4.0.0->ipywidgets>=7.0.0->vectorbt) (0.1.6)\n",
            "Requirement already satisfied: prompt-toolkit!=3.0.0,!=3.0.1,<3.1.0,>=2.0.0 in /usr/local/lib/python3.9/dist-packages (from ipython>=4.0.0->ipywidgets>=7.0.0->vectorbt) (3.0.38)\n",
            "Requirement already satisfied: decorator in /usr/local/lib/python3.9/dist-packages (from ipython>=4.0.0->ipywidgets>=7.0.0->vectorbt) (4.4.2)\n",
            "Requirement already satisfied: backcall in /usr/local/lib/python3.9/dist-packages (from ipython>=4.0.0->ipywidgets>=7.0.0->vectorbt) (0.2.0)\n",
            "Collecting jedi>=0.16\n",
            "  Downloading jedi-0.18.2-py2.py3-none-any.whl (1.6 MB)\n",
            "\u001b[2K     \u001b[90m━━━━━━━━━━━━━━━━━━━━━━━━━━━━━━━━━━━━━━━━\u001b[0m \u001b[32m1.6/1.6 MB\u001b[0m \u001b[31m38.4 MB/s\u001b[0m eta \u001b[36m0:00:00\u001b[0m\n",
            "\u001b[?25hRequirement already satisfied: pygments in /usr/local/lib/python3.9/dist-packages (from ipython>=4.0.0->ipywidgets>=7.0.0->vectorbt) (2.14.0)\n",
            "Requirement already satisfied: pickleshare in /usr/local/lib/python3.9/dist-packages (from ipython>=4.0.0->ipywidgets>=7.0.0->vectorbt) (0.7.5)\n",
            "Requirement already satisfied: six>=1.5 in /usr/local/lib/python3.9/dist-packages (from python-dateutil->dateparser->vectorbt) (1.16.0)\n",
            "Requirement already satisfied: notebook>=4.4.1 in /usr/local/lib/python3.9/dist-packages (from widgetsnbextension~=3.6.0->ipywidgets>=7.0.0->vectorbt) (6.4.8)\n",
            "Requirement already satisfied: pytz-deprecation-shim in /usr/local/lib/python3.9/dist-packages (from tzlocal->dateparser->vectorbt) (0.1.0.post0)\n",
            "Requirement already satisfied: parso<0.9.0,>=0.8.0 in /usr/local/lib/python3.9/dist-packages (from jedi>=0.16->ipython>=4.0.0->ipywidgets>=7.0.0->vectorbt) (0.8.3)\n",
            "Requirement already satisfied: jinja2 in /usr/local/lib/python3.9/dist-packages (from notebook>=4.4.1->widgetsnbextension~=3.6.0->ipywidgets>=7.0.0->vectorbt) (3.1.2)\n",
            "Requirement already satisfied: argon2-cffi in /usr/local/lib/python3.9/dist-packages (from notebook>=4.4.1->widgetsnbextension~=3.6.0->ipywidgets>=7.0.0->vectorbt) (21.3.0)\n",
            "Requirement already satisfied: Send2Trash>=1.8.0 in /usr/local/lib/python3.9/dist-packages (from notebook>=4.4.1->widgetsnbextension~=3.6.0->ipywidgets>=7.0.0->vectorbt) (1.8.0)\n",
            "Requirement already satisfied: terminado>=0.8.3 in /usr/local/lib/python3.9/dist-packages (from notebook>=4.4.1->widgetsnbextension~=3.6.0->ipywidgets>=7.0.0->vectorbt) (0.17.1)\n",
            "Requirement already satisfied: nest-asyncio>=1.5 in /usr/local/lib/python3.9/dist-packages (from notebook>=4.4.1->widgetsnbextension~=3.6.0->ipywidgets>=7.0.0->vectorbt) (1.5.6)\n",
            "Requirement already satisfied: nbconvert in /usr/local/lib/python3.9/dist-packages (from notebook>=4.4.1->widgetsnbextension~=3.6.0->ipywidgets>=7.0.0->vectorbt) (6.5.4)\n",
            "Requirement already satisfied: prometheus-client in /usr/local/lib/python3.9/dist-packages (from notebook>=4.4.1->widgetsnbextension~=3.6.0->ipywidgets>=7.0.0->vectorbt) (0.16.0)\n",
            "Requirement already satisfied: jupyter-core>=4.6.1 in /usr/local/lib/python3.9/dist-packages (from notebook>=4.4.1->widgetsnbextension~=3.6.0->ipywidgets>=7.0.0->vectorbt) (5.3.0)\n",
            "Requirement already satisfied: pyzmq>=17 in /usr/local/lib/python3.9/dist-packages (from notebook>=4.4.1->widgetsnbextension~=3.6.0->ipywidgets>=7.0.0->vectorbt) (23.2.1)\n",
            "Requirement already satisfied: nbformat in /usr/local/lib/python3.9/dist-packages (from notebook>=4.4.1->widgetsnbextension~=3.6.0->ipywidgets>=7.0.0->vectorbt) (5.8.0)\n",
            "Requirement already satisfied: ptyprocess>=0.5 in /usr/local/lib/python3.9/dist-packages (from pexpect>4.3->ipython>=4.0.0->ipywidgets>=7.0.0->vectorbt) (0.7.0)\n",
            "Requirement already satisfied: wcwidth in /usr/local/lib/python3.9/dist-packages (from prompt-toolkit!=3.0.0,!=3.0.1,<3.1.0,>=2.0.0->ipython>=4.0.0->ipywidgets>=7.0.0->vectorbt) (0.2.6)\n",
            "Requirement already satisfied: tzdata in /usr/local/lib/python3.9/dist-packages (from pytz-deprecation-shim->tzlocal->dateparser->vectorbt) (2023.3)\n",
            "Requirement already satisfied: platformdirs>=2.5 in /usr/local/lib/python3.9/dist-packages (from jupyter-core>=4.6.1->notebook>=4.4.1->widgetsnbextension~=3.6.0->ipywidgets>=7.0.0->vectorbt) (3.2.0)\n",
            "Requirement already satisfied: argon2-cffi-bindings in /usr/local/lib/python3.9/dist-packages (from argon2-cffi->notebook>=4.4.1->widgetsnbextension~=3.6.0->ipywidgets>=7.0.0->vectorbt) (21.2.0)\n",
            "Requirement already satisfied: MarkupSafe>=2.0 in /usr/local/lib/python3.9/dist-packages (from jinja2->notebook>=4.4.1->widgetsnbextension~=3.6.0->ipywidgets>=7.0.0->vectorbt) (2.1.2)\n",
            "Requirement already satisfied: mistune<2,>=0.8.1 in /usr/local/lib/python3.9/dist-packages (from nbconvert->notebook>=4.4.1->widgetsnbextension~=3.6.0->ipywidgets>=7.0.0->vectorbt) (0.8.4)\n",
            "Requirement already satisfied: tinycss2 in /usr/local/lib/python3.9/dist-packages (from nbconvert->notebook>=4.4.1->widgetsnbextension~=3.6.0->ipywidgets>=7.0.0->vectorbt) (1.2.1)\n",
            "Requirement already satisfied: jupyterlab-pygments in /usr/local/lib/python3.9/dist-packages (from nbconvert->notebook>=4.4.1->widgetsnbextension~=3.6.0->ipywidgets>=7.0.0->vectorbt) (0.2.2)\n",
            "Requirement already satisfied: lxml in /usr/local/lib/python3.9/dist-packages (from nbconvert->notebook>=4.4.1->widgetsnbextension~=3.6.0->ipywidgets>=7.0.0->vectorbt) (4.9.2)\n",
            "Requirement already satisfied: bleach in /usr/local/lib/python3.9/dist-packages (from nbconvert->notebook>=4.4.1->widgetsnbextension~=3.6.0->ipywidgets>=7.0.0->vectorbt) (6.0.0)\n",
            "Requirement already satisfied: beautifulsoup4 in /usr/local/lib/python3.9/dist-packages (from nbconvert->notebook>=4.4.1->widgetsnbextension~=3.6.0->ipywidgets>=7.0.0->vectorbt) (4.11.2)\n",
            "Requirement already satisfied: defusedxml in /usr/local/lib/python3.9/dist-packages (from nbconvert->notebook>=4.4.1->widgetsnbextension~=3.6.0->ipywidgets>=7.0.0->vectorbt) (0.7.1)\n",
            "Requirement already satisfied: pandocfilters>=1.4.1 in /usr/local/lib/python3.9/dist-packages (from nbconvert->notebook>=4.4.1->widgetsnbextension~=3.6.0->ipywidgets>=7.0.0->vectorbt) (1.5.0)\n",
            "Requirement already satisfied: entrypoints>=0.2.2 in /usr/local/lib/python3.9/dist-packages (from nbconvert->notebook>=4.4.1->widgetsnbextension~=3.6.0->ipywidgets>=7.0.0->vectorbt) (0.4)\n",
            "Requirement already satisfied: nbclient>=0.5.0 in /usr/local/lib/python3.9/dist-packages (from nbconvert->notebook>=4.4.1->widgetsnbextension~=3.6.0->ipywidgets>=7.0.0->vectorbt) (0.7.3)\n",
            "Requirement already satisfied: fastjsonschema in /usr/local/lib/python3.9/dist-packages (from nbformat->notebook>=4.4.1->widgetsnbextension~=3.6.0->ipywidgets>=7.0.0->vectorbt) (2.16.3)\n",
            "Requirement already satisfied: jsonschema>=2.6 in /usr/local/lib/python3.9/dist-packages (from nbformat->notebook>=4.4.1->widgetsnbextension~=3.6.0->ipywidgets>=7.0.0->vectorbt) (4.3.3)\n",
            "Requirement already satisfied: pyrsistent!=0.17.0,!=0.17.1,!=0.17.2,>=0.14.0 in /usr/local/lib/python3.9/dist-packages (from jsonschema>=2.6->nbformat->notebook>=4.4.1->widgetsnbextension~=3.6.0->ipywidgets>=7.0.0->vectorbt) (0.19.3)\n",
            "Requirement already satisfied: attrs>=17.4.0 in /usr/local/lib/python3.9/dist-packages (from jsonschema>=2.6->nbformat->notebook>=4.4.1->widgetsnbextension~=3.6.0->ipywidgets>=7.0.0->vectorbt) (22.2.0)\n",
            "Requirement already satisfied: cffi>=1.0.1 in /usr/local/lib/python3.9/dist-packages (from argon2-cffi-bindings->argon2-cffi->notebook>=4.4.1->widgetsnbextension~=3.6.0->ipywidgets>=7.0.0->vectorbt) (1.15.1)\n",
            "Requirement already satisfied: soupsieve>1.2 in /usr/local/lib/python3.9/dist-packages (from beautifulsoup4->nbconvert->notebook>=4.4.1->widgetsnbextension~=3.6.0->ipywidgets>=7.0.0->vectorbt) (2.4)\n",
            "Requirement already satisfied: webencodings in /usr/local/lib/python3.9/dist-packages (from bleach->nbconvert->notebook>=4.4.1->widgetsnbextension~=3.6.0->ipywidgets>=7.0.0->vectorbt) (0.5.1)\n",
            "Requirement already satisfied: pycparser in /usr/local/lib/python3.9/dist-packages (from cffi>=1.0.1->argon2-cffi-bindings->argon2-cffi->notebook>=4.4.1->widgetsnbextension~=3.6.0->ipywidgets>=7.0.0->vectorbt) (2.21)\n",
            "Building wheels for collected packages: vectorbt\n",
            "  Building wheel for vectorbt (setup.py) ... \u001b[?25l\u001b[?25hdone\n",
            "  Created wheel for vectorbt: filename=vectorbt-0.24.5-py3-none-any.whl size=526801 sha256=56b021916f2281aa91bdf20d2e9f51a90f0fb507f938f2eac38f08c5b0894f59\n",
            "  Stored in directory: /root/.cache/pip/wheels/be/6a/39/9fe1027502bf84c884fcc956eaabdc6196d78daac11ce28f74\n",
            "Successfully built vectorbt\n",
            "Installing collected packages: schedule, mypy_extensions, jedi, dill, dateparser, vectorbt\n",
            "Successfully installed dateparser-1.1.8 dill-0.3.6 jedi-0.18.2 mypy_extensions-1.0.0 schedule-1.2.0 vectorbt-0.24.5\n"
          ]
        }
      ]
    },
    {
      "cell_type": "code",
      "source": [
        "class SmaCross(Strategy):\n",
        "    sma_fast = 12\n",
        "    sma_slow = 24\n",
        "    \n",
        "    def init(self):\n",
        "        self.sma1 = self.I(MovingAverage, self.data.Close, self.sma_fast)\n",
        "        self.sma2 = self.I(MovingAverage, self.data.Close, self.sma_slow)\n",
        "\n",
        "    def next(self):\n",
        "        if not self.position and crossover(self.sma1, self.sma2):\n",
        "            self.buy()\n",
        "        elif self.position and crossover(self.sma2, self.sma1):\n",
        "            self.position.close()"
      ],
      "metadata": {
        "id": "S0OhhK79RPw5"
      },
      "execution_count": null,
      "outputs": []
    },
    {
      "cell_type": "code",
      "source": [
        "import vectorbt as vbt\n",
        "\n",
        "price = df['Close']\n",
        "\n",
        "fast_ma = vbt.MA.run(price, 10, short_name='fast')\n",
        "slow_ma = vbt.MA.run(price, 20, short_name='slow')\n",
        "\n",
        "entries = fast_ma.ma_crossed_above(slow_ma)\n",
        "exits = fast_ma.ma_crossed_below(slow_ma)"
      ],
      "metadata": {
        "id": "5mcHyJEzQgwV"
      },
      "execution_count": 24,
      "outputs": []
    },
    {
      "cell_type": "code",
      "source": [
        "pf = vbt.Portfolio.from_signals(price, entries, exits)"
      ],
      "metadata": {
        "id": "p7B92vMNQvOF"
      },
      "execution_count": 26,
      "outputs": []
    },
    {
      "cell_type": "code",
      "source": [
        "pf.total_return()"
      ],
      "metadata": {
        "colab": {
          "base_uri": "https://localhost:8080/"
        },
        "id": "ffCLOvacQ9PS",
        "outputId": "18a7f9c5-627b-4ca1-edf4-7723d6e48e73"
      },
      "execution_count": 27,
      "outputs": [
        {
          "output_type": "execute_result",
          "data": {
            "text/plain": [
              "0.4915453960761981"
            ]
          },
          "metadata": {},
          "execution_count": 27
        }
      ]
    },
    {
      "cell_type": "code",
      "source": [
        "pf.plot()"
      ],
      "metadata": {
        "colab": {
          "base_uri": "https://localhost:8080/",
          "height": 17,
          "referenced_widgets": [
            "588a66c9f7214cabb273a83962c69713"
          ]
        },
        "id": "K4pFv1KkSJNf",
        "outputId": "059dc100-ddef-4651-888e-349c645f5b30"
      },
      "execution_count": 32,
      "outputs": [
        {
          "output_type": "execute_result",
          "data": {
            "application/vnd.jupyter.widget-view+json": {
              "version_major": 2,
              "version_minor": 0,
              "model_id": "588a66c9f7214cabb273a83962c69713"
            },
            "text/plain": [
              "FigureWidget({\n",
              "    'data': [{'legendgroup': '0',\n",
              "              'line': {'color': '#1f77b4'},\n",
              "              'name': 'Close',\n",
              "              'showlegend': True,\n",
              "              'type': 'scatter',\n",
              "              'uid': 'e79c60f9-6fd0-414a-a683-13d20503db9c',\n",
              "              'x': array([datetime.datetime(2018, 8, 1, 0, 0),\n",
              "                          datetime.datetime(2018, 8, 2, 0, 0),\n",
              "                          datetime.datetime(2018, 8, 3, 0, 0), ...,\n",
              "                          datetime.datetime(2022, 8, 25, 0, 0),\n",
              "                          datetime.datetime(2022, 8, 26, 0, 0),\n",
              "                          datetime.datetime(2022, 8, 29, 0, 0)], dtype=object),\n",
              "              'xaxis': 'x',\n",
              "              'y': array([1181.15380859, 1157.37915039, 1165.8984375 , ..., 2632.05004883,\n",
              "                          2618.        , 2597.64990234]),\n",
              "              'yaxis': 'y'},\n",
              "             {'customdata': array([[ 0.        ,  0.09194216,  0.        ],\n",
              "                                   [ 2.        ,  0.09013891,  0.        ],\n",
              "                                   [ 4.        ,  0.08618527,  0.        ],\n",
              "                                   [ 6.        ,  0.08292734,  0.        ],\n",
              "                                   [ 8.        ,  0.07901796,  0.        ],\n",
              "                                   [10.        ,  0.07912904,  0.        ],\n",
              "                                   [12.        ,  0.0766729 ,  0.        ],\n",
              "                                   [14.        ,  0.07226219,  0.        ],\n",
              "                                   [16.        ,  0.07282101,  0.        ],\n",
              "                                   [18.        ,  0.071269  ,  0.        ],\n",
              "                                   [20.        ,  0.07942923,  0.        ],\n",
              "                                   [22.        ,  0.07159843,  0.        ],\n",
              "                                   [24.        ,  0.06441538,  0.        ],\n",
              "                                   [26.        ,  0.06458178,  0.        ],\n",
              "                                   [28.        ,  0.06904714,  0.        ],\n",
              "                                   [30.        ,  0.06760994,  0.        ],\n",
              "                                   [32.        ,  0.0645151 ,  0.        ],\n",
              "                                   [34.        ,  0.06107764,  0.        ],\n",
              "                                   [36.        ,  0.06640258,  0.        ],\n",
              "                                   [38.        ,  0.06423895,  0.        ],\n",
              "                                   [40.        ,  0.06349322,  0.        ],\n",
              "                                   [42.        ,  0.06555189,  0.        ],\n",
              "                                   [44.        ,  0.06452984,  0.        ],\n",
              "                                   [46.        ,  0.06082005,  0.        ],\n",
              "                                   [48.        ,  0.05942858,  0.        ],\n",
              "                                   [50.        ,  0.05462264,  0.        ],\n",
              "                                   [52.        ,  0.05741903,  0.        ]]),\n",
              "              'hovertemplate': ('Order Id: %{customdata[0]}<br>' ... '<br>Fees: %{customdata[2]:.6f}'),\n",
              "              'legendgroup': '1',\n",
              "              'marker': {'color': '#37B13F',\n",
              "                         'line': {'color': 'rgb(38,123,44)', 'width': 1},\n",
              "                         'size': 8,\n",
              "                         'symbol': 'triangle-up'},\n",
              "              'mode': 'markers',\n",
              "              'name': 'Buy',\n",
              "              'type': 'scatter',\n",
              "              'uid': '31bba61d-d5d4-4637-9afd-d3e94e869f43',\n",
              "              'x': array([datetime.datetime(2018, 11, 14, 0, 0),\n",
              "                          datetime.datetime(2019, 1, 17, 0, 0),\n",
              "                          datetime.datetime(2019, 3, 11, 0, 0),\n",
              "                          datetime.datetime(2019, 4, 26, 0, 0),\n",
              "                          datetime.datetime(2019, 5, 29, 0, 0),\n",
              "                          datetime.datetime(2019, 7, 22, 0, 0),\n",
              "                          datetime.datetime(2019, 8, 21, 0, 0),\n",
              "                          datetime.datetime(2019, 9, 26, 0, 0),\n",
              "                          datetime.datetime(2020, 1, 20, 0, 0),\n",
              "                          datetime.datetime(2020, 2, 19, 0, 0),\n",
              "                          datetime.datetime(2020, 4, 8, 0, 0),\n",
              "                          datetime.datetime(2020, 6, 4, 0, 0),\n",
              "                          datetime.datetime(2020, 9, 10, 0, 0),\n",
              "                          datetime.datetime(2020, 10, 15, 0, 0),\n",
              "                          datetime.datetime(2020, 11, 18, 0, 0),\n",
              "                          datetime.datetime(2020, 12, 11, 0, 0),\n",
              "                          datetime.datetime(2021, 1, 21, 0, 0),\n",
              "                          datetime.datetime(2021, 2, 15, 0, 0),\n",
              "                          datetime.datetime(2021, 5, 5, 0, 0),\n",
              "                          datetime.datetime(2021, 5, 21, 0, 0),\n",
              "                          datetime.datetime(2021, 8, 12, 0, 0),\n",
              "                          datetime.datetime(2022, 1, 4, 0, 0),\n",
              "                          datetime.datetime(2022, 2, 18, 0, 0),\n",
              "                          datetime.datetime(2022, 3, 21, 0, 0),\n",
              "                          datetime.datetime(2022, 4, 21, 0, 0),\n",
              "                          datetime.datetime(2022, 5, 30, 0, 0),\n",
              "                          datetime.datetime(2022, 7, 27, 0, 0)], dtype=object),\n",
              "              'xaxis': 'x',\n",
              "              'y': array([1087.64025879, 1123.79748535, 1291.85449219, 1379.72155762,\n",
              "                          1300.72045898, 1268.47607422, 1259.01574707, 1284.62304688,\n",
              "                          1517.96130371, 1489.67932129, 1180.95568848, 1579.80004883,\n",
              "                          2314.        , 2206.5       , 1987.19995117, 2005.80004883,\n",
              "                          2099.39990234, 2032.59997559, 1920.09997559, 2002.55004883,\n",
              "                          2110.5       , 2458.10009766, 2424.39990234, 2467.39990234,\n",
              "                          2782.10009766, 2664.80004883, 2419.19995117]),\n",
              "              'yaxis': 'y'},\n",
              "             {'customdata': array([[ 1.        ,  0.09194216,  0.        ],\n",
              "                                   [ 3.        ,  0.09013891,  0.        ],\n",
              "                                   [ 5.        ,  0.08618527,  0.        ],\n",
              "                                   [ 7.        ,  0.08292734,  0.        ],\n",
              "                                   [ 9.        ,  0.07901796,  0.        ],\n",
              "                                   [11.        ,  0.07912904,  0.        ],\n",
              "                                   [13.        ,  0.0766729 ,  0.        ],\n",
              "                                   [15.        ,  0.07226219,  0.        ],\n",
              "                                   [17.        ,  0.07282101,  0.        ],\n",
              "                                   [19.        ,  0.071269  ,  0.        ],\n",
              "                                   [21.        ,  0.07942923,  0.        ],\n",
              "                                   [23.        ,  0.07159843,  0.        ],\n",
              "                                   [25.        ,  0.06441538,  0.        ],\n",
              "                                   [27.        ,  0.06458178,  0.        ],\n",
              "                                   [29.        ,  0.06904714,  0.        ],\n",
              "                                   [31.        ,  0.06760994,  0.        ],\n",
              "                                   [33.        ,  0.0645151 ,  0.        ],\n",
              "                                   [35.        ,  0.06107764,  0.        ],\n",
              "                                   [37.        ,  0.06640258,  0.        ],\n",
              "                                   [39.        ,  0.06423895,  0.        ],\n",
              "                                   [41.        ,  0.06349322,  0.        ],\n",
              "                                   [43.        ,  0.06555189,  0.        ],\n",
              "                                   [45.        ,  0.06452984,  0.        ],\n",
              "                                   [47.        ,  0.06082005,  0.        ],\n",
              "                                   [49.        ,  0.05942858,  0.        ],\n",
              "                                   [51.        ,  0.05462264,  0.        ]]),\n",
              "              'hovertemplate': ('Order Id: %{customdata[0]}<br>' ... '<br>Fees: %{customdata[2]:.6f}'),\n",
              "              'legendgroup': '2',\n",
              "              'marker': {'color': '#EA4335',\n",
              "                         'line': {'color': 'rgb(181,31,18)', 'width': 1},\n",
              "                         'size': 8,\n",
              "                         'symbol': 'triangle-down'},\n",
              "              'mode': 'markers',\n",
              "              'name': 'Sell',\n",
              "              'type': 'scatter',\n",
              "              'uid': '37d0d0c7-9a5a-4434-ac33-91b588f04244',\n",
              "              'x': array([datetime.datetime(2018, 12, 14, 0, 0),\n",
              "                          datetime.datetime(2019, 2, 21, 0, 0),\n",
              "                          datetime.datetime(2019, 4, 15, 0, 0),\n",
              "                          datetime.datetime(2019, 5, 10, 0, 0),\n",
              "                          datetime.datetime(2019, 6, 17, 0, 0),\n",
              "                          datetime.datetime(2019, 7, 25, 0, 0),\n",
              "                          datetime.datetime(2019, 9, 9, 0, 0),\n",
              "                          datetime.datetime(2019, 12, 30, 0, 0),\n",
              "                          datetime.datetime(2020, 1, 28, 0, 0),\n",
              "                          datetime.datetime(2020, 2, 28, 0, 0),\n",
              "                          datetime.datetime(2020, 5, 26, 0, 0),\n",
              "                          datetime.datetime(2020, 8, 21, 0, 0),\n",
              "                          datetime.datetime(2020, 10, 5, 0, 0),\n",
              "                          datetime.datetime(2020, 10, 21, 0, 0),\n",
              "                          datetime.datetime(2020, 11, 24, 0, 0),\n",
              "                          datetime.datetime(2020, 12, 28, 0, 0),\n",
              "                          datetime.datetime(2021, 2, 4, 0, 0),\n",
              "                          datetime.datetime(2021, 3, 23, 0, 0),\n",
              "                          datetime.datetime(2021, 5, 14, 0, 0),\n",
              "                          datetime.datetime(2021, 6, 28, 0, 0),\n",
              "                          datetime.datetime(2021, 11, 1, 0, 0),\n",
              "                          datetime.datetime(2022, 1, 31, 0, 0),\n",
              "                          datetime.datetime(2022, 3, 4, 0, 0),\n",
              "                          datetime.datetime(2022, 4, 20, 0, 0),\n",
              "                          datetime.datetime(2022, 5, 11, 0, 0),\n",
              "                          datetime.datetime(2022, 6, 20, 0, 0)], dtype=object),\n",
              "              'xaxis': 'x',\n",
              "              'y': array([1101.75646973, 1235.19165039, 1327.56604004, 1239.4017334 ,\n",
              "                          1270.25915527, 1219.9362793 , 1210.72351074, 1529.69995117,\n",
              "                          1457.93029785, 1316.1739502 , 1424.05004883, 2081.85009766,\n",
              "                          2212.19995117, 2124.60009766, 1964.05004883, 2003.30004883,\n",
              "                          1924.30004883, 2087.5       , 1937.30004883, 2086.        ,\n",
              "                          2537.80004883, 2386.60009766, 2325.55004883, 2718.44995117,\n",
              "                          2449.30004883, 2543.05004883]),\n",
              "              'yaxis': 'y'},\n",
              "             {'customdata': array([[0.00000000e+00, 0.00000000e+00, 1.29787499e+00, 1.29787499e-02],\n",
              "                                   [1.00000000e+00, 1.00000000e+00, 1.00409481e+01, 9.91229883e-02],\n",
              "                                   [2.00000000e+00, 2.00000000e+00, 3.07780925e+00, 2.76436302e-02],\n",
              "                                   [7.00000000e+00, 7.00000000e+00, 1.77097948e+01, 1.90777291e-01],\n",
              "                                   [1.00000000e+01, 1.00000000e+01, 1.93087981e+01, 2.05845454e-01],\n",
              "                                   [1.10000000e+01, 1.10000000e+01, 3.59459943e+01, 3.17793413e-01],\n",
              "                                   [1.70000000e+01, 1.70000000e+01, 3.35316418e+00, 2.70097536e-02],\n",
              "                                   [1.80000000e+01, 1.80000000e+01, 1.14212916e+00, 8.95790504e-03],\n",
              "                                   [1.90000000e+01, 1.90000000e+01, 5.36073723e+00, 4.16718430e-02],\n",
              "                                   [2.00000000e+01, 2.00000000e+01, 2.71306577e+01, 2.02463894e-01],\n",
              "                                   [2.30000000e+01, 2.30000000e+01, 1.52688761e+01, 1.01746802e-01]]),\n",
              "              'hovertemplate': ('Exit Trade Id: %{customdata[0]' ... 'r>Return: %{customdata[3]:.2%}'),\n",
              "              'legendgroup': '3',\n",
              "              'marker': {'color': '#37B13F',\n",
              "                         'line': {'color': 'rgb(38,123,44)', 'width': 1},\n",
              "                         'opacity': array([0.75555954, 0.79638012, 0.76250868, 0.83981173, 0.84695198, 0.9       ,\n",
              "                                           0.76220831, 0.75365421, 0.76915614, 0.84534958, 0.79762345]),\n",
              "                         'size': array([ 7.25944502,  9.1644058 ,  7.58373858, 11.19121401, 11.52442563,\n",
              "                                        14.        ,  7.56972128,  7.1705296 ,  7.89395312, 11.4496471 ,\n",
              "                                         9.2224278 ]),\n",
              "                         'symbol': 'circle'},\n",
              "              'mode': 'markers',\n",
              "              'name': 'Closed - Profit',\n",
              "              'type': 'scatter',\n",
              "              'uid': '43f31230-ce10-4c86-85fd-fbeee0b4a01c',\n",
              "              'x': array([datetime.datetime(2018, 12, 14, 0, 0),\n",
              "                          datetime.datetime(2019, 2, 21, 0, 0),\n",
              "                          datetime.datetime(2019, 4, 15, 0, 0),\n",
              "                          datetime.datetime(2019, 12, 30, 0, 0),\n",
              "                          datetime.datetime(2020, 5, 26, 0, 0),\n",
              "                          datetime.datetime(2020, 8, 21, 0, 0),\n",
              "                          datetime.datetime(2021, 3, 23, 0, 0),\n",
              "                          datetime.datetime(2021, 5, 14, 0, 0),\n",
              "                          datetime.datetime(2021, 6, 28, 0, 0),\n",
              "                          datetime.datetime(2021, 11, 1, 0, 0),\n",
              "                          datetime.datetime(2022, 4, 20, 0, 0)], dtype=object),\n",
              "              'xaxis': 'x2',\n",
              "              'y': array([0.01297875, 0.09912299, 0.02764363, 0.19077729, 0.20584545, 0.31779341,\n",
              "                          0.02700975, 0.00895791, 0.04167184, 0.20246389, 0.1017468 ]),\n",
              "              'yaxis': 'y2'},\n",
              "             {'customdata': array([[ 3.00000000e+00,  3.00000000e+00, -1.16363491e+01, -1.01701552e-01],\n",
              "                                   [ 4.00000000e+00,  4.00000000e+00, -2.40699022e+00, -2.34187934e-02],\n",
              "                                   [ 5.00000000e+00,  5.00000000e+00, -3.84090733e+00, -3.82662282e-02],\n",
              "                                   [ 6.00000000e+00,  6.00000000e+00, -3.70270570e+00, -3.83571345e-02],\n",
              "                                   [ 8.00000000e+00,  8.00000000e+00, -4.37151846e+00, -3.95471253e-02],\n",
              "                                   [ 9.00000000e+00,  9.00000000e+00, -1.23655544e+01, -1.16471625e-01],\n",
              "                                   [ 1.20000000e+01,  1.20000000e+01, -6.55748905e+00, -4.39931067e-02],\n",
              "                                   [ 1.30000000e+01,  1.30000000e+01, -5.28924176e+00, -3.71175628e-02],\n",
              "                                   [ 1.40000000e+01,  1.40000000e+01, -1.59843443e+00, -1.16495083e-02],\n",
              "                                   [ 1.50000000e+01,  1.50000000e+01, -1.69024860e-01, -1.24638545e-03],\n",
              "                                   [ 1.60000000e+01,  1.60000000e+01, -1.12965854e+01, -8.34047164e-02],\n",
              "                                   [ 2.10000000e+01,  2.10000000e+01, -4.68696013e+00, -2.90875055e-02],\n",
              "                                   [ 2.20000000e+01,  2.20000000e+01, -6.37876561e+00, -4.07729160e-02],\n",
              "                                   [ 2.40000000e+01,  2.40000000e+01, -1.97778342e+01, -1.19621882e-01],\n",
              "                                   [ 2.50000000e+01,  2.50000000e+01, -6.65030685e+00, -4.56882309e-02]]),\n",
              "              'hovertemplate': ('Exit Trade Id: %{customdata[0]' ... 'r>Return: %{customdata[3]:.2%}'),\n",
              "              'legendgroup': '4',\n",
              "              'marker': {'color': '#EA4335',\n",
              "                         'line': {'color': 'rgb(181,31,18)', 'width': 1},\n",
              "                         'opacity': array([0.79760201, 0.76050669, 0.76754234, 0.76758542, 0.76814931, 0.80460101,\n",
              "                                           0.7702561 , 0.76699803, 0.75492966, 0.75      , 0.78893181, 0.76319288,\n",
              "                                           0.76873017, 0.8060938 , 0.77105936]),\n",
              "                         'size': array([9.22142717, 7.49031216, 7.81864266, 7.82065292, 7.84696793, 9.54804691,\n",
              "                                        7.94528466, 7.79324151, 7.23005068, 7.        , 8.81681794, 7.61566789,\n",
              "                                        7.87407459, 9.61771049, 7.98276999]),\n",
              "                         'symbol': 'circle'},\n",
              "              'mode': 'markers',\n",
              "              'name': 'Closed - Loss',\n",
              "              'type': 'scatter',\n",
              "              'uid': '704f2749-7611-4668-8ea2-fde43035b172',\n",
              "              'x': array([datetime.datetime(2019, 5, 10, 0, 0),\n",
              "                          datetime.datetime(2019, 6, 17, 0, 0),\n",
              "                          datetime.datetime(2019, 7, 25, 0, 0),\n",
              "                          datetime.datetime(2019, 9, 9, 0, 0),\n",
              "                          datetime.datetime(2020, 1, 28, 0, 0),\n",
              "                          datetime.datetime(2020, 2, 28, 0, 0),\n",
              "                          datetime.datetime(2020, 10, 5, 0, 0),\n",
              "                          datetime.datetime(2020, 10, 21, 0, 0),\n",
              "                          datetime.datetime(2020, 11, 24, 0, 0),\n",
              "                          datetime.datetime(2020, 12, 28, 0, 0),\n",
              "                          datetime.datetime(2021, 2, 4, 0, 0),\n",
              "                          datetime.datetime(2022, 1, 31, 0, 0),\n",
              "                          datetime.datetime(2022, 3, 4, 0, 0),\n",
              "                          datetime.datetime(2022, 5, 11, 0, 0),\n",
              "                          datetime.datetime(2022, 6, 20, 0, 0)], dtype=object),\n",
              "              'xaxis': 'x2',\n",
              "              'y': array([-0.10170155, -0.02341879, -0.03826623, -0.03835713, -0.03954713,\n",
              "                          -0.11647162, -0.04399311, -0.03711756, -0.01164951, -0.00124639,\n",
              "                          -0.08340472, -0.02908751, -0.04077292, -0.11962188, -0.04568823]),\n",
              "              'yaxis': 'y2'},\n",
              "             {'customdata': array([[26.        , 26.        , 10.24642323,  0.07376404]]),\n",
              "              'hovertemplate': ('Exit Trade Id: %{customdata[0]' ... 'r>Return: %{customdata[3]:.2%}'),\n",
              "              'legendgroup': '5',\n",
              "              'marker': {'color': '#FFAA00',\n",
              "                         'line': {'color': 'rgb(178,118,0)', 'width': 1},\n",
              "                         'opacity': array([0.78436345]),\n",
              "                         'size': array([8.6036276]),\n",
              "                         'symbol': 'circle'},\n",
              "              'mode': 'markers',\n",
              "              'name': 'Open',\n",
              "              'type': 'scatter',\n",
              "              'uid': '82c6c7b1-e913-4b0b-8a8d-a9a679de7da5',\n",
              "              'x': array([datetime.datetime(2022, 8, 29, 0, 0)], dtype=object),\n",
              "              'xaxis': 'x2',\n",
              "              'y': array([0.07376404]),\n",
              "              'yaxis': 'y2'},\n",
              "             {'legendgroup': '6',\n",
              "              'line': {'color': '#7f7f7f'},\n",
              "              'name': 'Benchmark',\n",
              "              'showlegend': True,\n",
              "              'type': 'scatter',\n",
              "              'uid': '8a1e4b41-5d8e-40c0-9243-f2d247ced091',\n",
              "              'x': array([datetime.datetime(2018, 8, 1, 0, 0),\n",
              "                          datetime.datetime(2018, 8, 2, 0, 0),\n",
              "                          datetime.datetime(2018, 8, 3, 0, 0), ...,\n",
              "                          datetime.datetime(2022, 8, 25, 0, 0),\n",
              "                          datetime.datetime(2022, 8, 26, 0, 0),\n",
              "                          datetime.datetime(2022, 8, 29, 0, 0)], dtype=object),\n",
              "              'xaxis': 'x3',\n",
              "              'y': array([1.        , 0.97987167, 0.98708435, ..., 2.22837198, 2.21647679,\n",
              "                          2.19924779]),\n",
              "              'yaxis': 'y3'},\n",
              "             {'hoverinfo': 'skip',\n",
              "              'legendgroup': '7',\n",
              "              'line': {'color': 'rgba(0, 0, 0, 0)', 'width': 0},\n",
              "              'opacity': 0,\n",
              "              'showlegend': False,\n",
              "              'type': 'scatter',\n",
              "              'uid': '483667d5-bd5d-4c34-bcc2-2eb9a9fb2262',\n",
              "              'x': array([datetime.datetime(2018, 8, 1, 0, 0),\n",
              "                          datetime.datetime(2018, 8, 2, 0, 0),\n",
              "                          datetime.datetime(2018, 8, 3, 0, 0), ...,\n",
              "                          datetime.datetime(2022, 8, 25, 0, 0),\n",
              "                          datetime.datetime(2022, 8, 26, 0, 0),\n",
              "                          datetime.datetime(2022, 8, 29, 0, 0)], dtype=object),\n",
              "              'xaxis': 'x3',\n",
              "              'y': array([1, 1, 1, ..., 1, 1, 1]),\n",
              "              'yaxis': 'y3'},\n",
              "             {'connectgaps': False,\n",
              "              'fill': 'tonexty',\n",
              "              'fillcolor': 'rgba(0, 128, 0, 0.3)',\n",
              "              'hoverinfo': 'skip',\n",
              "              'legendgroup': '7',\n",
              "              'line': {'color': 'rgba(0, 0, 0, 0)', 'width': 0},\n",
              "              'opacity': 0,\n",
              "              'showlegend': False,\n",
              "              'type': 'scatter',\n",
              "              'uid': 'f0a22b75-6764-4918-a1c4-41e142b81c7f',\n",
              "              'x': array([datetime.datetime(2018, 8, 1, 0, 0),\n",
              "                          datetime.datetime(2018, 8, 2, 0, 0),\n",
              "                          datetime.datetime(2018, 8, 3, 0, 0), ...,\n",
              "                          datetime.datetime(2022, 8, 25, 0, 0),\n",
              "                          datetime.datetime(2022, 8, 26, 0, 0),\n",
              "                          datetime.datetime(2022, 8, 29, 0, 0)], dtype=object),\n",
              "              'xaxis': 'x3',\n",
              "              'y': array([1.        , 1.        , 1.        , ..., 1.51129763, 1.50323022,\n",
              "                          1.4915454 ]),\n",
              "              'yaxis': 'y3'},\n",
              "             {'hoverinfo': 'skip',\n",
              "              'legendgroup': '7',\n",
              "              'line': {'color': 'rgba(0, 0, 0, 0)', 'width': 0},\n",
              "              'opacity': 0,\n",
              "              'showlegend': False,\n",
              "              'type': 'scatter',\n",
              "              'uid': '717f0793-093c-4369-8499-0be702a4a2f7',\n",
              "              'x': array([datetime.datetime(2018, 8, 1, 0, 0),\n",
              "                          datetime.datetime(2018, 8, 2, 0, 0),\n",
              "                          datetime.datetime(2018, 8, 3, 0, 0), ...,\n",
              "                          datetime.datetime(2022, 8, 25, 0, 0),\n",
              "                          datetime.datetime(2022, 8, 26, 0, 0),\n",
              "                          datetime.datetime(2022, 8, 29, 0, 0)], dtype=object),\n",
              "              'xaxis': 'x3',\n",
              "              'y': array([1, 1, 1, ..., 1, 1, 1]),\n",
              "              'yaxis': 'y3'},\n",
              "             {'connectgaps': False,\n",
              "              'fill': 'tonexty',\n",
              "              'fillcolor': 'rgba(255, 0, 0, 0.3)',\n",
              "              'hoverinfo': 'skip',\n",
              "              'legendgroup': '7',\n",
              "              'line': {'color': 'rgba(0, 0, 0, 0)', 'width': 0},\n",
              "              'opacity': 0,\n",
              "              'showlegend': False,\n",
              "              'type': 'scatter',\n",
              "              'uid': 'cb1ad338-9a9f-410d-90e1-d27d9de2c776',\n",
              "              'x': array([datetime.datetime(2018, 8, 1, 0, 0),\n",
              "                          datetime.datetime(2018, 8, 2, 0, 0),\n",
              "                          datetime.datetime(2018, 8, 3, 0, 0), ...,\n",
              "                          datetime.datetime(2022, 8, 25, 0, 0),\n",
              "                          datetime.datetime(2022, 8, 26, 0, 0),\n",
              "                          datetime.datetime(2022, 8, 29, 0, 0)], dtype=object),\n",
              "              'xaxis': 'x3',\n",
              "              'y': array([1., 1., 1., ..., 1., 1., 1.]),\n",
              "              'yaxis': 'y3'},\n",
              "             {'legendgroup': '8',\n",
              "              'line': {'color': '#9467bd'},\n",
              "              'name': 'Value',\n",
              "              'showlegend': True,\n",
              "              'type': 'scatter',\n",
              "              'uid': '22f84306-f8d1-444a-8d0d-f5029f9833e8',\n",
              "              'x': array([datetime.datetime(2018, 8, 1, 0, 0),\n",
              "                          datetime.datetime(2018, 8, 2, 0, 0),\n",
              "                          datetime.datetime(2018, 8, 3, 0, 0), ...,\n",
              "                          datetime.datetime(2022, 8, 25, 0, 0),\n",
              "                          datetime.datetime(2022, 8, 26, 0, 0),\n",
              "                          datetime.datetime(2022, 8, 29, 0, 0)], dtype=object),\n",
              "              'xaxis': 'x3',\n",
              "              'y': array([1.        , 1.        , 1.        , ..., 1.51129763, 1.50323022,\n",
              "                          1.4915454 ]),\n",
              "              'yaxis': 'y3'},\n",
              "             {'hoverinfo': 'skip',\n",
              "              'legendgroup': '7',\n",
              "              'line': {'color': 'rgba(0, 0, 0, 0)', 'width': 0},\n",
              "              'opacity': 0.0,\n",
              "              'showlegend': False,\n",
              "              'type': 'scatter',\n",
              "              'uid': '86c8e1ab-79c5-4163-a67c-b95c9cc3fe41',\n",
              "              'x': array([datetime.datetime(2018, 8, 1, 0, 0),\n",
              "                          datetime.datetime(2018, 8, 2, 0, 0),\n",
              "                          datetime.datetime(2018, 8, 3, 0, 0), ...,\n",
              "                          datetime.datetime(2022, 8, 25, 0, 0),\n",
              "                          datetime.datetime(2022, 8, 26, 0, 0),\n",
              "                          datetime.datetime(2022, 8, 29, 0, 0)], dtype=object),\n",
              "              'xaxis': 'x3',\n",
              "              'y': array([1, 1, 1, ..., 1, 1, 1]),\n",
              "              'yaxis': 'y3'}],\n",
              "    'layout': {'annotations': [{'font': {'size': 16},\n",
              "                                'showarrow': False,\n",
              "                                'text': 'Orders',\n",
              "                                'x': 0.5,\n",
              "                                'xanchor': 'center',\n",
              "                                'xref': 'paper',\n",
              "                                'y': 1.0,\n",
              "                                'yanchor': 'bottom',\n",
              "                                'yref': 'paper'},\n",
              "                               {'font': {'size': 16},\n",
              "                                'showarrow': False,\n",
              "                                'text': 'Trade PnL',\n",
              "                                'x': 0.5,\n",
              "                                'xanchor': 'center',\n",
              "                                'xref': 'paper',\n",
              "                                'y': 0.6527777777777777,\n",
              "                                'yanchor': 'bottom',\n",
              "                                'yref': 'paper'},\n",
              "                               {'font': {'size': 16},\n",
              "                                'showarrow': False,\n",
              "                                'text': 'Cumulative Returns',\n",
              "                                'x': 0.5,\n",
              "                                'xanchor': 'center',\n",
              "                                'xref': 'paper',\n",
              "                                'y': 0.3055555555555555,\n",
              "                                'yanchor': 'bottom',\n",
              "                                'yref': 'paper'}],\n",
              "               'height': 960,\n",
              "               'legend': {'orientation': 'h',\n",
              "                          'traceorder': 'normal',\n",
              "                          'x': 1,\n",
              "                          'xanchor': 'right',\n",
              "                          'y': 1.0416666666666667,\n",
              "                          'yanchor': 'bottom'},\n",
              "               'margin': {'b': 30, 'l': 30, 'r': 30, 't': 30},\n",
              "               'shapes': [{'line': {'color': 'gray', 'dash': 'dash'},\n",
              "                           'type': 'line',\n",
              "                           'x0': 0.0,\n",
              "                           'x1': 1.0,\n",
              "                           'xref': 'paper',\n",
              "                           'y0': 0,\n",
              "                           'y1': 0,\n",
              "                           'yref': 'y2'},\n",
              "                          {'line': {'color': 'gray', 'dash': 'dash'},\n",
              "                           'type': 'line',\n",
              "                           'x0': 0.0,\n",
              "                           'x1': 1.0,\n",
              "                           'xref': 'paper',\n",
              "                           'y0': 1,\n",
              "                           'y1': 1,\n",
              "                           'yref': 'y3'}],\n",
              "               'showlegend': True,\n",
              "               'template': '...',\n",
              "               'width': 750,\n",
              "               'xaxis': {'anchor': 'y', 'domain': [0.0, 1.0], 'matches': 'x3', 'showticklabels': False},\n",
              "               'xaxis2': {'anchor': 'y2', 'domain': [0.0, 1.0], 'matches': 'x3', 'showticklabels': False},\n",
              "               'xaxis3': {'anchor': 'y3', 'domain': [0.0, 1.0], 'title': {'text': 'Index'}},\n",
              "               'yaxis': {'anchor': 'x', 'domain': [0.6944444444444444, 1.0], 'title': {'text': 'Price'}},\n",
              "               'yaxis2': {'anchor': 'x2',\n",
              "                          'domain': [0.3472222222222222, 0.6527777777777777],\n",
              "                          'tickformat': '.2%',\n",
              "                          'title': {'text': 'Trade PnL'}},\n",
              "               'yaxis3': {'anchor': 'x3', 'domain': [0.0, 0.3055555555555555], 'title': {'text': 'Cumulative returns'}}}\n",
              "})"
            ]
          },
          "metadata": {},
          "execution_count": 32
        }
      ]
    },
    {
      "cell_type": "code",
      "source": [],
      "metadata": {
        "id": "FuctwAYaSdvf"
      },
      "execution_count": null,
      "outputs": []
    }
  ],
  "metadata": {
    "kernelspec": {
      "display_name": "Python 3",
      "language": "python",
      "name": "python3"
    },
    "language_info": {
      "codemirror_mode": {
        "name": "ipython",
        "version": 3
      },
      "file_extension": ".py",
      "mimetype": "text/x-python",
      "name": "python",
      "nbconvert_exporter": "python",
      "pygments_lexer": "ipython3",
      "version": "3.7.3"
    },
    "colab": {
      "provenance": []
    },
    "widgets": {
      "application/vnd.jupyter.widget-state+json": {
        "588a66c9f7214cabb273a83962c69713": {
          "model_module": "jupyterlab-plotly",
          "model_name": "FigureModel",
          "model_module_version": "^5.13.1",
          "state": {
            "_config": {
              "plotlyServerURL": "https://plot.ly"
            },
            "_data": [],
            "_dom_classes": [],
            "_js2py_layoutDelta": {},
            "_js2py_pointsCallback": {},
            "_js2py_relayout": {},
            "_js2py_restyle": {},
            "_js2py_traceDeltas": {},
            "_js2py_update": {},
            "_last_layout_edit_id": 47,
            "_last_trace_edit_id": 40,
            "_layout": {
              "annotations": [
                {
                  "font": {
                    "size": 16
                  },
                  "showarrow": false,
                  "text": "$title_0",
                  "x": 0.5,
                  "xanchor": "center",
                  "xref": "paper",
                  "y": 1,
                  "yanchor": "bottom",
                  "yref": "paper"
                },
                {
                  "font": {
                    "size": 16
                  },
                  "showarrow": false,
                  "text": "$title_1",
                  "x": 0.5,
                  "xanchor": "center",
                  "xref": "paper",
                  "y": 0.6527777777777777,
                  "yanchor": "bottom",
                  "yref": "paper"
                },
                {
                  "font": {
                    "size": 16
                  },
                  "showarrow": false,
                  "text": "$title_2",
                  "x": 0.5,
                  "xanchor": "center",
                  "xref": "paper",
                  "y": 0.3055555555555555,
                  "yanchor": "bottom",
                  "yref": "paper"
                }
              ],
              "template": {
                "data": {
                  "barpolar": [
                    {
                      "marker": {
                        "line": {
                          "color": "#E5ECF6",
                          "width": 0.5
                        },
                        "pattern": {
                          "fillmode": "overlay",
                          "size": 10,
                          "solidity": 0.2
                        }
                      },
                      "type": "barpolar"
                    }
                  ],
                  "bar": [
                    {
                      "error_x": {
                        "color": "#2a3f5f"
                      },
                      "error_y": {
                        "color": "#2a3f5f"
                      },
                      "marker": {
                        "line": {
                          "color": "#E5ECF6",
                          "width": 0.5
                        },
                        "pattern": {
                          "fillmode": "overlay",
                          "size": 10,
                          "solidity": 0.2
                        }
                      },
                      "type": "bar"
                    }
                  ],
                  "carpet": [
                    {
                      "aaxis": {
                        "endlinecolor": "#2a3f5f",
                        "gridcolor": "white",
                        "linecolor": "white",
                        "minorgridcolor": "white",
                        "startlinecolor": "#2a3f5f"
                      },
                      "baxis": {
                        "endlinecolor": "#2a3f5f",
                        "gridcolor": "white",
                        "linecolor": "white",
                        "minorgridcolor": "white",
                        "startlinecolor": "#2a3f5f"
                      },
                      "type": "carpet"
                    }
                  ],
                  "choropleth": [
                    {
                      "colorbar": {
                        "outlinewidth": 0,
                        "ticks": ""
                      },
                      "type": "choropleth"
                    }
                  ],
                  "contourcarpet": [
                    {
                      "colorbar": {
                        "outlinewidth": 0,
                        "ticks": ""
                      },
                      "type": "contourcarpet"
                    }
                  ],
                  "contour": [
                    {
                      "colorbar": {
                        "outlinewidth": 0,
                        "ticks": ""
                      },
                      "colorscale": [
                        [
                          0,
                          "#0d0887"
                        ],
                        [
                          0.1111111111111111,
                          "#46039f"
                        ],
                        [
                          0.2222222222222222,
                          "#7201a8"
                        ],
                        [
                          0.3333333333333333,
                          "#9c179e"
                        ],
                        [
                          0.4444444444444444,
                          "#bd3786"
                        ],
                        [
                          0.5555555555555556,
                          "#d8576b"
                        ],
                        [
                          0.6666666666666666,
                          "#ed7953"
                        ],
                        [
                          0.7777777777777778,
                          "#fb9f3a"
                        ],
                        [
                          0.8888888888888888,
                          "#fdca26"
                        ],
                        [
                          1,
                          "#f0f921"
                        ]
                      ],
                      "type": "contour"
                    }
                  ],
                  "heatmapgl": [
                    {
                      "colorbar": {
                        "outlinewidth": 0,
                        "ticks": ""
                      },
                      "colorscale": [
                        [
                          0,
                          "#0d0887"
                        ],
                        [
                          0.1111111111111111,
                          "#46039f"
                        ],
                        [
                          0.2222222222222222,
                          "#7201a8"
                        ],
                        [
                          0.3333333333333333,
                          "#9c179e"
                        ],
                        [
                          0.4444444444444444,
                          "#bd3786"
                        ],
                        [
                          0.5555555555555556,
                          "#d8576b"
                        ],
                        [
                          0.6666666666666666,
                          "#ed7953"
                        ],
                        [
                          0.7777777777777778,
                          "#fb9f3a"
                        ],
                        [
                          0.8888888888888888,
                          "#fdca26"
                        ],
                        [
                          1,
                          "#f0f921"
                        ]
                      ],
                      "type": "heatmapgl"
                    }
                  ],
                  "heatmap": [
                    {
                      "colorbar": {
                        "outlinewidth": 0,
                        "ticks": ""
                      },
                      "colorscale": [
                        [
                          0,
                          "#0d0887"
                        ],
                        [
                          0.1111111111111111,
                          "#46039f"
                        ],
                        [
                          0.2222222222222222,
                          "#7201a8"
                        ],
                        [
                          0.3333333333333333,
                          "#9c179e"
                        ],
                        [
                          0.4444444444444444,
                          "#bd3786"
                        ],
                        [
                          0.5555555555555556,
                          "#d8576b"
                        ],
                        [
                          0.6666666666666666,
                          "#ed7953"
                        ],
                        [
                          0.7777777777777778,
                          "#fb9f3a"
                        ],
                        [
                          0.8888888888888888,
                          "#fdca26"
                        ],
                        [
                          1,
                          "#f0f921"
                        ]
                      ],
                      "type": "heatmap"
                    }
                  ],
                  "histogram2dcontour": [
                    {
                      "colorbar": {
                        "outlinewidth": 0,
                        "ticks": ""
                      },
                      "colorscale": [
                        [
                          0,
                          "#0d0887"
                        ],
                        [
                          0.1111111111111111,
                          "#46039f"
                        ],
                        [
                          0.2222222222222222,
                          "#7201a8"
                        ],
                        [
                          0.3333333333333333,
                          "#9c179e"
                        ],
                        [
                          0.4444444444444444,
                          "#bd3786"
                        ],
                        [
                          0.5555555555555556,
                          "#d8576b"
                        ],
                        [
                          0.6666666666666666,
                          "#ed7953"
                        ],
                        [
                          0.7777777777777778,
                          "#fb9f3a"
                        ],
                        [
                          0.8888888888888888,
                          "#fdca26"
                        ],
                        [
                          1,
                          "#f0f921"
                        ]
                      ],
                      "type": "histogram2dcontour"
                    }
                  ],
                  "histogram2d": [
                    {
                      "colorbar": {
                        "outlinewidth": 0,
                        "ticks": ""
                      },
                      "colorscale": [
                        [
                          0,
                          "#0d0887"
                        ],
                        [
                          0.1111111111111111,
                          "#46039f"
                        ],
                        [
                          0.2222222222222222,
                          "#7201a8"
                        ],
                        [
                          0.3333333333333333,
                          "#9c179e"
                        ],
                        [
                          0.4444444444444444,
                          "#bd3786"
                        ],
                        [
                          0.5555555555555556,
                          "#d8576b"
                        ],
                        [
                          0.6666666666666666,
                          "#ed7953"
                        ],
                        [
                          0.7777777777777778,
                          "#fb9f3a"
                        ],
                        [
                          0.8888888888888888,
                          "#fdca26"
                        ],
                        [
                          1,
                          "#f0f921"
                        ]
                      ],
                      "type": "histogram2d"
                    }
                  ],
                  "histogram": [
                    {
                      "marker": {
                        "pattern": {
                          "fillmode": "overlay",
                          "size": 10,
                          "solidity": 0.2
                        }
                      },
                      "type": "histogram"
                    }
                  ],
                  "mesh3d": [
                    {
                      "colorbar": {
                        "outlinewidth": 0,
                        "ticks": ""
                      },
                      "type": "mesh3d"
                    }
                  ],
                  "parcoords": [
                    {
                      "line": {
                        "colorbar": {
                          "outlinewidth": 0,
                          "ticks": ""
                        }
                      },
                      "type": "parcoords"
                    }
                  ],
                  "pie": [
                    {
                      "automargin": true,
                      "type": "pie"
                    }
                  ],
                  "scatter3d": [
                    {
                      "line": {
                        "colorbar": {
                          "outlinewidth": 0,
                          "ticks": ""
                        }
                      },
                      "marker": {
                        "colorbar": {
                          "outlinewidth": 0,
                          "ticks": ""
                        }
                      },
                      "type": "scatter3d"
                    }
                  ],
                  "scattercarpet": [
                    {
                      "marker": {
                        "colorbar": {
                          "outlinewidth": 0,
                          "ticks": ""
                        }
                      },
                      "type": "scattercarpet"
                    }
                  ],
                  "scattergeo": [
                    {
                      "marker": {
                        "colorbar": {
                          "outlinewidth": 0,
                          "ticks": ""
                        }
                      },
                      "type": "scattergeo"
                    }
                  ],
                  "scattergl": [
                    {
                      "marker": {
                        "colorbar": {
                          "outlinewidth": 0,
                          "ticks": ""
                        }
                      },
                      "type": "scattergl"
                    }
                  ],
                  "scattermapbox": [
                    {
                      "marker": {
                        "colorbar": {
                          "outlinewidth": 0,
                          "ticks": ""
                        }
                      },
                      "type": "scattermapbox"
                    }
                  ],
                  "scatterpolargl": [
                    {
                      "marker": {
                        "colorbar": {
                          "outlinewidth": 0,
                          "ticks": ""
                        }
                      },
                      "type": "scatterpolargl"
                    }
                  ],
                  "scatterpolar": [
                    {
                      "marker": {
                        "colorbar": {
                          "outlinewidth": 0,
                          "ticks": ""
                        }
                      },
                      "type": "scatterpolar"
                    }
                  ],
                  "scatter": [
                    {
                      "fillpattern": {
                        "fillmode": "overlay",
                        "size": 10,
                        "solidity": 0.2
                      },
                      "type": "scatter"
                    }
                  ],
                  "scatterternary": [
                    {
                      "marker": {
                        "colorbar": {
                          "outlinewidth": 0,
                          "ticks": ""
                        }
                      },
                      "type": "scatterternary"
                    }
                  ],
                  "surface": [
                    {
                      "colorbar": {
                        "outlinewidth": 0,
                        "ticks": ""
                      },
                      "colorscale": [
                        [
                          0,
                          "#0d0887"
                        ],
                        [
                          0.1111111111111111,
                          "#46039f"
                        ],
                        [
                          0.2222222222222222,
                          "#7201a8"
                        ],
                        [
                          0.3333333333333333,
                          "#9c179e"
                        ],
                        [
                          0.4444444444444444,
                          "#bd3786"
                        ],
                        [
                          0.5555555555555556,
                          "#d8576b"
                        ],
                        [
                          0.6666666666666666,
                          "#ed7953"
                        ],
                        [
                          0.7777777777777778,
                          "#fb9f3a"
                        ],
                        [
                          0.8888888888888888,
                          "#fdca26"
                        ],
                        [
                          1,
                          "#f0f921"
                        ]
                      ],
                      "type": "surface"
                    }
                  ],
                  "table": [
                    {
                      "cells": {
                        "fill": {
                          "color": "#EBF0F8"
                        },
                        "line": {
                          "color": "white"
                        }
                      },
                      "header": {
                        "fill": {
                          "color": "#C8D4E3"
                        },
                        "line": {
                          "color": "white"
                        }
                      },
                      "type": "table"
                    }
                  ]
                },
                "layout": {
                  "annotationdefaults": {
                    "arrowcolor": "#2a3f5f",
                    "arrowhead": 0,
                    "arrowwidth": 1
                  },
                  "autotypenumbers": "strict",
                  "coloraxis": {
                    "colorbar": {
                      "outlinewidth": 0,
                      "ticks": ""
                    }
                  },
                  "colorscale": {
                    "diverging": [
                      [
                        0,
                        "#8e0152"
                      ],
                      [
                        0.1,
                        "#c51b7d"
                      ],
                      [
                        0.2,
                        "#de77ae"
                      ],
                      [
                        0.3,
                        "#f1b6da"
                      ],
                      [
                        0.4,
                        "#fde0ef"
                      ],
                      [
                        0.5,
                        "#f7f7f7"
                      ],
                      [
                        0.6,
                        "#e6f5d0"
                      ],
                      [
                        0.7,
                        "#b8e186"
                      ],
                      [
                        0.8,
                        "#7fbc41"
                      ],
                      [
                        0.9,
                        "#4d9221"
                      ],
                      [
                        1,
                        "#276419"
                      ]
                    ],
                    "sequential": [
                      [
                        0,
                        "#0d0887"
                      ],
                      [
                        0.1111111111111111,
                        "#46039f"
                      ],
                      [
                        0.2222222222222222,
                        "#7201a8"
                      ],
                      [
                        0.3333333333333333,
                        "#9c179e"
                      ],
                      [
                        0.4444444444444444,
                        "#bd3786"
                      ],
                      [
                        0.5555555555555556,
                        "#d8576b"
                      ],
                      [
                        0.6666666666666666,
                        "#ed7953"
                      ],
                      [
                        0.7777777777777778,
                        "#fb9f3a"
                      ],
                      [
                        0.8888888888888888,
                        "#fdca26"
                      ],
                      [
                        1,
                        "#f0f921"
                      ]
                    ],
                    "sequentialminus": [
                      [
                        0,
                        "#0d0887"
                      ],
                      [
                        0.1111111111111111,
                        "#46039f"
                      ],
                      [
                        0.2222222222222222,
                        "#7201a8"
                      ],
                      [
                        0.3333333333333333,
                        "#9c179e"
                      ],
                      [
                        0.4444444444444444,
                        "#bd3786"
                      ],
                      [
                        0.5555555555555556,
                        "#d8576b"
                      ],
                      [
                        0.6666666666666666,
                        "#ed7953"
                      ],
                      [
                        0.7777777777777778,
                        "#fb9f3a"
                      ],
                      [
                        0.8888888888888888,
                        "#fdca26"
                      ],
                      [
                        1,
                        "#f0f921"
                      ]
                    ]
                  },
                  "colorway": [
                    "#636efa",
                    "#EF553B",
                    "#00cc96",
                    "#ab63fa",
                    "#FFA15A",
                    "#19d3f3",
                    "#FF6692",
                    "#B6E880",
                    "#FF97FF",
                    "#FECB52"
                  ],
                  "font": {
                    "color": "#2a3f5f"
                  },
                  "geo": {
                    "bgcolor": "white",
                    "lakecolor": "white",
                    "landcolor": "#E5ECF6",
                    "showlakes": true,
                    "showland": true,
                    "subunitcolor": "white"
                  },
                  "hoverlabel": {
                    "align": "left"
                  },
                  "hovermode": "closest",
                  "mapbox": {
                    "style": "light"
                  },
                  "paper_bgcolor": "white",
                  "plot_bgcolor": "#E5ECF6",
                  "polar": {
                    "angularaxis": {
                      "gridcolor": "white",
                      "linecolor": "white",
                      "ticks": ""
                    },
                    "bgcolor": "#E5ECF6",
                    "radialaxis": {
                      "gridcolor": "white",
                      "linecolor": "white",
                      "ticks": ""
                    }
                  },
                  "scene": {
                    "xaxis": {
                      "backgroundcolor": "#E5ECF6",
                      "gridcolor": "white",
                      "gridwidth": 2,
                      "linecolor": "white",
                      "showbackground": true,
                      "ticks": "",
                      "zerolinecolor": "white"
                    },
                    "yaxis": {
                      "backgroundcolor": "#E5ECF6",
                      "gridcolor": "white",
                      "gridwidth": 2,
                      "linecolor": "white",
                      "showbackground": true,
                      "ticks": "",
                      "zerolinecolor": "white"
                    },
                    "zaxis": {
                      "backgroundcolor": "#E5ECF6",
                      "gridcolor": "white",
                      "gridwidth": 2,
                      "linecolor": "white",
                      "showbackground": true,
                      "ticks": "",
                      "zerolinecolor": "white"
                    }
                  },
                  "shapedefaults": {
                    "line": {
                      "color": "#2a3f5f"
                    }
                  },
                  "ternary": {
                    "aaxis": {
                      "gridcolor": "white",
                      "linecolor": "white",
                      "ticks": ""
                    },
                    "baxis": {
                      "gridcolor": "white",
                      "linecolor": "white",
                      "ticks": ""
                    },
                    "bgcolor": "#E5ECF6",
                    "caxis": {
                      "gridcolor": "white",
                      "linecolor": "white",
                      "ticks": ""
                    }
                  },
                  "title": {
                    "x": 0.05
                  },
                  "xaxis": {
                    "automargin": true,
                    "gridcolor": "white",
                    "linecolor": "white",
                    "ticks": "",
                    "title": {
                      "standoff": 15
                    },
                    "zerolinecolor": "white",
                    "zerolinewidth": 2
                  },
                  "yaxis": {
                    "automargin": true,
                    "gridcolor": "white",
                    "linecolor": "white",
                    "ticks": "",
                    "title": {
                      "standoff": 15
                    },
                    "zerolinecolor": "white",
                    "zerolinewidth": 2
                  }
                }
              },
              "xaxis": {
                "anchor": "y",
                "domain": [
                  0,
                  1
                ],
                "matches": "x3",
                "showticklabels": false
              },
              "yaxis": {
                "anchor": "x",
                "domain": [
                  0.6944444444444444,
                  1
                ]
              },
              "xaxis2": {
                "anchor": "y2",
                "domain": [
                  0,
                  1
                ],
                "matches": "x3",
                "showticklabels": false
              },
              "yaxis2": {
                "anchor": "x2",
                "domain": [
                  0.3472222222222222,
                  0.6527777777777777
                ]
              },
              "xaxis3": {
                "anchor": "y3",
                "domain": [
                  0,
                  1
                ]
              },
              "yaxis3": {
                "anchor": "x3",
                "domain": [
                  0,
                  0.3055555555555555
                ]
              }
            },
            "_model_module": "jupyterlab-plotly",
            "_model_module_version": "^5.13.1",
            "_model_name": "FigureModel",
            "_py2js_addTraces": null,
            "_py2js_animate": {},
            "_py2js_deleteTraces": {},
            "_py2js_moveTraces": {},
            "_py2js_relayout": null,
            "_py2js_removeLayoutProps": {},
            "_py2js_removeTraceProps": {},
            "_py2js_restyle": null,
            "_py2js_update": null,
            "_view_count": 0,
            "_view_module": "jupyterlab-plotly",
            "_view_module_version": "^5.13.1",
            "_view_name": "FigureView"
          }
        }
      }
    }
  },
  "nbformat": 4,
  "nbformat_minor": 0
}